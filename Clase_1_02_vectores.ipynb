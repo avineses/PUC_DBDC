{
  "nbformat": 4,
  "nbformat_minor": 0,
  "metadata": {
    "colab": {
      "name": "Clase_1_02_vectores.ipynb",
      "provenance": [],
      "collapsed_sections": [],
      "include_colab_link": true
    },
    "kernelspec": {
      "name": "ir",
      "display_name": "R"
    }
  },
  "cells": [
    {
      "cell_type": "markdown",
      "metadata": {
        "id": "view-in-github",
        "colab_type": "text"
      },
      "source": [
        "<a href=\"https://colab.research.google.com/github/avineses/PUC_DBDC/blob/main/Clase_1_02_vectores.ipynb\" target=\"_parent\"><img src=\"https://colab.research.google.com/assets/colab-badge.svg\" alt=\"Open In Colab\"/></a>"
      ]
    },
    {
      "cell_type": "markdown",
      "metadata": {
        "collapsed": true,
        "id": "Yb2RXjL2Igun"
      },
      "source": [
        "# Parte 1: Introducción a R (continuación)\n",
        "\n",
        "**Autor:** Miguel Jorquera Viguera<br>\n",
        "**E-mail:** majorquev@gmail.com<br>\n",
        "**Ayudante:** Ángel Ubilla Vera <br>\n",
        "**E-mail ayudante:** angelubilla@gmail.com\n",
        "\n"
      ]
    },
    {
      "cell_type": "markdown",
      "metadata": {
        "id": "d_bHZs66Iguo"
      },
      "source": [
        "## 3. Vectores y matrices\n",
        "\n",
        "### 3.1 Vectores\n",
        "\n",
        "En R, así como en la mayoría de los lenguajes de programación, uno de los objetos más usuales para almacenar información son los vectores, los que corresponden a arreglos unidimensionales que almacenan un mismo tipo de dato en cada una de sus entradas.\n",
        "\n",
        "Todo vector en R se puede declarar con la letra \"c\" seguido de los elementos que lo componen entre paréntesis y separados por comas."
      ]
    },
    {
      "cell_type": "code",
      "metadata": {
        "id": "ljQ0JcsTIgup"
      },
      "source": [
        "# Declaración de dos vectores\n"
      ],
      "execution_count": null,
      "outputs": []
    },
    {
      "cell_type": "code",
      "metadata": {
        "id": "GxHhDdS4Iguy"
      },
      "source": [
        "# clase y tipo de dato\n"
      ],
      "execution_count": null,
      "outputs": []
    },
    {
      "cell_type": "code",
      "metadata": {
        "id": "FUBvbIN9Igu4"
      },
      "source": [
        "# vectores lógicos\n"
      ],
      "execution_count": null,
      "outputs": []
    },
    {
      "cell_type": "code",
      "metadata": {
        "id": "R88mjniaIgu_"
      },
      "source": [
        "# Nombres de las entradas de un vector\n",
        "\n"
      ],
      "execution_count": null,
      "outputs": []
    },
    {
      "cell_type": "code",
      "metadata": {
        "id": "OAhPpN3vIgvB"
      },
      "source": [
        "# podemos asignar los nombres a vector 1\n"
      ],
      "execution_count": null,
      "outputs": []
    },
    {
      "cell_type": "code",
      "metadata": {
        "id": "E6dxkyP5IgvF"
      },
      "source": [
        "# nombres de las entradas con la función, names()\n"
      ],
      "execution_count": null,
      "outputs": []
    },
    {
      "cell_type": "code",
      "metadata": {
        "id": "7Ayre5BlIgvH"
      },
      "source": [
        "#combinar vectores\n"
      ],
      "execution_count": null,
      "outputs": []
    },
    {
      "cell_type": "code",
      "metadata": {
        "id": "QETBghXxIgvI"
      },
      "source": [
        "# c : es una abreviación de \"combine\"\n"
      ],
      "execution_count": null,
      "outputs": []
    },
    {
      "cell_type": "markdown",
      "metadata": {
        "id": "MX35j24_IgvN"
      },
      "source": [
        "#### 3.1.1 Acceso a los elementos de un vector\n",
        "\n",
        "El acceso a los elementos de un vector se puede llevar acabo indicando la posición del elemento (los naturales parten en 1!), el nombre de la casilla que lo contiene, o bien mediante sentencias lógicas que retornen \"TRUE\" en la posición deseada.\n",
        "\n"
      ]
    },
    {
      "cell_type": "code",
      "metadata": {
        "id": "zW2_TzKxIgvN"
      },
      "source": [
        "# Mediante posición\n"
      ],
      "execution_count": null,
      "outputs": []
    },
    {
      "cell_type": "code",
      "metadata": {
        "id": "XWL1ZIyMIgvR"
      },
      "source": [
        "# retorna los elementos de las casillas 1  y 4 de vector2\n"
      ],
      "execution_count": null,
      "outputs": []
    },
    {
      "cell_type": "code",
      "metadata": {
        "id": "uBqEKq1aIgvT"
      },
      "source": [
        "#NOTA 3:5, R lo interpreta como c(3,4,5)\n"
      ],
      "execution_count": null,
      "outputs": []
    },
    {
      "cell_type": "code",
      "metadata": {
        "id": "XIuQSfvKIgvV"
      },
      "source": [
        "# podemos acceder a los elmentos mediante el nombre\n"
      ],
      "execution_count": null,
      "outputs": []
    },
    {
      "cell_type": "code",
      "metadata": {
        "id": "IHjnaSSyIgvX"
      },
      "source": [
        "# cambiar una entrada de un vector o cambiar un nombre\n"
      ],
      "execution_count": null,
      "outputs": []
    },
    {
      "cell_type": "code",
      "metadata": {
        "id": "KCKDbYtRIgvZ"
      },
      "source": [
        ""
      ],
      "execution_count": null,
      "outputs": []
    },
    {
      "cell_type": "code",
      "metadata": {
        "id": "cVzhj4ASIgvb"
      },
      "source": [
        "# podemos cambiar uno de los nombres (ej, queremos cambiar el séptimo nombre)\n"
      ],
      "execution_count": null,
      "outputs": []
    },
    {
      "cell_type": "code",
      "metadata": {
        "id": "b6oqx_D4Igvd"
      },
      "source": [
        "# podemos modificar varias posiciones a la vez\n",
        "# queremos re-asignar los valores \"XX\" y \"ZZ\" en las posiciones 3 y 7 respecivamente\n"
      ],
      "execution_count": null,
      "outputs": []
    },
    {
      "cell_type": "markdown",
      "metadata": {
        "id": "XzyIBLZxIgvg"
      },
      "source": [
        "**Algunas sentencias de utilidad**\n",
        "\n",
        "También es posible acceder a los alementos de un vector mediante sentencias lógicas que retornen \"TRUE\" en la posición deseada. Para ello algunas funciones que son de utilidad son las siguientes.\n",
        "\n",
        "   **Conectores lógicos**\n",
        "\n",
        "    &, && |                  : conector y \n",
        "    |,||                     : conector o\n",
        "    ==                       : igual\n",
        "    !                        : negación\n",
        "    !=                       : distinto\n",
        "    >, >=                    : mayor que, mayor o igual que\n",
        "    <,<=                     : menor que, menor o igual que\n",
        "    is.na()                  : es NA?\n",
        "    which()                  : en qué posición es verdadera la expresión evaluada?\n",
        "    which.min(), which.max() : en qué posición se alcanza el mínimi/máximo\n",
        "    %in%                     : los elementos están en?\n",
        "    \n",
        "    "
      ]
    },
    {
      "cell_type": "code",
      "metadata": {
        "id": "NhZPJo56Igvh"
      },
      "source": [
        "# para acceder a elementos de un vector tenemos:\n",
        "# 1. por posicion\n",
        "# 2. por nombre\n",
        "# 3. por indicatrices lógicas (un vector con TRUE (T) o FALSE (F) del mismo largo del que quiero consultar)\n",
        "\n",
        "\n",
        "\n",
        "\n"
      ],
      "execution_count": null,
      "outputs": []
    },
    {
      "cell_type": "code",
      "metadata": {
        "id": "5C4hDsvSIgvj"
      },
      "source": [
        "# Esto facilita la búsqueda dentro de un un vector. Ej: retornar los elementos mayores aun valor dado\n"
      ],
      "execution_count": null,
      "outputs": []
    },
    {
      "cell_type": "code",
      "metadata": {
        "id": "bj-wjeddIgvl"
      },
      "source": [
        "# con esta idea en mente podríamos, por ejemplo, rescatar las edades con valor mayor o igual a 18 años\n"
      ],
      "execution_count": null,
      "outputs": []
    },
    {
      "cell_type": "code",
      "metadata": {
        "id": "fvq5tBXVIgvm"
      },
      "source": [
        "# podríamos guardar el vector de T o F's en una variable para luego referenciarla\n",
        "\n",
        "indices <- muestra > 25"
      ],
      "execution_count": null,
      "outputs": []
    },
    {
      "cell_type": "code",
      "metadata": {
        "id": "ioUJy8UEIgvz"
      },
      "source": [
        "#?which.max retorna el índice del primer máximo\n",
        "#podemos rescatar el valor mediante el índice guardado\n",
        "ind_max <- which.max(muestra)\n",
        "#el número que retorne es la posición donde se alcance el máximo\n",
        "muestra[ind_max]\n",
        "#el muestra es para poder el valor del máximo encontrado en la posición correspondiente"
      ],
      "execution_count": null,
      "outputs": []
    },
    {
      "cell_type": "code",
      "source": [
        "#OBS: Si en un vector el máximo no es único\n",
        "v <- c(1,1,5,-1,5)"
      ],
      "metadata": {
        "id": "OJVRf7AKKMUj"
      },
      "execution_count": null,
      "outputs": []
    },
    {
      "cell_type": "code",
      "source": [
        "which.max(v)"
      ],
      "metadata": {
        "colab": {
          "base_uri": "https://localhost:8080/",
          "height": 34
        },
        "id": "ZZPKROKnKYym",
        "outputId": "c1ed9481-84cd-4b4d-adc1-e1279e01b5e4"
      },
      "execution_count": null,
      "outputs": [
        {
          "output_type": "display_data",
          "data": {
            "text/html": [
              "3"
            ],
            "text/markdown": "3",
            "text/latex": "3",
            "text/plain": [
              "[1] 3"
            ]
          },
          "metadata": {}
        }
      ]
    },
    {
      "cell_type": "code",
      "source": [
        "which(v ==max(v)) #Para obtener las posiciones"
      ],
      "metadata": {
        "colab": {
          "base_uri": "https://localhost:8080/",
          "height": 34
        },
        "id": "3l-qqgNhKuEY",
        "outputId": "95a61f32-7421-4146-a2b1-51560e41c9ff"
      },
      "execution_count": null,
      "outputs": [
        {
          "output_type": "display_data",
          "data": {
            "text/html": [
              "<style>\n",
              ".list-inline {list-style: none; margin:0; padding: 0}\n",
              ".list-inline>li {display: inline-block}\n",
              ".list-inline>li:not(:last-child)::after {content: \"\\00b7\"; padding: 0 .5ex}\n",
              "</style>\n",
              "<ol class=list-inline><li>3</li><li>5</li></ol>\n"
            ],
            "text/markdown": "1. 3\n2. 5\n\n\n",
            "text/latex": "\\begin{enumerate*}\n\\item 3\n\\item 5\n\\end{enumerate*}\n",
            "text/plain": [
              "[1] 3 5"
            ]
          },
          "metadata": {}
        }
      ]
    },
    {
      "cell_type": "code",
      "source": [
        "v[v == max(v)] #Si quisiéramos los máximos, sabiendo que son dos 5's"
      ],
      "metadata": {
        "colab": {
          "base_uri": "https://localhost:8080/",
          "height": 34
        },
        "id": "OOICKPWtLF_B",
        "outputId": "2e197c3f-1842-4838-fae6-dce692e1ceb8"
      },
      "execution_count": null,
      "outputs": [
        {
          "output_type": "display_data",
          "data": {
            "text/html": [
              "<style>\n",
              ".list-inline {list-style: none; margin:0; padding: 0}\n",
              ".list-inline>li {display: inline-block}\n",
              ".list-inline>li:not(:last-child)::after {content: \"\\00b7\"; padding: 0 .5ex}\n",
              "</style>\n",
              "<ol class=list-inline><li>5</li><li>5</li></ol>\n"
            ],
            "text/markdown": "1. 5\n2. 5\n\n\n",
            "text/latex": "\\begin{enumerate*}\n\\item 5\n\\item 5\n\\end{enumerate*}\n",
            "text/plain": [
              "[1] 5 5"
            ]
          },
          "metadata": {}
        }
      ]
    },
    {
      "cell_type": "code",
      "metadata": {
        "id": "_8-SMxfWIgv0",
        "colab": {
          "base_uri": "https://localhost:8080/",
          "height": 34
        },
        "outputId": "e8dc1dcb-f94f-43cf-9827-7abcfeca1593"
      },
      "source": [
        "# Operador %in%\n",
        "# vector_a %in% vector_b (qué elementos del vector a están en el vector b)\n",
        "# retorna un  vector de TRUE's y FALSE's del largo del primer vector(a) (izquierda) \n",
        "\n",
        "a <- c(11,12,13)\n",
        "b <- c(5,13,10,11)\n",
        "\n",
        "a %in% b #Retorna TRUE en las posiciones del 11 y 13"
      ],
      "execution_count": null,
      "outputs": [
        {
          "output_type": "display_data",
          "data": {
            "text/html": [
              "<style>\n",
              ".list-inline {list-style: none; margin:0; padding: 0}\n",
              ".list-inline>li {display: inline-block}\n",
              ".list-inline>li:not(:last-child)::after {content: \"\\00b7\"; padding: 0 .5ex}\n",
              "</style>\n",
              "<ol class=list-inline><li>TRUE</li><li>FALSE</li><li>TRUE</li></ol>\n"
            ],
            "text/markdown": "1. TRUE\n2. FALSE\n3. TRUE\n\n\n",
            "text/latex": "\\begin{enumerate*}\n\\item TRUE\n\\item FALSE\n\\item TRUE\n\\end{enumerate*}\n",
            "text/plain": [
              "[1]  TRUE FALSE  TRUE"
            ]
          },
          "metadata": {}
        }
      ]
    },
    {
      "cell_type": "code",
      "source": [
        "#Para el caso de querer los elementos de a que están en b\n",
        "a[a %in% b]"
      ],
      "metadata": {
        "colab": {
          "base_uri": "https://localhost:8080/",
          "height": 34
        },
        "id": "2hBfV-zcL6uv",
        "outputId": "7187b82a-5503-4b54-b438-1f1c8c15cedf"
      },
      "execution_count": null,
      "outputs": [
        {
          "output_type": "display_data",
          "data": {
            "text/html": [
              "<style>\n",
              ".list-inline {list-style: none; margin:0; padding: 0}\n",
              ".list-inline>li {display: inline-block}\n",
              ".list-inline>li:not(:last-child)::after {content: \"\\00b7\"; padding: 0 .5ex}\n",
              "</style>\n",
              "<ol class=list-inline><li>11</li><li>13</li></ol>\n"
            ],
            "text/markdown": "1. 11\n2. 13\n\n\n",
            "text/latex": "\\begin{enumerate*}\n\\item 11\n\\item 13\n\\end{enumerate*}\n",
            "text/plain": [
              "[1] 11 13"
            ]
          },
          "metadata": {}
        }
      ]
    },
    {
      "cell_type": "code",
      "metadata": {
        "id": "s9bYOQ4GIgv2"
      },
      "source": [
        "# podemos utilizar la función all() para evaluar si todos los elementos de un vector son TRUE.\n",
        "all(c(T,T,T))\n",
        "all(c(T,F,T))"
      ],
      "execution_count": null,
      "outputs": []
    },
    {
      "cell_type": "code",
      "source": [
        "v <- rep(1000,5)\n",
        "v[37] <- 4"
      ],
      "metadata": {
        "id": "8RwV8APMMgCJ"
      },
      "execution_count": null,
      "outputs": []
    },
    {
      "cell_type": "code",
      "metadata": {
        "id": "Wd-mSv3PIgv4"
      },
      "source": [
        "# si quisiéramos evaluar que todos los elementos de la izq. estén en la derecha,\n",
        "# podemos utilizar la función all()."
      ],
      "execution_count": null,
      "outputs": []
    },
    {
      "cell_type": "code",
      "metadata": {
        "id": "Zn85mjGmIgv5"
      },
      "source": [
        ""
      ],
      "execution_count": null,
      "outputs": []
    },
    {
      "cell_type": "code",
      "metadata": {
        "id": "1YGnzt1zIgv7"
      },
      "source": [
        "# aritmética con vectores\n",
        "# operación de vectore de igual largo\n",
        "v1 <- 1:4\n",
        "v2 <- c(1,2,6,2)\n"
      ],
      "execution_count": null,
      "outputs": []
    },
    {
      "cell_type": "code",
      "source": [
        "v1\n",
        "v2"
      ],
      "metadata": {
        "colab": {
          "base_uri": "https://localhost:8080/",
          "height": 52
        },
        "id": "1wBRJdS0NVTt",
        "outputId": "2f88fe19-8084-4ad8-bf80-df11aed104dd"
      },
      "execution_count": null,
      "outputs": [
        {
          "output_type": "display_data",
          "data": {
            "text/html": [
              "<style>\n",
              ".list-inline {list-style: none; margin:0; padding: 0}\n",
              ".list-inline>li {display: inline-block}\n",
              ".list-inline>li:not(:last-child)::after {content: \"\\00b7\"; padding: 0 .5ex}\n",
              "</style>\n",
              "<ol class=list-inline><li>1</li><li>2</li><li>3</li><li>4</li></ol>\n"
            ],
            "text/markdown": "1. 1\n2. 2\n3. 3\n4. 4\n\n\n",
            "text/latex": "\\begin{enumerate*}\n\\item 1\n\\item 2\n\\item 3\n\\item 4\n\\end{enumerate*}\n",
            "text/plain": [
              "[1] 1 2 3 4"
            ]
          },
          "metadata": {}
        },
        {
          "output_type": "display_data",
          "data": {
            "text/html": [
              "<style>\n",
              ".list-inline {list-style: none; margin:0; padding: 0}\n",
              ".list-inline>li {display: inline-block}\n",
              ".list-inline>li:not(:last-child)::after {content: \"\\00b7\"; padding: 0 .5ex}\n",
              "</style>\n",
              "<ol class=list-inline><li>1</li><li>2</li><li>6</li><li>2</li></ol>\n"
            ],
            "text/markdown": "1. 1\n2. 2\n3. 6\n4. 2\n\n\n",
            "text/latex": "\\begin{enumerate*}\n\\item 1\n\\item 2\n\\item 6\n\\item 2\n\\end{enumerate*}\n",
            "text/plain": [
              "[1] 1 2 6 2"
            ]
          },
          "metadata": {}
        }
      ]
    },
    {
      "cell_type": "code",
      "source": [
        "v1 + v2 #suma componente a componente\n",
        "v1*v2 #multiplica componente a componente"
      ],
      "metadata": {
        "id": "aZjSQuESNaQx"
      },
      "execution_count": null,
      "outputs": []
    },
    {
      "cell_type": "code",
      "metadata": {
        "id": "Bw8lX76XIgv8"
      },
      "source": [
        "#ponderaciones por escalares\n",
        "v2*3"
      ],
      "execution_count": null,
      "outputs": []
    },
    {
      "cell_type": "code",
      "metadata": {
        "id": "syufc9_OIgv_"
      },
      "source": [
        "#CUIDADO: Si se operan vectores de dstinto largo se reciclan los valores del vector más pequeño\n",
        "v3 <- c(5,10)"
      ],
      "execution_count": null,
      "outputs": []
    },
    {
      "cell_type": "code",
      "source": [
        "v1\n",
        "v3"
      ],
      "metadata": {
        "colab": {
          "base_uri": "https://localhost:8080/",
          "height": 52
        },
        "id": "Wu4TBH5tN3Py",
        "outputId": "0f05c7c5-18e4-49e3-c831-e7858f92a739"
      },
      "execution_count": null,
      "outputs": [
        {
          "output_type": "display_data",
          "data": {
            "text/html": [
              "<style>\n",
              ".list-inline {list-style: none; margin:0; padding: 0}\n",
              ".list-inline>li {display: inline-block}\n",
              ".list-inline>li:not(:last-child)::after {content: \"\\00b7\"; padding: 0 .5ex}\n",
              "</style>\n",
              "<ol class=list-inline><li>1</li><li>2</li><li>3</li><li>4</li></ol>\n"
            ],
            "text/markdown": "1. 1\n2. 2\n3. 3\n4. 4\n\n\n",
            "text/latex": "\\begin{enumerate*}\n\\item 1\n\\item 2\n\\item 3\n\\item 4\n\\end{enumerate*}\n",
            "text/plain": [
              "[1] 1 2 3 4"
            ]
          },
          "metadata": {}
        },
        {
          "output_type": "display_data",
          "data": {
            "text/html": [
              "<style>\n",
              ".list-inline {list-style: none; margin:0; padding: 0}\n",
              ".list-inline>li {display: inline-block}\n",
              ".list-inline>li:not(:last-child)::after {content: \"\\00b7\"; padding: 0 .5ex}\n",
              "</style>\n",
              "<ol class=list-inline><li>5</li><li>10</li></ol>\n"
            ],
            "text/markdown": "1. 5\n2. 10\n\n\n",
            "text/latex": "\\begin{enumerate*}\n\\item 5\n\\item 10\n\\end{enumerate*}\n",
            "text/plain": [
              "[1]  5 10"
            ]
          },
          "metadata": {}
        }
      ]
    },
    {
      "cell_type": "code",
      "source": [
        "v1 + v3"
      ],
      "metadata": {
        "colab": {
          "base_uri": "https://localhost:8080/",
          "height": 34
        },
        "id": "7YaUN_efN8va",
        "outputId": "e6325d20-0873-42aa-8a62-076b7258ee0b"
      },
      "execution_count": null,
      "outputs": [
        {
          "output_type": "display_data",
          "data": {
            "text/html": [
              "<style>\n",
              ".list-inline {list-style: none; margin:0; padding: 0}\n",
              ".list-inline>li {display: inline-block}\n",
              ".list-inline>li:not(:last-child)::after {content: \"\\00b7\"; padding: 0 .5ex}\n",
              "</style>\n",
              "<ol class=list-inline><li>6</li><li>12</li><li>8</li><li>14</li></ol>\n"
            ],
            "text/markdown": "1. 6\n2. 12\n3. 8\n4. 14\n\n\n",
            "text/latex": "\\begin{enumerate*}\n\\item 6\n\\item 12\n\\item 8\n\\item 14\n\\end{enumerate*}\n",
            "text/plain": [
              "[1]  6 12  8 14"
            ]
          },
          "metadata": {}
        }
      ]
    },
    {
      "cell_type": "code",
      "source": [
        "#Si el largo del más grande no es múltiplo del largo del más pequeño\n",
        "v4 <- c(10,20,30)"
      ],
      "metadata": {
        "id": "H558wAb_OAp3"
      },
      "execution_count": null,
      "outputs": []
    },
    {
      "cell_type": "code",
      "source": [
        "v1+v4"
      ],
      "metadata": {
        "colab": {
          "base_uri": "https://localhost:8080/",
          "height": 69
        },
        "id": "kWYcnZhsOSXS",
        "outputId": "bbe31966-b022-43a4-ea3a-cd7c24ca6c16"
      },
      "execution_count": null,
      "outputs": [
        {
          "output_type": "stream",
          "name": "stderr",
          "text": [
            "Warning message in v1 + v4:\n",
            "“longer object length is not a multiple of shorter object length”\n"
          ]
        },
        {
          "output_type": "display_data",
          "data": {
            "text/html": [
              "<style>\n",
              ".list-inline {list-style: none; margin:0; padding: 0}\n",
              ".list-inline>li {display: inline-block}\n",
              ".list-inline>li:not(:last-child)::after {content: \"\\00b7\"; padding: 0 .5ex}\n",
              "</style>\n",
              "<ol class=list-inline><li>11</li><li>22</li><li>33</li><li>14</li></ol>\n"
            ],
            "text/markdown": "1. 11\n2. 22\n3. 33\n4. 14\n\n\n",
            "text/latex": "\\begin{enumerate*}\n\\item 11\n\\item 22\n\\item 33\n\\item 14\n\\end{enumerate*}\n",
            "text/plain": [
              "[1] 11 22 33 14"
            ]
          },
          "metadata": {}
        }
      ]
    },
    {
      "cell_type": "code",
      "metadata": {
        "id": "9kfbx6J4IgwC",
        "colab": {
          "base_uri": "https://localhost:8080/",
          "height": 34
        },
        "outputId": "bd030f73-952d-4178-ae65-b0669d3d42cb"
      },
      "source": [
        "# NOTA:\n",
        "# podemos determinar el largo de un vector mediante la función length()\n",
        "length(v4)"
      ],
      "execution_count": null,
      "outputs": [
        {
          "output_type": "display_data",
          "data": {
            "text/html": [
              "3"
            ],
            "text/markdown": "3",
            "text/latex": "3",
            "text/plain": [
              "[1] 3"
            ]
          },
          "metadata": {}
        }
      ]
    },
    {
      "cell_type": "markdown",
      "metadata": {
        "id": "LIr-IFowIgwD"
      },
      "source": [
        "**Secuencias**\n",
        "\n",
        "En R es posible generar de manera rápida y sencilla algunas secuencias numéricas y almacenarlas en un vector.\n",
        "\n",
        "Ejemplo de estas funciones son :\n",
        "\n",
        "    rep()\n",
        "    seq()\n",
        "    \n",
        "Más adelante veremos como generar números aleatorios siguiendo alguna función de distribución de interés.\n",
        "\n"
      ]
    },
    {
      "cell_type": "code",
      "metadata": {
        "id": "wk0fB_gWIgwE"
      },
      "source": [
        "# a vimos que fácilmente ppodemos generar vectores de enteros consecutivos vía \":\"\n",
        "1:10"
      ],
      "execution_count": null,
      "outputs": []
    },
    {
      "cell_type": "code",
      "metadata": {
        "id": "rG-Q3PmhIgwG",
        "colab": {
          "base_uri": "https://localhost:8080/",
          "height": 86
        },
        "outputId": "f97ee692-9257-4426-8e9e-d9d9dd046c53"
      },
      "source": [
        "# Ejemplo de secuencia con rep (utilice distintos tipos de datos)\n",
        "rep(4,10)\n",
        "rep(x=4, times=10)\n",
        "rep(times=10, x=4)\n",
        "rep(10,4)"
      ],
      "execution_count": null,
      "outputs": [
        {
          "output_type": "display_data",
          "data": {
            "text/html": [
              "<style>\n",
              ".list-inline {list-style: none; margin:0; padding: 0}\n",
              ".list-inline>li {display: inline-block}\n",
              ".list-inline>li:not(:last-child)::after {content: \"\\00b7\"; padding: 0 .5ex}\n",
              "</style>\n",
              "<ol class=list-inline><li>4</li><li>4</li><li>4</li><li>4</li><li>4</li><li>4</li><li>4</li><li>4</li><li>4</li><li>4</li></ol>\n"
            ],
            "text/markdown": "1. 4\n2. 4\n3. 4\n4. 4\n5. 4\n6. 4\n7. 4\n8. 4\n9. 4\n10. 4\n\n\n",
            "text/latex": "\\begin{enumerate*}\n\\item 4\n\\item 4\n\\item 4\n\\item 4\n\\item 4\n\\item 4\n\\item 4\n\\item 4\n\\item 4\n\\item 4\n\\end{enumerate*}\n",
            "text/plain": [
              " [1] 4 4 4 4 4 4 4 4 4 4"
            ]
          },
          "metadata": {}
        },
        {
          "output_type": "display_data",
          "data": {
            "text/html": [
              "<style>\n",
              ".list-inline {list-style: none; margin:0; padding: 0}\n",
              ".list-inline>li {display: inline-block}\n",
              ".list-inline>li:not(:last-child)::after {content: \"\\00b7\"; padding: 0 .5ex}\n",
              "</style>\n",
              "<ol class=list-inline><li>4</li><li>4</li><li>4</li><li>4</li><li>4</li><li>4</li><li>4</li><li>4</li><li>4</li><li>4</li></ol>\n"
            ],
            "text/markdown": "1. 4\n2. 4\n3. 4\n4. 4\n5. 4\n6. 4\n7. 4\n8. 4\n9. 4\n10. 4\n\n\n",
            "text/latex": "\\begin{enumerate*}\n\\item 4\n\\item 4\n\\item 4\n\\item 4\n\\item 4\n\\item 4\n\\item 4\n\\item 4\n\\item 4\n\\item 4\n\\end{enumerate*}\n",
            "text/plain": [
              " [1] 4 4 4 4 4 4 4 4 4 4"
            ]
          },
          "metadata": {}
        },
        {
          "output_type": "display_data",
          "data": {
            "text/html": [
              "<style>\n",
              ".list-inline {list-style: none; margin:0; padding: 0}\n",
              ".list-inline>li {display: inline-block}\n",
              ".list-inline>li:not(:last-child)::after {content: \"\\00b7\"; padding: 0 .5ex}\n",
              "</style>\n",
              "<ol class=list-inline><li>4</li><li>4</li><li>4</li><li>4</li><li>4</li><li>4</li><li>4</li><li>4</li><li>4</li><li>4</li></ol>\n"
            ],
            "text/markdown": "1. 4\n2. 4\n3. 4\n4. 4\n5. 4\n6. 4\n7. 4\n8. 4\n9. 4\n10. 4\n\n\n",
            "text/latex": "\\begin{enumerate*}\n\\item 4\n\\item 4\n\\item 4\n\\item 4\n\\item 4\n\\item 4\n\\item 4\n\\item 4\n\\item 4\n\\item 4\n\\end{enumerate*}\n",
            "text/plain": [
              " [1] 4 4 4 4 4 4 4 4 4 4"
            ]
          },
          "metadata": {}
        },
        {
          "output_type": "display_data",
          "data": {
            "text/html": [
              "<style>\n",
              ".list-inline {list-style: none; margin:0; padding: 0}\n",
              ".list-inline>li {display: inline-block}\n",
              ".list-inline>li:not(:last-child)::after {content: \"\\00b7\"; padding: 0 .5ex}\n",
              "</style>\n",
              "<ol class=list-inline><li>10</li><li>10</li><li>10</li><li>10</li></ol>\n"
            ],
            "text/markdown": "1. 10\n2. 10\n3. 10\n4. 10\n\n\n",
            "text/latex": "\\begin{enumerate*}\n\\item 10\n\\item 10\n\\item 10\n\\item 10\n\\end{enumerate*}\n",
            "text/plain": [
              "[1] 10 10 10 10"
            ]
          },
          "metadata": {}
        }
      ]
    },
    {
      "cell_type": "code",
      "source": [
        "rep(x = c(1,2,4), times = 10)\n",
        "rep(c(1,2,4), 10)"
      ],
      "metadata": {
        "colab": {
          "base_uri": "https://localhost:8080/",
          "height": 34
        },
        "id": "j5lsZY-kPrEh",
        "outputId": "c9ae9a51-838e-4562-d9af-33542e9b8cd1"
      },
      "execution_count": null,
      "outputs": [
        {
          "output_type": "display_data",
          "data": {
            "text/html": [
              "<style>\n",
              ".list-inline {list-style: none; margin:0; padding: 0}\n",
              ".list-inline>li {display: inline-block}\n",
              ".list-inline>li:not(:last-child)::after {content: \"\\00b7\"; padding: 0 .5ex}\n",
              "</style>\n",
              "<ol class=list-inline><li>1</li><li>2</li><li>4</li><li>1</li><li>2</li><li>4</li><li>1</li><li>2</li><li>4</li><li>1</li><li>2</li><li>4</li><li>1</li><li>2</li><li>4</li><li>1</li><li>2</li><li>4</li><li>1</li><li>2</li><li>4</li><li>1</li><li>2</li><li>4</li><li>1</li><li>2</li><li>4</li><li>1</li><li>2</li><li>4</li></ol>\n"
            ],
            "text/markdown": "1. 1\n2. 2\n3. 4\n4. 1\n5. 2\n6. 4\n7. 1\n8. 2\n9. 4\n10. 1\n11. 2\n12. 4\n13. 1\n14. 2\n15. 4\n16. 1\n17. 2\n18. 4\n19. 1\n20. 2\n21. 4\n22. 1\n23. 2\n24. 4\n25. 1\n26. 2\n27. 4\n28. 1\n29. 2\n30. 4\n\n\n",
            "text/latex": "\\begin{enumerate*}\n\\item 1\n\\item 2\n\\item 4\n\\item 1\n\\item 2\n\\item 4\n\\item 1\n\\item 2\n\\item 4\n\\item 1\n\\item 2\n\\item 4\n\\item 1\n\\item 2\n\\item 4\n\\item 1\n\\item 2\n\\item 4\n\\item 1\n\\item 2\n\\item 4\n\\item 1\n\\item 2\n\\item 4\n\\item 1\n\\item 2\n\\item 4\n\\item 1\n\\item 2\n\\item 4\n\\end{enumerate*}\n",
            "text/plain": [
              " [1] 1 2 4 1 2 4 1 2 4 1 2 4 1 2 4 1 2 4 1 2 4 1 2 4 1 2 4 1 2 4"
            ]
          },
          "metadata": {}
        }
      ]
    },
    {
      "cell_type": "code",
      "metadata": {
        "id": "PpEgoWDXIgwI",
        "colab": {
          "base_uri": "https://localhost:8080/",
          "height": 34
        },
        "outputId": "7aa61af5-8264-4c82-a142-69739a091a5d"
      },
      "source": [
        "# podemos controlar el largo del vector resultante con el parámetro length.out\n",
        "rep(c(1,2,4),length.out = 11)"
      ],
      "execution_count": null,
      "outputs": [
        {
          "output_type": "display_data",
          "data": {
            "text/html": [
              "<style>\n",
              ".list-inline {list-style: none; margin:0; padding: 0}\n",
              ".list-inline>li {display: inline-block}\n",
              ".list-inline>li:not(:last-child)::after {content: \"\\00b7\"; padding: 0 .5ex}\n",
              "</style>\n",
              "<ol class=list-inline><li>1</li><li>2</li><li>4</li><li>1</li><li>2</li><li>4</li><li>1</li><li>2</li><li>4</li><li>1</li><li>2</li></ol>\n"
            ],
            "text/markdown": "1. 1\n2. 2\n3. 4\n4. 1\n5. 2\n6. 4\n7. 1\n8. 2\n9. 4\n10. 1\n11. 2\n\n\n",
            "text/latex": "\\begin{enumerate*}\n\\item 1\n\\item 2\n\\item 4\n\\item 1\n\\item 2\n\\item 4\n\\item 1\n\\item 2\n\\item 4\n\\item 1\n\\item 2\n\\end{enumerate*}\n",
            "text/plain": [
              " [1] 1 2 4 1 2 4 1 2 4 1 2"
            ]
          },
          "metadata": {}
        }
      ]
    },
    {
      "cell_type": "code",
      "metadata": {
        "id": "gGkgGylnIgwK"
      },
      "source": [
        "# ejemplo de función seq (utilice argumento by, y otro ejemplo con argumento length.out)\n",
        "?seq"
      ],
      "execution_count": null,
      "outputs": []
    },
    {
      "cell_type": "code",
      "source": [
        "seq(3,8,0.1) #Secuencia desde el 3 hasta el 8 con incrementos de 0.1"
      ],
      "metadata": {
        "colab": {
          "base_uri": "https://localhost:8080/",
          "height": 165
        },
        "id": "KDryZB5tRSOI",
        "outputId": "8cfb3f34-ac03-43d5-e93e-a223118ded07"
      },
      "execution_count": null,
      "outputs": [
        {
          "output_type": "error",
          "ename": "ERROR",
          "evalue": "ignored",
          "traceback": [
            "Error in seq.default(3, 8, 0, 1): too many arguments\nTraceback:\n",
            "1. seq(3, 8, 0, 1)",
            "2. seq.default(3, 8, 0, 1)",
            "3. stop(\"too many arguments\")"
          ]
        }
      ]
    },
    {
      "cell_type": "code",
      "source": [
        "seq(3,8)\n",
        "seq(3,8,length.out = 100)"
      ],
      "metadata": {
        "colab": {
          "base_uri": "https://localhost:8080/",
          "height": 208
        },
        "id": "F7ZhCRpRQwUF",
        "outputId": "af12d496-9339-4665-f397-5c87e2072538"
      },
      "execution_count": null,
      "outputs": [
        {
          "output_type": "display_data",
          "data": {
            "text/html": [
              "<style>\n",
              ".list-inline {list-style: none; margin:0; padding: 0}\n",
              ".list-inline>li {display: inline-block}\n",
              ".list-inline>li:not(:last-child)::after {content: \"\\00b7\"; padding: 0 .5ex}\n",
              "</style>\n",
              "<ol class=list-inline><li>3</li><li>4</li><li>5</li><li>6</li><li>7</li><li>8</li></ol>\n"
            ],
            "text/markdown": "1. 3\n2. 4\n3. 5\n4. 6\n5. 7\n6. 8\n\n\n",
            "text/latex": "\\begin{enumerate*}\n\\item 3\n\\item 4\n\\item 5\n\\item 6\n\\item 7\n\\item 8\n\\end{enumerate*}\n",
            "text/plain": [
              "[1] 3 4 5 6 7 8"
            ]
          },
          "metadata": {}
        },
        {
          "output_type": "display_data",
          "data": {
            "text/html": [
              "<style>\n",
              ".list-inline {list-style: none; margin:0; padding: 0}\n",
              ".list-inline>li {display: inline-block}\n",
              ".list-inline>li:not(:last-child)::after {content: \"\\00b7\"; padding: 0 .5ex}\n",
              "</style>\n",
              "<ol class=list-inline><li>3</li><li>3.05050505050505</li><li>3.1010101010101</li><li>3.15151515151515</li><li>3.2020202020202</li><li>3.25252525252525</li><li>3.3030303030303</li><li>3.35353535353535</li><li>3.4040404040404</li><li>3.45454545454545</li><li>3.50505050505051</li><li>3.55555555555556</li><li>3.60606060606061</li><li>3.65656565656566</li><li>3.70707070707071</li><li>3.75757575757576</li><li>3.80808080808081</li><li>3.85858585858586</li><li>3.90909090909091</li><li>3.95959595959596</li><li>4.01010101010101</li><li>4.06060606060606</li><li>4.11111111111111</li><li>4.16161616161616</li><li>4.21212121212121</li><li>4.26262626262626</li><li>4.31313131313131</li><li>4.36363636363636</li><li>4.41414141414141</li><li>4.46464646464646</li><li>4.51515151515152</li><li>4.56565656565657</li><li>4.61616161616162</li><li>4.66666666666667</li><li>4.71717171717172</li><li>4.76767676767677</li><li>4.81818181818182</li><li>4.86868686868687</li><li>4.91919191919192</li><li>4.96969696969697</li><li>5.02020202020202</li><li>5.07070707070707</li><li>5.12121212121212</li><li>5.17171717171717</li><li>5.22222222222222</li><li>5.27272727272727</li><li>5.32323232323232</li><li>5.37373737373737</li><li>5.42424242424242</li><li>5.47474747474747</li><li>5.52525252525253</li><li>5.57575757575758</li><li>5.62626262626263</li><li>5.67676767676768</li><li>5.72727272727273</li><li>5.77777777777778</li><li>5.82828282828283</li><li>5.87878787878788</li><li>5.92929292929293</li><li>5.97979797979798</li><li>6.03030303030303</li><li>6.08080808080808</li><li>6.13131313131313</li><li>6.18181818181818</li><li>6.23232323232323</li><li>6.28282828282828</li><li>6.33333333333333</li><li>6.38383838383838</li><li>6.43434343434343</li><li>6.48484848484848</li><li>6.53535353535354</li><li>6.58585858585859</li><li>6.63636363636364</li><li>6.68686868686869</li><li>6.73737373737374</li><li>6.78787878787879</li><li>6.83838383838384</li><li>6.88888888888889</li><li>6.93939393939394</li><li>6.98989898989899</li><li>7.04040404040404</li><li>7.09090909090909</li><li>7.14141414141414</li><li>7.19191919191919</li><li>7.24242424242424</li><li>7.29292929292929</li><li>7.34343434343434</li><li>7.39393939393939</li><li>7.44444444444444</li><li>7.49494949494949</li><li>7.54545454545454</li><li>7.5959595959596</li><li>7.64646464646465</li><li>7.6969696969697</li><li>7.74747474747475</li><li>7.7979797979798</li><li>7.84848484848485</li><li>7.8989898989899</li><li>7.94949494949495</li><li>8</li></ol>\n"
            ],
            "text/markdown": "1. 3\n2. 3.05050505050505\n3. 3.1010101010101\n4. 3.15151515151515\n5. 3.2020202020202\n6. 3.25252525252525\n7. 3.3030303030303\n8. 3.35353535353535\n9. 3.4040404040404\n10. 3.45454545454545\n11. 3.50505050505051\n12. 3.55555555555556\n13. 3.60606060606061\n14. 3.65656565656566\n15. 3.70707070707071\n16. 3.75757575757576\n17. 3.80808080808081\n18. 3.85858585858586\n19. 3.90909090909091\n20. 3.95959595959596\n21. 4.01010101010101\n22. 4.06060606060606\n23. 4.11111111111111\n24. 4.16161616161616\n25. 4.21212121212121\n26. 4.26262626262626\n27. 4.31313131313131\n28. 4.36363636363636\n29. 4.41414141414141\n30. 4.46464646464646\n31. 4.51515151515152\n32. 4.56565656565657\n33. 4.61616161616162\n34. 4.66666666666667\n35. 4.71717171717172\n36. 4.76767676767677\n37. 4.81818181818182\n38. 4.86868686868687\n39. 4.91919191919192\n40. 4.96969696969697\n41. 5.02020202020202\n42. 5.07070707070707\n43. 5.12121212121212\n44. 5.17171717171717\n45. 5.22222222222222\n46. 5.27272727272727\n47. 5.32323232323232\n48. 5.37373737373737\n49. 5.42424242424242\n50. 5.47474747474747\n51. 5.52525252525253\n52. 5.57575757575758\n53. 5.62626262626263\n54. 5.67676767676768\n55. 5.72727272727273\n56. 5.77777777777778\n57. 5.82828282828283\n58. 5.87878787878788\n59. 5.92929292929293\n60. 5.97979797979798\n61. 6.03030303030303\n62. 6.08080808080808\n63. 6.13131313131313\n64. 6.18181818181818\n65. 6.23232323232323\n66. 6.28282828282828\n67. 6.33333333333333\n68. 6.38383838383838\n69. 6.43434343434343\n70. 6.48484848484848\n71. 6.53535353535354\n72. 6.58585858585859\n73. 6.63636363636364\n74. 6.68686868686869\n75. 6.73737373737374\n76. 6.78787878787879\n77. 6.83838383838384\n78. 6.88888888888889\n79. 6.93939393939394\n80. 6.98989898989899\n81. 7.04040404040404\n82. 7.09090909090909\n83. 7.14141414141414\n84. 7.19191919191919\n85. 7.24242424242424\n86. 7.29292929292929\n87. 7.34343434343434\n88. 7.39393939393939\n89. 7.44444444444444\n90. 7.49494949494949\n91. 7.54545454545454\n92. 7.5959595959596\n93. 7.64646464646465\n94. 7.6969696969697\n95. 7.74747474747475\n96. 7.7979797979798\n97. 7.84848484848485\n98. 7.8989898989899\n99. 7.94949494949495\n100. 8\n\n\n",
            "text/latex": "\\begin{enumerate*}\n\\item 3\n\\item 3.05050505050505\n\\item 3.1010101010101\n\\item 3.15151515151515\n\\item 3.2020202020202\n\\item 3.25252525252525\n\\item 3.3030303030303\n\\item 3.35353535353535\n\\item 3.4040404040404\n\\item 3.45454545454545\n\\item 3.50505050505051\n\\item 3.55555555555556\n\\item 3.60606060606061\n\\item 3.65656565656566\n\\item 3.70707070707071\n\\item 3.75757575757576\n\\item 3.80808080808081\n\\item 3.85858585858586\n\\item 3.90909090909091\n\\item 3.95959595959596\n\\item 4.01010101010101\n\\item 4.06060606060606\n\\item 4.11111111111111\n\\item 4.16161616161616\n\\item 4.21212121212121\n\\item 4.26262626262626\n\\item 4.31313131313131\n\\item 4.36363636363636\n\\item 4.41414141414141\n\\item 4.46464646464646\n\\item 4.51515151515152\n\\item 4.56565656565657\n\\item 4.61616161616162\n\\item 4.66666666666667\n\\item 4.71717171717172\n\\item 4.76767676767677\n\\item 4.81818181818182\n\\item 4.86868686868687\n\\item 4.91919191919192\n\\item 4.96969696969697\n\\item 5.02020202020202\n\\item 5.07070707070707\n\\item 5.12121212121212\n\\item 5.17171717171717\n\\item 5.22222222222222\n\\item 5.27272727272727\n\\item 5.32323232323232\n\\item 5.37373737373737\n\\item 5.42424242424242\n\\item 5.47474747474747\n\\item 5.52525252525253\n\\item 5.57575757575758\n\\item 5.62626262626263\n\\item 5.67676767676768\n\\item 5.72727272727273\n\\item 5.77777777777778\n\\item 5.82828282828283\n\\item 5.87878787878788\n\\item 5.92929292929293\n\\item 5.97979797979798\n\\item 6.03030303030303\n\\item 6.08080808080808\n\\item 6.13131313131313\n\\item 6.18181818181818\n\\item 6.23232323232323\n\\item 6.28282828282828\n\\item 6.33333333333333\n\\item 6.38383838383838\n\\item 6.43434343434343\n\\item 6.48484848484848\n\\item 6.53535353535354\n\\item 6.58585858585859\n\\item 6.63636363636364\n\\item 6.68686868686869\n\\item 6.73737373737374\n\\item 6.78787878787879\n\\item 6.83838383838384\n\\item 6.88888888888889\n\\item 6.93939393939394\n\\item 6.98989898989899\n\\item 7.04040404040404\n\\item 7.09090909090909\n\\item 7.14141414141414\n\\item 7.19191919191919\n\\item 7.24242424242424\n\\item 7.29292929292929\n\\item 7.34343434343434\n\\item 7.39393939393939\n\\item 7.44444444444444\n\\item 7.49494949494949\n\\item 7.54545454545454\n\\item 7.5959595959596\n\\item 7.64646464646465\n\\item 7.6969696969697\n\\item 7.74747474747475\n\\item 7.7979797979798\n\\item 7.84848484848485\n\\item 7.8989898989899\n\\item 7.94949494949495\n\\item 8\n\\end{enumerate*}\n",
            "text/plain": [
              "  [1] 3.000000 3.050505 3.101010 3.151515 3.202020 3.252525 3.303030 3.353535\n",
              "  [9] 3.404040 3.454545 3.505051 3.555556 3.606061 3.656566 3.707071 3.757576\n",
              " [17] 3.808081 3.858586 3.909091 3.959596 4.010101 4.060606 4.111111 4.161616\n",
              " [25] 4.212121 4.262626 4.313131 4.363636 4.414141 4.464646 4.515152 4.565657\n",
              " [33] 4.616162 4.666667 4.717172 4.767677 4.818182 4.868687 4.919192 4.969697\n",
              " [41] 5.020202 5.070707 5.121212 5.171717 5.222222 5.272727 5.323232 5.373737\n",
              " [49] 5.424242 5.474747 5.525253 5.575758 5.626263 5.676768 5.727273 5.777778\n",
              " [57] 5.828283 5.878788 5.929293 5.979798 6.030303 6.080808 6.131313 6.181818\n",
              " [65] 6.232323 6.282828 6.333333 6.383838 6.434343 6.484848 6.535354 6.585859\n",
              " [73] 6.636364 6.686869 6.737374 6.787879 6.838384 6.888889 6.939394 6.989899\n",
              " [81] 7.040404 7.090909 7.141414 7.191919 7.242424 7.292929 7.343434 7.393939\n",
              " [89] 7.444444 7.494949 7.545455 7.595960 7.646465 7.696970 7.747475 7.797980\n",
              " [97] 7.848485 7.898990 7.949495 8.000000"
            ]
          },
          "metadata": {}
        }
      ]
    },
    {
      "cell_type": "code",
      "metadata": {
        "id": "psRswQHBIgwO"
      },
      "source": [
        "# ejemplo de vector aleatorio siguiendo una determinada distribución\n",
        "\n",
        "# distribución uniforme\n",
        "# distribución normal\n",
        "\n",
        "\n",
        "\n",
        "\n",
        "\n"
      ],
      "execution_count": null,
      "outputs": []
    },
    {
      "cell_type": "markdown",
      "metadata": {
        "id": "TlnEINwUIgwP"
      },
      "source": [
        "### 3.2 Funciones (primera parte) \n",
        "\n",
        "#### 3.2.1 Funciones vectorizadas y operaciones con vectores\n",
        "\n",
        "R es un lenguaje funcional, en el sentido de que prácticamente cada llamada a R corresponde a una función que puede (o no) recibir argumentos de entrada.\n",
        "Una de las ventajas es que existe una amplia, muy amplia,... verdaderamente amplia!, variedad de funciones disponibles, tanto en las librerías que vienen con la instalación por defecto como las librerías disponibles en CRAN o en toda la comunidad R.\n",
        "\n",
        "En R, una función $f$ se dice vectorizada si dado un vector $\\mathbf{x}=(x_1,x_2,\\dots,x_n)$, se tiene que $f(\\mathbf{x})=(f(x_1),f(x_2),\\dots,f(x_n))$.\n",
        "Esto hace que, por ejemplo, la aritmética de vectores se más sencilla de implentar y con un menor tiempo de cómputo . Gran parte de las funciones disponibles en la librerías (bibliotecas o *packages*) de R corresponden a funciones vectorizadas.\n",
        "A modo de ejemplo, a cotinuación se muestran algunas funciones (de las más básicas) aritméticas, y funciones para trabajar con texto:\n",
        "    \n",
        "    +,-,*,/\n",
        "    abs()\n",
        "    sqrt()\n",
        "    cos()\n",
        "    sin()\n",
        "    tan()\n",
        "    nchar()\n",
        "    susbtr()\n",
        "    grepl()\n",
        "    gsub()\n",
        "    \n",
        "   \n",
        "   \n",
        "   "
      ]
    },
    {
      "cell_type": "code",
      "metadata": {
        "id": "tO3oB1bnIgwP",
        "colab": {
          "base_uri": "https://localhost:8080/",
          "height": 34
        },
        "outputId": "5a098815-535d-4c31-b76d-f1f2f01ef737"
      },
      "source": [
        "# 3.2. Funciones (primera parte) ------------\n",
        "# 3.2.1 Funciones vectorizadas \n",
        "# Ejemplos básicos de funciones(vectorizadas)\n",
        "sqrt(c(4,16,9))"
      ],
      "execution_count": null,
      "outputs": [
        {
          "output_type": "display_data",
          "data": {
            "text/html": [
              "<style>\n",
              ".list-inline {list-style: none; margin:0; padding: 0}\n",
              ".list-inline>li {display: inline-block}\n",
              ".list-inline>li:not(:last-child)::after {content: \"\\00b7\"; padding: 0 .5ex}\n",
              "</style>\n",
              "<ol class=list-inline><li>2</li><li>4</li><li>3</li></ol>\n"
            ],
            "text/markdown": "1. 2\n2. 4\n3. 3\n\n\n",
            "text/latex": "\\begin{enumerate*}\n\\item 2\n\\item 4\n\\item 3\n\\end{enumerate*}\n",
            "text/plain": [
              "[1] 2 4 3"
            ]
          },
          "metadata": {}
        }
      ]
    },
    {
      "cell_type": "code",
      "metadata": {
        "id": "Z8L-KeGnIgwS"
      },
      "source": [
        ""
      ],
      "execution_count": null,
      "outputs": []
    },
    {
      "cell_type": "code",
      "metadata": {
        "id": "NivskO3jIgwT"
      },
      "source": [
        "# funciones para manipular texto\n",
        " #cantidad de caracteres\n",
        "nchar(\"hola\")\n",
        "\n",
        "\n"
      ],
      "execution_count": null,
      "outputs": []
    },
    {
      "cell_type": "code",
      "metadata": {
        "id": "tA55foL1IgwX",
        "colab": {
          "base_uri": "https://localhost:8080/",
          "height": 52
        },
        "outputId": "565f717c-0471-43be-a01b-ff188dc34ebf"
      },
      "source": [
        "# substring substr()\n",
        "\n",
        "substr(\"hola\",2,3)\n",
        "substr(\"hola soy miguel\",2,7)"
      ],
      "execution_count": null,
      "outputs": [
        {
          "output_type": "display_data",
          "data": {
            "text/html": [
              "'ol'"
            ],
            "text/markdown": "'ol'",
            "text/latex": "'ol'",
            "text/plain": [
              "[1] \"ol\""
            ]
          },
          "metadata": {}
        },
        {
          "output_type": "display_data",
          "data": {
            "text/html": [
              "'ola so'"
            ],
            "text/markdown": "'ola so'",
            "text/latex": "'ola so'",
            "text/plain": [
              "[1] \"ola so\""
            ]
          },
          "metadata": {}
        }
      ]
    },
    {
      "cell_type": "code",
      "metadata": {
        "id": "vjRwdUbiIgwY",
        "colab": {
          "base_uri": "https://localhost:8080/",
          "height": 86
        },
        "outputId": "f401ef8c-46dd-4798-f116-5041a07f231d"
      },
      "source": [
        "# grepl() evlaúa si un  caracter está contenido en otro. (LIKE)\n",
        "#?grepl()\n",
        "grepl(\"ala\", \"palabra\")\n",
        "grepl(\"alo\", \"palabra\")\n",
        "\n",
        "\n",
        "#gsub() reemblaza un substring por otro\n",
        "#?gsub\n",
        "gsub(\"ala\",\"xx\",\"palabra\")\n",
        "# si reemplazamos en un vector de palabras\n",
        "gsub(\"ala\",\"xx\",c(\"palabra\",\"lala\",\"hola\"))\n"
      ],
      "execution_count": null,
      "outputs": [
        {
          "output_type": "display_data",
          "data": {
            "text/html": [
              "TRUE"
            ],
            "text/markdown": "TRUE",
            "text/latex": "TRUE",
            "text/plain": [
              "[1] TRUE"
            ]
          },
          "metadata": {}
        },
        {
          "output_type": "display_data",
          "data": {
            "text/html": [
              "FALSE"
            ],
            "text/markdown": "FALSE",
            "text/latex": "FALSE",
            "text/plain": [
              "[1] FALSE"
            ]
          },
          "metadata": {}
        },
        {
          "output_type": "display_data",
          "data": {
            "text/html": [
              "'pxxbra'"
            ],
            "text/markdown": "'pxxbra'",
            "text/latex": "'pxxbra'",
            "text/plain": [
              "[1] \"pxxbra\""
            ]
          },
          "metadata": {}
        },
        {
          "output_type": "display_data",
          "data": {
            "text/html": [
              "<style>\n",
              ".list-inline {list-style: none; margin:0; padding: 0}\n",
              ".list-inline>li {display: inline-block}\n",
              ".list-inline>li:not(:last-child)::after {content: \"\\00b7\"; padding: 0 .5ex}\n",
              "</style>\n",
              "<ol class=list-inline><li>'pxxbra'</li><li>'lxx'</li><li>'hola'</li></ol>\n"
            ],
            "text/markdown": "1. 'pxxbra'\n2. 'lxx'\n3. 'hola'\n\n\n",
            "text/latex": "\\begin{enumerate*}\n\\item 'pxxbra'\n\\item 'lxx'\n\\item 'hola'\n\\end{enumerate*}\n",
            "text/plain": [
              "[1] \"pxxbra\" \"lxx\"    \"hola\"  "
            ]
          },
          "metadata": {}
        }
      ]
    },
    {
      "cell_type": "code",
      "metadata": {
        "id": "0j9kKUbzIgwZ"
      },
      "source": [
        "#gsub() reemplaza caracteres dentro de un texto\n",
        "#https://www.tidytextmining.com/\n"
      ],
      "execution_count": null,
      "outputs": []
    }
  ]
}