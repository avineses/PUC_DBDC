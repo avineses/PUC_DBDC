{
  "nbformat": 4,
  "nbformat_minor": 0,
  "metadata": {
    "colab": {
      "name": "Clase_2_02_listas_y_dataframes.ipynb",
      "provenance": [],
      "collapsed_sections": [],
      "include_colab_link": true
    },
    "kernelspec": {
      "name": "ir",
      "display_name": "R"
    }
  },
  "cells": [
    {
      "cell_type": "markdown",
      "metadata": {
        "id": "view-in-github",
        "colab_type": "text"
      },
      "source": [
        "<a href=\"https://colab.research.google.com/github/avineses/PUC_DBDC/blob/main/Clase2/Clase_2_02_listas_y_dataframes.ipynb\" target=\"_parent\"><img src=\"https://colab.research.google.com/assets/colab-badge.svg\" alt=\"Open In Colab\"/></a>"
      ]
    },
    {
      "cell_type": "markdown",
      "metadata": {
        "collapsed": true,
        "id": "fgQ2azLwTpRn"
      },
      "source": [
        "# Parte 1: Introducción a R (continuación)\n",
        "\n",
        "**Autor:** Miguel Jorquera Viguera<br>\n",
        "**E-mail:** majorquev@gmail.com<br>\n",
        "**Ayudante:** Ángel Ubilla Vera <br>\n",
        "**E-mail ayudante:** rumorale1@gmail.com\n",
        "\n",
        "\n",
        "## 5. Listas y Dataframes\n",
        "\n",
        "### 5.1 Listas\n",
        "\n",
        "Hasta aquí contamos con dos tipos de objetos para almacenar datos; vectores y matrices. Sin embargo, en ambos casos se tiene la limitante de que no es posible combinar distintos tipos de datos en diferentes entradas. Un objeto que permite una mayor flexibilidad son las listas. En R, una lista es básicamente un arreglo unidimensional, donde en cada entrada es posible almacenar distintos **objetos** (los cuales a su vez pueden almacenar distintos tipos de datos (u otros objetos).\n",
        "En resumen,\n",
        "\n",
        "   * ¿Qué son?<br>\n",
        "    Arreglos unidimensionales que guardan distintos tipos de datos u objetos.<br>\n",
        "\n",
        "   * ¿Cómo se declaran?<br>\n",
        "    Se pueden declarar mediante el comando list() o combinando listas existentes. <br>\n",
        "    \n",
        "   * ¿Cómo se accede a sus elementos?<br>\n",
        "    Usando [ ] (retorna lista), o bien usando [ [ ] ] (retorna el objeto). \n",
        "    En cada caso se puede indicar la posición o nombre del objeto que se quiere rescatar.<br>\n",
        "    Otra manera es mediante el símbolo $ seguido del nombre del objeto.\n",
        "\n"
      ]
    },
    {
      "cell_type": "code",
      "metadata": {
        "trusted": true,
        "id": "zZHpLzzRTpRp",
        "outputId": "25d5d78e-6842-4efb-f3f7-241c3c970f95",
        "colab": {
          "base_uri": "https://localhost:8080/",
          "height": 410
        }
      },
      "source": [
        "# 5. Listas y dataframes ------------\n",
        "# 5.1 Listas  ------------\n",
        "# Cómo declarar una lista (comando list() )\n",
        "#num,letra, pl, mat, lista\n",
        "lista1 <- list(num = 10,\n",
        "letra = c(\"a\",\"b\",\"c\"),\n",
        "mat = diag(99,3),\n",
        "l = list(a=100, b=c(T,F,F)), 1989)\n",
        "lista1\n"
      ],
      "execution_count": 3,
      "outputs": [
        {
          "output_type": "display_data",
          "data": {
            "text/html": [
              "<dl>\n",
              "\t<dt>$num</dt>\n",
              "\t\t<dd>10</dd>\n",
              "\t<dt>$letra</dt>\n",
              "\t\t<dd><style>\n",
              ".list-inline {list-style: none; margin:0; padding: 0}\n",
              ".list-inline>li {display: inline-block}\n",
              ".list-inline>li:not(:last-child)::after {content: \"\\00b7\"; padding: 0 .5ex}\n",
              "</style>\n",
              "<ol class=list-inline><li>'a'</li><li>'b'</li><li>'c'</li></ol>\n",
              "</dd>\n",
              "\t<dt>$mat</dt>\n",
              "\t\t<dd><table class=\"dataframe\">\n",
              "<caption>A matrix: 3 × 3 of type dbl</caption>\n",
              "<tbody>\n",
              "\t<tr><td>99</td><td> 0</td><td> 0</td></tr>\n",
              "\t<tr><td> 0</td><td>99</td><td> 0</td></tr>\n",
              "\t<tr><td> 0</td><td> 0</td><td>99</td></tr>\n",
              "</tbody>\n",
              "</table>\n",
              "</dd>\n",
              "\t<dt>$l</dt>\n",
              "\t\t<dd><dl>\n",
              "\t<dt>$a</dt>\n",
              "\t\t<dd>100</dd>\n",
              "\t<dt>$b</dt>\n",
              "\t\t<dd><style>\n",
              ".list-inline {list-style: none; margin:0; padding: 0}\n",
              ".list-inline>li {display: inline-block}\n",
              ".list-inline>li:not(:last-child)::after {content: \"\\00b7\"; padding: 0 .5ex}\n",
              "</style>\n",
              "<ol class=list-inline><li>TRUE</li><li>FALSE</li><li>FALSE</li></ol>\n",
              "</dd>\n",
              "</dl>\n",
              "</dd>\n",
              "\t<dt>[[5]]</dt>\n",
              "\t\t<dd>1989</dd>\n",
              "</dl>\n"
            ],
            "text/markdown": "$num\n:   10\n$letra\n:   1. 'a'\n2. 'b'\n3. 'c'\n\n\n\n$mat\n:   \nA matrix: 3 × 3 of type dbl\n\n| 99 |  0 |  0 |\n|  0 | 99 |  0 |\n|  0 |  0 | 99 |\n\n\n$l\n:   $a\n:   100\n$b\n:   1. TRUE\n2. FALSE\n3. FALSE\n\n\n\n\n\n\n[[5]]\n:   1989\n\n\n",
            "text/latex": "\\begin{description}\n\\item[\\$num] 10\n\\item[\\$letra] \\begin{enumerate*}\n\\item 'a'\n\\item 'b'\n\\item 'c'\n\\end{enumerate*}\n\n\\item[\\$mat] A matrix: 3 × 3 of type dbl\n\\begin{tabular}{lll}\n\t 99 &  0 &  0\\\\\n\t  0 & 99 &  0\\\\\n\t  0 &  0 & 99\\\\\n\\end{tabular}\n\n\\item[\\$l] \\begin{description}\n\\item[\\$a] 100\n\\item[\\$b] \\begin{enumerate*}\n\\item TRUE\n\\item FALSE\n\\item FALSE\n\\end{enumerate*}\n\n\\end{description}\n\n\\item[{[[5]]}] 1989\n\\end{description}\n",
            "text/plain": [
              "$num\n",
              "[1] 10\n",
              "\n",
              "$letra\n",
              "[1] \"a\" \"b\" \"c\"\n",
              "\n",
              "$mat\n",
              "     [,1] [,2] [,3]\n",
              "[1,]   99    0    0\n",
              "[2,]    0   99    0\n",
              "[3,]    0    0   99\n",
              "\n",
              "$l\n",
              "$l$a\n",
              "[1] 100\n",
              "\n",
              "$l$b\n",
              "[1]  TRUE FALSE FALSE\n",
              "\n",
              "\n",
              "[[5]]\n",
              "[1] 1989\n"
            ]
          },
          "metadata": {}
        }
      ]
    },
    {
      "cell_type": "code",
      "source": [
        "str(lista1)"
      ],
      "metadata": {
        "id": "mnrRR9kHjzwq",
        "outputId": "145fb178-8e97-449e-d187-e25e85136e5d",
        "colab": {
          "base_uri": "https://localhost:8080/"
        }
      },
      "execution_count": 4,
      "outputs": [
        {
          "output_type": "stream",
          "name": "stdout",
          "text": [
            "List of 5\n",
            " $ num  : num 10\n",
            " $ letra: chr [1:3] \"a\" \"b\" \"c\"\n",
            " $ mat  : num [1:3, 1:3] 99 0 0 0 99 0 0 0 99\n",
            " $ l    :List of 2\n",
            "  ..$ a: num 100\n",
            "  ..$ b: logi [1:3] TRUE FALSE FALSE\n",
            " $      : num 1989\n"
          ]
        }
      ]
    },
    {
      "cell_type": "code",
      "metadata": {
        "id": "_iwOQA-xTzww"
      },
      "source": [
        "# estructura\n"
      ],
      "execution_count": null,
      "outputs": []
    },
    {
      "cell_type": "code",
      "metadata": {
        "trusted": true,
        "id": "Ao1wFCByTpRx"
      },
      "source": [
        "# Podemos guardar los objetos en slots con nombres\n",
        "lista2 <- list(\"X\",\"Y\")"
      ],
      "execution_count": 8,
      "outputs": []
    },
    {
      "cell_type": "code",
      "metadata": {
        "trusted": true,
        "id": "GBuxGL4cTpR0",
        "outputId": "f720f86f-45c3-4a86-d498-4aa2e242294d",
        "colab": {
          "base_uri": "https://localhost:8080/",
          "height": 479
        }
      },
      "source": [
        "# Podemos combinar listas\n",
        "c(lista1,lista2)"
      ],
      "execution_count": 9,
      "outputs": [
        {
          "output_type": "display_data",
          "data": {
            "text/html": [
              "<dl>\n",
              "\t<dt>$num</dt>\n",
              "\t\t<dd>10</dd>\n",
              "\t<dt>$letra</dt>\n",
              "\t\t<dd><style>\n",
              ".list-inline {list-style: none; margin:0; padding: 0}\n",
              ".list-inline>li {display: inline-block}\n",
              ".list-inline>li:not(:last-child)::after {content: \"\\00b7\"; padding: 0 .5ex}\n",
              "</style>\n",
              "<ol class=list-inline><li>'a'</li><li>'b'</li><li>'c'</li></ol>\n",
              "</dd>\n",
              "\t<dt>$mat</dt>\n",
              "\t\t<dd><table class=\"dataframe\">\n",
              "<caption>A matrix: 3 × 3 of type dbl</caption>\n",
              "<tbody>\n",
              "\t<tr><td>99</td><td> 0</td><td> 0</td></tr>\n",
              "\t<tr><td> 0</td><td>99</td><td> 0</td></tr>\n",
              "\t<tr><td> 0</td><td> 0</td><td>99</td></tr>\n",
              "</tbody>\n",
              "</table>\n",
              "</dd>\n",
              "\t<dt>$l</dt>\n",
              "\t\t<dd><dl>\n",
              "\t<dt>$a</dt>\n",
              "\t\t<dd>100</dd>\n",
              "\t<dt>$b</dt>\n",
              "\t\t<dd><style>\n",
              ".list-inline {list-style: none; margin:0; padding: 0}\n",
              ".list-inline>li {display: inline-block}\n",
              ".list-inline>li:not(:last-child)::after {content: \"\\00b7\"; padding: 0 .5ex}\n",
              "</style>\n",
              "<ol class=list-inline><li>TRUE</li><li>FALSE</li><li>FALSE</li></ol>\n",
              "</dd>\n",
              "</dl>\n",
              "</dd>\n",
              "\t<dt>[[5]]</dt>\n",
              "\t\t<dd>1989</dd>\n",
              "\t<dt>[[6]]</dt>\n",
              "\t\t<dd>'X'</dd>\n",
              "\t<dt>[[7]]</dt>\n",
              "\t\t<dd>'Y'</dd>\n",
              "</dl>\n"
            ],
            "text/markdown": "$num\n:   10\n$letra\n:   1. 'a'\n2. 'b'\n3. 'c'\n\n\n\n$mat\n:   \nA matrix: 3 × 3 of type dbl\n\n| 99 |  0 |  0 |\n|  0 | 99 |  0 |\n|  0 |  0 | 99 |\n\n\n$l\n:   $a\n:   100\n$b\n:   1. TRUE\n2. FALSE\n3. FALSE\n\n\n\n\n\n\n[[5]]\n:   1989\n[[6]]\n:   'X'\n[[7]]\n:   'Y'\n\n\n",
            "text/latex": "\\begin{description}\n\\item[\\$num] 10\n\\item[\\$letra] \\begin{enumerate*}\n\\item 'a'\n\\item 'b'\n\\item 'c'\n\\end{enumerate*}\n\n\\item[\\$mat] A matrix: 3 × 3 of type dbl\n\\begin{tabular}{lll}\n\t 99 &  0 &  0\\\\\n\t  0 & 99 &  0\\\\\n\t  0 &  0 & 99\\\\\n\\end{tabular}\n\n\\item[\\$l] \\begin{description}\n\\item[\\$a] 100\n\\item[\\$b] \\begin{enumerate*}\n\\item TRUE\n\\item FALSE\n\\item FALSE\n\\end{enumerate*}\n\n\\end{description}\n\n\\item[{[[5]]}] 1989\n\\item[{[[6]]}] 'X'\n\\item[{[[7]]}] 'Y'\n\\end{description}\n",
            "text/plain": [
              "$num\n",
              "[1] 10\n",
              "\n",
              "$letra\n",
              "[1] \"a\" \"b\" \"c\"\n",
              "\n",
              "$mat\n",
              "     [,1] [,2] [,3]\n",
              "[1,]   99    0    0\n",
              "[2,]    0   99    0\n",
              "[3,]    0    0   99\n",
              "\n",
              "$l\n",
              "$l$a\n",
              "[1] 100\n",
              "\n",
              "$l$b\n",
              "[1]  TRUE FALSE FALSE\n",
              "\n",
              "\n",
              "[[5]]\n",
              "[1] 1989\n",
              "\n",
              "[[6]]\n",
              "[1] \"X\"\n",
              "\n",
              "[[7]]\n",
              "[1] \"Y\"\n"
            ]
          },
          "metadata": {}
        }
      ]
    },
    {
      "cell_type": "code",
      "metadata": {
        "trusted": true,
        "id": "uUv7BQfnTpR3",
        "outputId": "420629dd-69e1-4dca-9003-0b58a18c7e0f",
        "colab": {
          "base_uri": "https://localhost:8080/",
          "height": 163
        }
      },
      "source": [
        "# Acceso mediante posición\n",
        "lista1[3]"
      ],
      "execution_count": 5,
      "outputs": [
        {
          "output_type": "display_data",
          "data": {
            "text/html": [
              "<strong>$mat</strong> = <table class=\"dataframe\">\n",
              "<caption>A matrix: 3 × 3 of type dbl</caption>\n",
              "<tbody>\n",
              "\t<tr><td>99</td><td> 0</td><td> 0</td></tr>\n",
              "\t<tr><td> 0</td><td>99</td><td> 0</td></tr>\n",
              "\t<tr><td> 0</td><td> 0</td><td>99</td></tr>\n",
              "</tbody>\n",
              "</table>\n"
            ],
            "text/markdown": "**$mat** = \nA matrix: 3 × 3 of type dbl\n\n| 99 |  0 |  0 |\n|  0 | 99 |  0 |\n|  0 |  0 | 99 |\n\n",
            "text/latex": "\\textbf{\\$mat} = A matrix: 3 × 3 of type dbl\n\\begin{tabular}{lll}\n\t 99 &  0 &  0\\\\\n\t  0 & 99 &  0\\\\\n\t  0 &  0 & 99\\\\\n\\end{tabular}\n",
            "text/plain": [
              "$mat\n",
              "     [,1] [,2] [,3]\n",
              "[1,]   99    0    0\n",
              "[2,]    0   99    0\n",
              "[3,]    0    0   99\n"
            ]
          },
          "metadata": {}
        }
      ]
    },
    {
      "cell_type": "code",
      "metadata": {
        "trusted": true,
        "id": "L3RDKUqOTpR5"
      },
      "source": [
        "lista1[3] #retorna una lista de largo 1 con una matriz en esa entrada\n",
        "lista2[]"
      ],
      "execution_count": null,
      "outputs": []
    },
    {
      "cell_type": "code",
      "source": [
        "#Podemos rescatar el elemento (3,3) de la matriz alojada en el \"slot\" de posicion 3.\n",
        "lista1[]"
      ],
      "metadata": {
        "id": "QiXaGyD6lY4D"
      },
      "execution_count": null,
      "outputs": []
    },
    {
      "cell_type": "code",
      "metadata": {
        "trusted": true,
        "id": "QbQ8QHARTpR7"
      },
      "source": [
        "# NOTA lista[.] retorna un lista con un elemento,\n",
        "# lista[[.]] retorna el elmento de la lista lista[.]\n",
        "\n"
      ],
      "execution_count": null,
      "outputs": []
    },
    {
      "cell_type": "code",
      "metadata": {
        "trusted": true,
        "id": "kaOJqYJETpSC"
      },
      "source": [
        "# de la lista l3[[5]], quieo el vector que está en el slot llamado \"b\" (segundo elemento)\n"
      ],
      "execution_count": null,
      "outputs": []
    },
    {
      "cell_type": "code",
      "metadata": {
        "trusted": true,
        "id": "UZ4k5DQ9TpSE"
      },
      "source": [
        "\n"
      ],
      "execution_count": null,
      "outputs": []
    },
    {
      "cell_type": "code",
      "metadata": {
        "trusted": true,
        "id": "jYFKb27-TpSG"
      },
      "source": [
        "# Acceso mediante nombre\n",
        "\n"
      ],
      "execution_count": null,
      "outputs": []
    },
    {
      "cell_type": "code",
      "metadata": {
        "trusted": true,
        "id": "a9UBaNOuTpSI"
      },
      "source": [
        "# acceso vía \"$\" para acceder directamente al elemento del slot citado.\n",
        "\n",
        "lista1$mat\n",
        "\n",
        "\n",
        "\n"
      ],
      "execution_count": null,
      "outputs": []
    },
    {
      "cell_type": "code",
      "metadata": {
        "trusted": true,
        "id": "Dumeo0-NTpSM"
      },
      "source": [
        "# para saber el largo de la lista/vector\n",
        "length(lista1)\n",
        "\n",
        "# Para obtener los nombres de la lista\n",
        "names(lista1)\n",
        "# si quisiéramos renombrar los slots:\n"
      ],
      "execution_count": null,
      "outputs": []
    },
    {
      "cell_type": "code",
      "metadata": {
        "trusted": true,
        "id": "Uij1PdVrTpSO",
        "outputId": "63807b7f-a770-486a-8f50-5e8516bc8ec5",
        "colab": {
          "base_uri": "https://localhost:8080/",
          "height": 445
        }
      },
      "source": [
        "# También podemos crear nuevos \"slots\"\n",
        "## Indicando nombre en [[]] y luego asignando\n",
        "lista1[[\"nuevo\"]] <- as.Date(\"2022-04-13\")\n",
        "lista1"
      ],
      "execution_count": 11,
      "outputs": [
        {
          "output_type": "display_data",
          "data": {
            "text/html": [
              "<dl>\n",
              "\t<dt>$num</dt>\n",
              "\t\t<dd>10</dd>\n",
              "\t<dt>$letra</dt>\n",
              "\t\t<dd><style>\n",
              ".list-inline {list-style: none; margin:0; padding: 0}\n",
              ".list-inline>li {display: inline-block}\n",
              ".list-inline>li:not(:last-child)::after {content: \"\\00b7\"; padding: 0 .5ex}\n",
              "</style>\n",
              "<ol class=list-inline><li>'a'</li><li>'b'</li><li>'c'</li></ol>\n",
              "</dd>\n",
              "\t<dt>$mat</dt>\n",
              "\t\t<dd><table class=\"dataframe\">\n",
              "<caption>A matrix: 3 × 3 of type dbl</caption>\n",
              "<tbody>\n",
              "\t<tr><td>99</td><td> 0</td><td> 0</td></tr>\n",
              "\t<tr><td> 0</td><td>99</td><td> 0</td></tr>\n",
              "\t<tr><td> 0</td><td> 0</td><td>99</td></tr>\n",
              "</tbody>\n",
              "</table>\n",
              "</dd>\n",
              "\t<dt>$l</dt>\n",
              "\t\t<dd><dl>\n",
              "\t<dt>$a</dt>\n",
              "\t\t<dd>100</dd>\n",
              "\t<dt>$b</dt>\n",
              "\t\t<dd><style>\n",
              ".list-inline {list-style: none; margin:0; padding: 0}\n",
              ".list-inline>li {display: inline-block}\n",
              ".list-inline>li:not(:last-child)::after {content: \"\\00b7\"; padding: 0 .5ex}\n",
              "</style>\n",
              "<ol class=list-inline><li>TRUE</li><li>FALSE</li><li>FALSE</li></ol>\n",
              "</dd>\n",
              "</dl>\n",
              "</dd>\n",
              "\t<dt>[[5]]</dt>\n",
              "\t\t<dd>1989</dd>\n",
              "\t<dt>$nuevo</dt>\n",
              "\t\t<dd><time datetime=\"2022-04-13\">2022-04-13</time></dd>\n",
              "</dl>\n"
            ],
            "text/markdown": "$num\n:   10\n$letra\n:   1. 'a'\n2. 'b'\n3. 'c'\n\n\n\n$mat\n:   \nA matrix: 3 × 3 of type dbl\n\n| 99 |  0 |  0 |\n|  0 | 99 |  0 |\n|  0 |  0 | 99 |\n\n\n$l\n:   $a\n:   100\n$b\n:   1. TRUE\n2. FALSE\n3. FALSE\n\n\n\n\n\n\n[[5]]\n:   1989\n$nuevo\n:   2022-04-13\n\n\n",
            "text/latex": "\\begin{description}\n\\item[\\$num] 10\n\\item[\\$letra] \\begin{enumerate*}\n\\item 'a'\n\\item 'b'\n\\item 'c'\n\\end{enumerate*}\n\n\\item[\\$mat] A matrix: 3 × 3 of type dbl\n\\begin{tabular}{lll}\n\t 99 &  0 &  0\\\\\n\t  0 & 99 &  0\\\\\n\t  0 &  0 & 99\\\\\n\\end{tabular}\n\n\\item[\\$l] \\begin{description}\n\\item[\\$a] 100\n\\item[\\$b] \\begin{enumerate*}\n\\item TRUE\n\\item FALSE\n\\item FALSE\n\\end{enumerate*}\n\n\\end{description}\n\n\\item[{[[5]]}] 1989\n\\item[\\$nuevo] 2022-04-13\n\\end{description}\n",
            "text/plain": [
              "$num\n",
              "[1] 10\n",
              "\n",
              "$letra\n",
              "[1] \"a\" \"b\" \"c\"\n",
              "\n",
              "$mat\n",
              "     [,1] [,2] [,3]\n",
              "[1,]   99    0    0\n",
              "[2,]    0   99    0\n",
              "[3,]    0    0   99\n",
              "\n",
              "$l\n",
              "$l$a\n",
              "[1] 100\n",
              "\n",
              "$l$b\n",
              "[1]  TRUE FALSE FALSE\n",
              "\n",
              "\n",
              "[[5]]\n",
              "[1] 1989\n",
              "\n",
              "$nuevo\n",
              "[1] \"2022-04-13\"\n"
            ]
          },
          "metadata": {}
        }
      ]
    },
    {
      "cell_type": "code",
      "source": [
        "lista1$nuevo2 <- \"Hola soy yo de nuevo\"\n",
        "lista1"
      ],
      "metadata": {
        "id": "arhYDwLzmzIL",
        "outputId": "9697328d-b03f-4c75-9bee-a60b668ad849",
        "colab": {
          "base_uri": "https://localhost:8080/",
          "height": 479
        }
      },
      "execution_count": 13,
      "outputs": [
        {
          "output_type": "display_data",
          "data": {
            "text/html": [
              "<dl>\n",
              "\t<dt>$num</dt>\n",
              "\t\t<dd>10</dd>\n",
              "\t<dt>$letra</dt>\n",
              "\t\t<dd><style>\n",
              ".list-inline {list-style: none; margin:0; padding: 0}\n",
              ".list-inline>li {display: inline-block}\n",
              ".list-inline>li:not(:last-child)::after {content: \"\\00b7\"; padding: 0 .5ex}\n",
              "</style>\n",
              "<ol class=list-inline><li>'a'</li><li>'b'</li><li>'c'</li></ol>\n",
              "</dd>\n",
              "\t<dt>$mat</dt>\n",
              "\t\t<dd><table class=\"dataframe\">\n",
              "<caption>A matrix: 3 × 3 of type dbl</caption>\n",
              "<tbody>\n",
              "\t<tr><td>99</td><td> 0</td><td> 0</td></tr>\n",
              "\t<tr><td> 0</td><td>99</td><td> 0</td></tr>\n",
              "\t<tr><td> 0</td><td> 0</td><td>99</td></tr>\n",
              "</tbody>\n",
              "</table>\n",
              "</dd>\n",
              "\t<dt>$l</dt>\n",
              "\t\t<dd><dl>\n",
              "\t<dt>$a</dt>\n",
              "\t\t<dd>100</dd>\n",
              "\t<dt>$b</dt>\n",
              "\t\t<dd><style>\n",
              ".list-inline {list-style: none; margin:0; padding: 0}\n",
              ".list-inline>li {display: inline-block}\n",
              ".list-inline>li:not(:last-child)::after {content: \"\\00b7\"; padding: 0 .5ex}\n",
              "</style>\n",
              "<ol class=list-inline><li>TRUE</li><li>FALSE</li><li>FALSE</li></ol>\n",
              "</dd>\n",
              "</dl>\n",
              "</dd>\n",
              "\t<dt>[[5]]</dt>\n",
              "\t\t<dd>1989</dd>\n",
              "\t<dt>$nuevo</dt>\n",
              "\t\t<dd><time datetime=\"2022-04-13\">2022-04-13</time></dd>\n",
              "\t<dt>$nuevo2</dt>\n",
              "\t\t<dd>'Hola soy yo de nuevo'</dd>\n",
              "</dl>\n"
            ],
            "text/markdown": "$num\n:   10\n$letra\n:   1. 'a'\n2. 'b'\n3. 'c'\n\n\n\n$mat\n:   \nA matrix: 3 × 3 of type dbl\n\n| 99 |  0 |  0 |\n|  0 | 99 |  0 |\n|  0 |  0 | 99 |\n\n\n$l\n:   $a\n:   100\n$b\n:   1. TRUE\n2. FALSE\n3. FALSE\n\n\n\n\n\n\n[[5]]\n:   1989\n$nuevo\n:   2022-04-13\n$nuevo2\n:   'Hola soy yo de nuevo'\n\n\n",
            "text/latex": "\\begin{description}\n\\item[\\$num] 10\n\\item[\\$letra] \\begin{enumerate*}\n\\item 'a'\n\\item 'b'\n\\item 'c'\n\\end{enumerate*}\n\n\\item[\\$mat] A matrix: 3 × 3 of type dbl\n\\begin{tabular}{lll}\n\t 99 &  0 &  0\\\\\n\t  0 & 99 &  0\\\\\n\t  0 &  0 & 99\\\\\n\\end{tabular}\n\n\\item[\\$l] \\begin{description}\n\\item[\\$a] 100\n\\item[\\$b] \\begin{enumerate*}\n\\item TRUE\n\\item FALSE\n\\item FALSE\n\\end{enumerate*}\n\n\\end{description}\n\n\\item[{[[5]]}] 1989\n\\item[\\$nuevo] 2022-04-13\n\\item[\\$nuevo2] 'Hola soy yo de nuevo'\n\\end{description}\n",
            "text/plain": [
              "$num\n",
              "[1] 10\n",
              "\n",
              "$letra\n",
              "[1] \"a\" \"b\" \"c\"\n",
              "\n",
              "$mat\n",
              "     [,1] [,2] [,3]\n",
              "[1,]   99    0    0\n",
              "[2,]    0   99    0\n",
              "[3,]    0    0   99\n",
              "\n",
              "$l\n",
              "$l$a\n",
              "[1] 100\n",
              "\n",
              "$l$b\n",
              "[1]  TRUE FALSE FALSE\n",
              "\n",
              "\n",
              "[[5]]\n",
              "[1] 1989\n",
              "\n",
              "$nuevo\n",
              "[1] \"2022-04-13\"\n",
              "\n",
              "$nuevo2\n",
              "[1] \"Hola soy yo de nuevo\"\n"
            ]
          },
          "metadata": {}
        }
      ]
    },
    {
      "cell_type": "code",
      "metadata": {
        "trusted": true,
        "id": "rBB4hT9RTpSQ"
      },
      "source": [
        "# podemos modificar elementos dentro de un slot\n",
        "\n"
      ],
      "execution_count": null,
      "outputs": []
    },
    {
      "cell_type": "markdown",
      "metadata": {
        "id": "128wI4ZoTpSS"
      },
      "source": [
        "### 5.2 Dataframes\n",
        "\n",
        "Un dataframe es un caso particular de una lista, donde los objetos de cada entrada corresponden a vectores de datos del mismo largo. E este caso cada vector corresponde a una columna del data.frame, mientras que la cantidad de filas corresponde al largo común de los vectores de cada entrada. El objeto resultante es una *tabla*, de ahora en adelante *data.frame*, cuyas columnas poseen distintos tipos de datos entre sí. \n",
        "\n",
        " * ¿Cómo se declara un dataframe?<br>\n",
        "     Mediante la función data.frame(), indicando los vectores que conformarán las columnas.\n",
        " \n",
        " * ¿Cómo se accede a los datos de un data.frame?<br>\n",
        "    Al ser una lista, se puede acceder de la misma manera. Sin embargo también es posible acceder del modo en que se accede a los elementos de una matriz."
      ]
    },
    {
      "cell_type": "code",
      "metadata": {
        "trusted": true,
        "id": "qJ-2zVWVTpST"
      },
      "source": [
        "# 5.2 Dataframes ----------\n",
        "# Ejemplo sencillo de definición de un data.frame\n",
        "# recordar que 1:3 es lo mismo que c(1,2,3)\n",
        "\n",
        "df <- data.frame(nombre = c(\"miguel\",\"jorge\",\"cony\"),\n",
        "          edad=c(33,30,32),\n",
        "          fn=c(1989,1992,1990))\n"
      ],
      "execution_count": 16,
      "outputs": []
    },
    {
      "cell_type": "code",
      "source": [
        "df"
      ],
      "metadata": {
        "id": "oW04JVKeoSg8",
        "outputId": "0b250688-8756-4df4-8b09-872b2516f8f8",
        "colab": {
          "base_uri": "https://localhost:8080/",
          "height": 192
        }
      },
      "execution_count": 17,
      "outputs": [
        {
          "output_type": "display_data",
          "data": {
            "text/html": [
              "<table class=\"dataframe\">\n",
              "<caption>A data.frame: 3 × 3</caption>\n",
              "<thead>\n",
              "\t<tr><th scope=col>nombre</th><th scope=col>edad</th><th scope=col>fn</th></tr>\n",
              "\t<tr><th scope=col>&lt;chr&gt;</th><th scope=col>&lt;dbl&gt;</th><th scope=col>&lt;dbl&gt;</th></tr>\n",
              "</thead>\n",
              "<tbody>\n",
              "\t<tr><td>miguel</td><td>33</td><td>1989</td></tr>\n",
              "\t<tr><td>jorge </td><td>30</td><td>1992</td></tr>\n",
              "\t<tr><td>cony  </td><td>32</td><td>1990</td></tr>\n",
              "</tbody>\n",
              "</table>\n"
            ],
            "text/markdown": "\nA data.frame: 3 × 3\n\n| nombre &lt;chr&gt; | edad &lt;dbl&gt; | fn &lt;dbl&gt; |\n|---|---|---|\n| miguel | 33 | 1989 |\n| jorge  | 30 | 1992 |\n| cony   | 32 | 1990 |\n\n",
            "text/latex": "A data.frame: 3 × 3\n\\begin{tabular}{lll}\n nombre & edad & fn\\\\\n <chr> & <dbl> & <dbl>\\\\\n\\hline\n\t miguel & 33 & 1989\\\\\n\t jorge  & 30 & 1992\\\\\n\t cony   & 32 & 1990\\\\\n\\end{tabular}\n",
            "text/plain": [
              "  nombre edad fn  \n",
              "1 miguel 33   1989\n",
              "2 jorge  30   1992\n",
              "3 cony   32   1990"
            ]
          },
          "metadata": {}
        }
      ]
    },
    {
      "cell_type": "code",
      "metadata": {
        "trusted": true,
        "id": "nv7stC8ITpSY",
        "outputId": "f2e5bea6-a475-450f-aa8e-f96acab0aedf",
        "colab": {
          "base_uri": "https://localhost:8080/",
          "height": 244
        }
      },
      "source": [
        "# Acceso a columnas de un data.frame\n",
        "## Igual que en una lista\n",
        "df[\"edad\"]\n",
        "df[[\"edad\"]]\n"
      ],
      "execution_count": 18,
      "outputs": [
        {
          "output_type": "display_data",
          "data": {
            "text/html": [
              "<table class=\"dataframe\">\n",
              "<caption>A data.frame: 3 × 1</caption>\n",
              "<thead>\n",
              "\t<tr><th scope=col>edad</th></tr>\n",
              "\t<tr><th scope=col>&lt;dbl&gt;</th></tr>\n",
              "</thead>\n",
              "<tbody>\n",
              "\t<tr><td>33</td></tr>\n",
              "\t<tr><td>30</td></tr>\n",
              "\t<tr><td>32</td></tr>\n",
              "</tbody>\n",
              "</table>\n"
            ],
            "text/markdown": "\nA data.frame: 3 × 1\n\n| edad &lt;dbl&gt; |\n|---|\n| 33 |\n| 30 |\n| 32 |\n\n",
            "text/latex": "A data.frame: 3 × 1\n\\begin{tabular}{l}\n edad\\\\\n <dbl>\\\\\n\\hline\n\t 33\\\\\n\t 30\\\\\n\t 32\\\\\n\\end{tabular}\n",
            "text/plain": [
              "  edad\n",
              "1 33  \n",
              "2 30  \n",
              "3 32  "
            ]
          },
          "metadata": {}
        },
        {
          "output_type": "display_data",
          "data": {
            "text/html": [
              "<style>\n",
              ".list-inline {list-style: none; margin:0; padding: 0}\n",
              ".list-inline>li {display: inline-block}\n",
              ".list-inline>li:not(:last-child)::after {content: \"\\00b7\"; padding: 0 .5ex}\n",
              "</style>\n",
              "<ol class=list-inline><li>33</li><li>30</li><li>32</li></ol>\n"
            ],
            "text/markdown": "1. 33\n2. 30\n3. 32\n\n\n",
            "text/latex": "\\begin{enumerate*}\n\\item 33\n\\item 30\n\\item 32\n\\end{enumerate*}\n",
            "text/plain": [
              "[1] 33 30 32"
            ]
          },
          "metadata": {}
        }
      ]
    },
    {
      "cell_type": "code",
      "metadata": {
        "trusted": true,
        "id": "3t6_J3BHTpSb",
        "outputId": "771fbefc-ab2f-4e91-85ad-a3fa5c179177",
        "colab": {
          "base_uri": "https://localhost:8080/",
          "height": 34
        }
      },
      "source": [
        "#Se heredan propiedades de una matriz\n",
        "dim(df)"
      ],
      "execution_count": 19,
      "outputs": [
        {
          "output_type": "display_data",
          "data": {
            "text/html": [
              "<style>\n",
              ".list-inline {list-style: none; margin:0; padding: 0}\n",
              ".list-inline>li {display: inline-block}\n",
              ".list-inline>li:not(:last-child)::after {content: \"\\00b7\"; padding: 0 .5ex}\n",
              "</style>\n",
              "<ol class=list-inline><li>3</li><li>3</li></ol>\n"
            ],
            "text/markdown": "1. 3\n2. 3\n\n\n",
            "text/latex": "\\begin{enumerate*}\n\\item 3\n\\item 3\n\\end{enumerate*}\n",
            "text/plain": [
              "[1] 3 3"
            ]
          },
          "metadata": {}
        }
      ]
    },
    {
      "cell_type": "code",
      "metadata": {
        "trusted": true,
        "id": "CojdmEs9TpSd",
        "outputId": "cc38b353-a76b-4516-e7a3-6e269ef8f70e",
        "colab": {
          "base_uri": "https://localhost:8080/",
          "height": 164
        }
      },
      "source": [
        "##  Ganamos acceso como matriz\n",
        "# segundafila de df\n",
        "df[2,]\n",
        "\n",
        "# segunda columna y segunda fila\n",
        "df[2,2]\n",
        "df[2,\"edad\"]\n",
        "\n"
      ],
      "execution_count": 22,
      "outputs": [
        {
          "output_type": "display_data",
          "data": {
            "text/html": [
              "<table class=\"dataframe\">\n",
              "<caption>A data.frame: 1 × 3</caption>\n",
              "<thead>\n",
              "\t<tr><th></th><th scope=col>nombre</th><th scope=col>edad</th><th scope=col>fn</th></tr>\n",
              "\t<tr><th></th><th scope=col>&lt;chr&gt;</th><th scope=col>&lt;dbl&gt;</th><th scope=col>&lt;dbl&gt;</th></tr>\n",
              "</thead>\n",
              "<tbody>\n",
              "\t<tr><th scope=row>2</th><td>jorge</td><td>30</td><td>1992</td></tr>\n",
              "</tbody>\n",
              "</table>\n"
            ],
            "text/markdown": "\nA data.frame: 1 × 3\n\n| <!--/--> | nombre &lt;chr&gt; | edad &lt;dbl&gt; | fn &lt;dbl&gt; |\n|---|---|---|---|\n| 2 | jorge | 30 | 1992 |\n\n",
            "text/latex": "A data.frame: 1 × 3\n\\begin{tabular}{r|lll}\n  & nombre & edad & fn\\\\\n  & <chr> & <dbl> & <dbl>\\\\\n\\hline\n\t2 & jorge & 30 & 1992\\\\\n\\end{tabular}\n",
            "text/plain": [
              "  nombre edad fn  \n",
              "2 jorge  30   1992"
            ]
          },
          "metadata": {}
        },
        {
          "output_type": "display_data",
          "data": {
            "text/html": [
              "30"
            ],
            "text/markdown": "30",
            "text/latex": "30",
            "text/plain": [
              "[1] 30"
            ]
          },
          "metadata": {}
        },
        {
          "output_type": "display_data",
          "data": {
            "text/html": [
              "30"
            ],
            "text/markdown": "30",
            "text/latex": "30",
            "text/plain": [
              "[1] 30"
            ]
          },
          "metadata": {}
        }
      ]
    },
    {
      "cell_type": "code",
      "metadata": {
        "trusted": true,
        "id": "FgD5Q8hFTpSf",
        "outputId": "111850dd-53e9-472d-c541-9b17bb007a4a",
        "colab": {
          "base_uri": "https://localhost:8080/",
          "height": 192
        }
      },
      "source": [
        "#Podemos crear nuevas columnas , del mismmo modo que creamos \"slots\" en una lista\n",
        "df$genero <- c(\"M\",\"M\",\"F\")\n",
        "df"
      ],
      "execution_count": 24,
      "outputs": [
        {
          "output_type": "display_data",
          "data": {
            "text/html": [
              "<table class=\"dataframe\">\n",
              "<caption>A data.frame: 3 × 4</caption>\n",
              "<thead>\n",
              "\t<tr><th scope=col>nombre</th><th scope=col>edad</th><th scope=col>fn</th><th scope=col>genero</th></tr>\n",
              "\t<tr><th scope=col>&lt;chr&gt;</th><th scope=col>&lt;dbl&gt;</th><th scope=col>&lt;dbl&gt;</th><th scope=col>&lt;chr&gt;</th></tr>\n",
              "</thead>\n",
              "<tbody>\n",
              "\t<tr><td>miguel</td><td>33</td><td>1989</td><td>M</td></tr>\n",
              "\t<tr><td>jorge </td><td>30</td><td>1992</td><td>M</td></tr>\n",
              "\t<tr><td>cony  </td><td>32</td><td>1990</td><td>F</td></tr>\n",
              "</tbody>\n",
              "</table>\n"
            ],
            "text/markdown": "\nA data.frame: 3 × 4\n\n| nombre &lt;chr&gt; | edad &lt;dbl&gt; | fn &lt;dbl&gt; | genero &lt;chr&gt; |\n|---|---|---|---|\n| miguel | 33 | 1989 | M |\n| jorge  | 30 | 1992 | M |\n| cony   | 32 | 1990 | F |\n\n",
            "text/latex": "A data.frame: 3 × 4\n\\begin{tabular}{llll}\n nombre & edad & fn & genero\\\\\n <chr> & <dbl> & <dbl> & <chr>\\\\\n\\hline\n\t miguel & 33 & 1989 & M\\\\\n\t jorge  & 30 & 1992 & M\\\\\n\t cony   & 32 & 1990 & F\\\\\n\\end{tabular}\n",
            "text/plain": [
              "  nombre edad fn   genero\n",
              "1 miguel 33   1989 M     \n",
              "2 jorge  30   1992 M     \n",
              "3 cony   32   1990 F     "
            ]
          },
          "metadata": {}
        }
      ]
    },
    {
      "cell_type": "code",
      "source": [
        "#Otra forma de agregar columna:\n",
        "df[[\"tiene_hijos\"]] <- c(F,T,F)\n",
        "df"
      ],
      "metadata": {
        "id": "PTlVbm-Fpl0D",
        "outputId": "234171fb-0922-4309-a2ea-1d998c5e1405",
        "colab": {
          "base_uri": "https://localhost:8080/",
          "height": 192
        }
      },
      "execution_count": 26,
      "outputs": [
        {
          "output_type": "display_data",
          "data": {
            "text/html": [
              "<table class=\"dataframe\">\n",
              "<caption>A data.frame: 3 × 5</caption>\n",
              "<thead>\n",
              "\t<tr><th scope=col>nombre</th><th scope=col>edad</th><th scope=col>fn</th><th scope=col>genero</th><th scope=col>tiene_hijos</th></tr>\n",
              "\t<tr><th scope=col>&lt;chr&gt;</th><th scope=col>&lt;dbl&gt;</th><th scope=col>&lt;dbl&gt;</th><th scope=col>&lt;chr&gt;</th><th scope=col>&lt;lgl&gt;</th></tr>\n",
              "</thead>\n",
              "<tbody>\n",
              "\t<tr><td>miguel</td><td>33</td><td>1989</td><td>M</td><td>FALSE</td></tr>\n",
              "\t<tr><td>jorge </td><td>30</td><td>1992</td><td>M</td><td> TRUE</td></tr>\n",
              "\t<tr><td>cony  </td><td>32</td><td>1990</td><td>F</td><td>FALSE</td></tr>\n",
              "</tbody>\n",
              "</table>\n"
            ],
            "text/markdown": "\nA data.frame: 3 × 5\n\n| nombre &lt;chr&gt; | edad &lt;dbl&gt; | fn &lt;dbl&gt; | genero &lt;chr&gt; | tiene_hijos &lt;lgl&gt; |\n|---|---|---|---|---|\n| miguel | 33 | 1989 | M | FALSE |\n| jorge  | 30 | 1992 | M |  TRUE |\n| cony   | 32 | 1990 | F | FALSE |\n\n",
            "text/latex": "A data.frame: 3 × 5\n\\begin{tabular}{lllll}\n nombre & edad & fn & genero & tiene\\_hijos\\\\\n <chr> & <dbl> & <dbl> & <chr> & <lgl>\\\\\n\\hline\n\t miguel & 33 & 1989 & M & FALSE\\\\\n\t jorge  & 30 & 1992 & M &  TRUE\\\\\n\t cony   & 32 & 1990 & F & FALSE\\\\\n\\end{tabular}\n",
            "text/plain": [
              "  nombre edad fn   genero tiene_hijos\n",
              "1 miguel 33   1989 M      FALSE      \n",
              "2 jorge  30   1992 M       TRUE      \n",
              "3 cony   32   1990 F      FALSE      "
            ]
          },
          "metadata": {}
        }
      ]
    },
    {
      "cell_type": "code",
      "metadata": {
        "trusted": true,
        "id": "LcNQ5JHVTpSh",
        "outputId": "4b8cab22-0d78-4156-d265-40b99abc6cd4",
        "colab": {
          "base_uri": "https://localhost:8080/",
          "height": 367
        }
      },
      "source": [
        "# podemos seleccionar más de una columna a la vez. Ej: seleccionar nombre y tiene hijos.\n",
        "df[c(1,5)]\n",
        "df[c(\"nombre\",\"tiene_hijos\")]\n",
        "# Referenciando el nombre de las columnas\n"
      ],
      "execution_count": 28,
      "outputs": [
        {
          "output_type": "display_data",
          "data": {
            "text/html": [
              "<table class=\"dataframe\">\n",
              "<caption>A data.frame: 3 × 2</caption>\n",
              "<thead>\n",
              "\t<tr><th scope=col>nombre</th><th scope=col>tiene_hijos</th></tr>\n",
              "\t<tr><th scope=col>&lt;chr&gt;</th><th scope=col>&lt;lgl&gt;</th></tr>\n",
              "</thead>\n",
              "<tbody>\n",
              "\t<tr><td>miguel</td><td>FALSE</td></tr>\n",
              "\t<tr><td>jorge </td><td> TRUE</td></tr>\n",
              "\t<tr><td>cony  </td><td>FALSE</td></tr>\n",
              "</tbody>\n",
              "</table>\n"
            ],
            "text/markdown": "\nA data.frame: 3 × 2\n\n| nombre &lt;chr&gt; | tiene_hijos &lt;lgl&gt; |\n|---|---|\n| miguel | FALSE |\n| jorge  |  TRUE |\n| cony   | FALSE |\n\n",
            "text/latex": "A data.frame: 3 × 2\n\\begin{tabular}{ll}\n nombre & tiene\\_hijos\\\\\n <chr> & <lgl>\\\\\n\\hline\n\t miguel & FALSE\\\\\n\t jorge  &  TRUE\\\\\n\t cony   & FALSE\\\\\n\\end{tabular}\n",
            "text/plain": [
              "  nombre tiene_hijos\n",
              "1 miguel FALSE      \n",
              "2 jorge   TRUE      \n",
              "3 cony   FALSE      "
            ]
          },
          "metadata": {}
        },
        {
          "output_type": "display_data",
          "data": {
            "text/html": [
              "<table class=\"dataframe\">\n",
              "<caption>A data.frame: 3 × 2</caption>\n",
              "<thead>\n",
              "\t<tr><th scope=col>nombre</th><th scope=col>tiene_hijos</th></tr>\n",
              "\t<tr><th scope=col>&lt;chr&gt;</th><th scope=col>&lt;lgl&gt;</th></tr>\n",
              "</thead>\n",
              "<tbody>\n",
              "\t<tr><td>miguel</td><td>FALSE</td></tr>\n",
              "\t<tr><td>jorge </td><td> TRUE</td></tr>\n",
              "\t<tr><td>cony  </td><td>FALSE</td></tr>\n",
              "</tbody>\n",
              "</table>\n"
            ],
            "text/markdown": "\nA data.frame: 3 × 2\n\n| nombre &lt;chr&gt; | tiene_hijos &lt;lgl&gt; |\n|---|---|\n| miguel | FALSE |\n| jorge  |  TRUE |\n| cony   | FALSE |\n\n",
            "text/latex": "A data.frame: 3 × 2\n\\begin{tabular}{ll}\n nombre & tiene\\_hijos\\\\\n <chr> & <lgl>\\\\\n\\hline\n\t miguel & FALSE\\\\\n\t jorge  &  TRUE\\\\\n\t cony   & FALSE\\\\\n\\end{tabular}\n",
            "text/plain": [
              "  nombre tiene_hijos\n",
              "1 miguel FALSE      \n",
              "2 jorge   TRUE      \n",
              "3 cony   FALSE      "
            ]
          },
          "metadata": {}
        }
      ]
    },
    {
      "cell_type": "code",
      "source": [
        "#Queremos de esta tabla todas las columnas pero sólo las filas donde la columna edad sea mayor o igual a 32.\n",
        "df$edad >= 32"
      ],
      "metadata": {
        "id": "rrK1lQGaqO7t"
      },
      "execution_count": null,
      "outputs": []
    },
    {
      "cell_type": "code",
      "source": [
        "df[df$edad >= 32, c(\"nombre\",\"genero\")]\n",
        "df[df$edad >= 32,] [c(\"nombre\",\"genero\")]"
      ],
      "metadata": {
        "id": "9S24HP6xrM6Q",
        "outputId": "a83a0cf8-90ca-4518-e0ab-0b095a121fd6",
        "colab": {
          "base_uri": "https://localhost:8080/",
          "height": 305
        }
      },
      "execution_count": 32,
      "outputs": [
        {
          "output_type": "display_data",
          "data": {
            "text/html": [
              "<table class=\"dataframe\">\n",
              "<caption>A data.frame: 2 × 2</caption>\n",
              "<thead>\n",
              "\t<tr><th></th><th scope=col>nombre</th><th scope=col>genero</th></tr>\n",
              "\t<tr><th></th><th scope=col>&lt;chr&gt;</th><th scope=col>&lt;chr&gt;</th></tr>\n",
              "</thead>\n",
              "<tbody>\n",
              "\t<tr><th scope=row>1</th><td>miguel</td><td>M</td></tr>\n",
              "\t<tr><th scope=row>3</th><td>cony  </td><td>F</td></tr>\n",
              "</tbody>\n",
              "</table>\n"
            ],
            "text/markdown": "\nA data.frame: 2 × 2\n\n| <!--/--> | nombre &lt;chr&gt; | genero &lt;chr&gt; |\n|---|---|---|\n| 1 | miguel | M |\n| 3 | cony   | F |\n\n",
            "text/latex": "A data.frame: 2 × 2\n\\begin{tabular}{r|ll}\n  & nombre & genero\\\\\n  & <chr> & <chr>\\\\\n\\hline\n\t1 & miguel & M\\\\\n\t3 & cony   & F\\\\\n\\end{tabular}\n",
            "text/plain": [
              "  nombre genero\n",
              "1 miguel M     \n",
              "3 cony   F     "
            ]
          },
          "metadata": {}
        },
        {
          "output_type": "display_data",
          "data": {
            "text/html": [
              "<table class=\"dataframe\">\n",
              "<caption>A data.frame: 2 × 2</caption>\n",
              "<thead>\n",
              "\t<tr><th></th><th scope=col>nombre</th><th scope=col>genero</th></tr>\n",
              "\t<tr><th></th><th scope=col>&lt;chr&gt;</th><th scope=col>&lt;chr&gt;</th></tr>\n",
              "</thead>\n",
              "<tbody>\n",
              "\t<tr><th scope=row>1</th><td>miguel</td><td>M</td></tr>\n",
              "\t<tr><th scope=row>3</th><td>cony  </td><td>F</td></tr>\n",
              "</tbody>\n",
              "</table>\n"
            ],
            "text/markdown": "\nA data.frame: 2 × 2\n\n| <!--/--> | nombre &lt;chr&gt; | genero &lt;chr&gt; |\n|---|---|---|\n| 1 | miguel | M |\n| 3 | cony   | F |\n\n",
            "text/latex": "A data.frame: 2 × 2\n\\begin{tabular}{r|ll}\n  & nombre & genero\\\\\n  & <chr> & <chr>\\\\\n\\hline\n\t1 & miguel & M\\\\\n\t3 & cony   & F\\\\\n\\end{tabular}\n",
            "text/plain": [
              "  nombre genero\n",
              "1 miguel M     \n",
              "3 cony   F     "
            ]
          },
          "metadata": {}
        }
      ]
    },
    {
      "cell_type": "code",
      "source": [
        ""
      ],
      "metadata": {
        "id": "5ya_pQb0rXW6"
      },
      "execution_count": null,
      "outputs": []
    },
    {
      "cell_type": "code",
      "metadata": {
        "trusted": true,
        "id": "NHtO3MHwTpSj"
      },
      "source": [
        "# Referenciando las posiciones de las columnas\n"
      ],
      "execution_count": null,
      "outputs": []
    },
    {
      "cell_type": "code",
      "metadata": {
        "trusted": true,
        "id": "RmsAhhsWTpSm"
      },
      "source": [
        "# Se mantiene la lógica de acceso a los sots de una lista.\n"
      ],
      "execution_count": null,
      "outputs": []
    }
  ]
}