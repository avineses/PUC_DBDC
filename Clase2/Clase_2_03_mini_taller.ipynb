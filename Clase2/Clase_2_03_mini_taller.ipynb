{
  "nbformat": 4,
  "nbformat_minor": 0,
  "metadata": {
    "colab": {
      "name": "Clase 2_03_mini_taller.ipynb",
      "provenance": [],
      "include_colab_link": true
    },
    "kernelspec": {
      "name": "ir",
      "display_name": "R"
    }
  },
  "cells": [
    {
      "cell_type": "markdown",
      "metadata": {
        "id": "view-in-github",
        "colab_type": "text"
      },
      "source": [
        "<a href=\"https://colab.research.google.com/github/avineses/PUC_DBDC/blob/main/Clase2/Clase_2_03_mini_taller.ipynb\" target=\"_parent\"><img src=\"https://colab.research.google.com/assets/colab-badge.svg\" alt=\"Open In Colab\"/></a>"
      ]
    },
    {
      "cell_type": "markdown",
      "metadata": {
        "id": "x-GJ_euMr-qr"
      },
      "source": [
        "#**Mini taller 1**\n",
        "**Autor:** Miguel Jorquera Viguera <br>\n",
        "**E-mail:** majorquev@gmail.com<br>\n",
        "**Ayudante:** Ángel Ubilla Vera<br>\n",
        "**E-mail ayudante:**  rumorale1@gmail.com<br>"
      ]
    },
    {
      "cell_type": "markdown",
      "metadata": {
        "collapsed": true,
        "id": "EZ0yOlnfm5Zb"
      },
      "source": [
        "\n",
        "Los dataframes corresponden a uno de los objetos más utilizados en R para analizar datos tabulares,\n",
        "por lo que se hace necesario en muchos casos realizar consultas a los datos que contiene un dataframe,\n",
        "(filtros, cruces de tablas, creación de columnas, etc). Por ahora veremos una de las formas más \"primitivas\" para la manipulación de un data.frame.\n",
        "\n",
        "Para ello consideremos el siguiente ejercicio.\n",
        "\n",
        "**Paso 1**\n",
        "Mediante la función rnorm(), genere una muestra aleatoria de 100 datos , con media 21 y desviación estándar 8 (más adelante veremos esto con un poco más de detalle), y guárdela en una variable llamada temp.\n",
        "\n"
      ]
    },
    {
      "cell_type": "code",
      "metadata": {
        "trusted": true,
        "id": "9f6cXmN3m5Zc",
        "outputId": "9d14e9ae-0535-4d90-f467-8540b92e7b38",
        "colab": {
          "base_uri": "https://localhost:8080/",
          "height": 190
        }
      },
      "source": [
        "# 5.3 Mini taller --------\n",
        "# Paso 1\n",
        "temp <- rnorm(n = 100, mean = 21, sd = 8)\n",
        "temp \n"
      ],
      "execution_count": 1,
      "outputs": [
        {
          "output_type": "display_data",
          "data": {
            "text/html": [
              "<style>\n",
              ".list-inline {list-style: none; margin:0; padding: 0}\n",
              ".list-inline>li {display: inline-block}\n",
              ".list-inline>li:not(:last-child)::after {content: \"\\00b7\"; padding: 0 .5ex}\n",
              "</style>\n",
              "<ol class=list-inline><li>11.5010751349104</li><li>15.6687900493938</li><li>17.2019709854134</li><li>23.7193582565277</li><li>8.78701719807616</li><li>29.7578230273103</li><li>38.2022957495289</li><li>9.47756167111032</li><li>24.043975426827</li><li>22.6079762894203</li><li>25.5645995737939</li><li>29.6509839502541</li><li>32.4327548134251</li><li>17.0310181785536</li><li>23.2796062796572</li><li>16.8208923926817</li><li>32.3913621060707</li><li>7.58535330579149</li><li>19.3817691774129</li><li>9.78959392662379</li><li>45.0541874717509</li><li>20.3268108263651</li><li>26.2355732573755</li><li>18.7673346314437</li><li>27.2023035044391</li><li>24.5029187793707</li><li>18.7787233424335</li><li>36.7170169138678</li><li>13.2909041693773</li><li>24.6931655490322</li><li>21.0241572086254</li><li>18.4485442746009</li><li>17.2943952124464</li><li>15.8988930681608</li><li>12.0327407830967</li><li>26.0688986479702</li><li>17.2691443579702</li><li>32.9544864075522</li><li>22.5673512335023</li><li>22.7893362929194</li><li>26.531526371679</li><li>34.3366288416673</li><li>10.4075021723455</li><li>29.7750291678076</li><li>17.7006268428458</li><li>21.2599812903103</li><li>14.648635167543</li><li>19.9584908690764</li><li>30.7540324990685</li><li>10.3570670572148</li><li>17.5994447184128</li><li>27.3906113131828</li><li>6.63273239413003</li><li>11.6998469061478</li><li>22.5866330378763</li><li>17.7539893632088</li><li>31.9856891900492</li><li>23.7366557526382</li><li>18.7085517181717</li><li>31.5847603501487</li><li>16.4088491365237</li><li>21.9273005955298</li><li>7.2818607821742</li><li>18.3298305151361</li><li>16.0785256664516</li><li>17.6346438027463</li><li>19.7365764399547</li><li>5.08481762537522</li><li>25.8539369394395</li><li>23.0290865432173</li><li>6.38791221663245</li><li>22.7913191910388</li><li>27.842831807771</li><li>7.31711447514455</li><li>27.3390996477733</li><li>9.99815979505994</li><li>24.9457283739528</li><li>17.2828408109679</li><li>16.3554451007617</li><li>27.2644695562818</li><li>25.0864004340573</li><li>30.2406943873484</li><li>6.25139479465695</li><li>15.6148028869302</li><li>31.4885967575625</li><li>4.58116865626284</li><li>33.4971588179835</li><li>22.3200024988363</li><li>27.7305557753222</li><li>16.516164970559</li><li>25.5612921077507</li><li>6.44835337556402</li><li>11.8589258239413</li><li>13.3276304078394</li><li>36.3995795532103</li><li>33.1566897824102</li><li>0.891722987032008</li><li>4.64387722398984</li><li>35.4710747606192</li><li>13.5028373753309</li></ol>\n"
            ],
            "text/markdown": "1. 11.5010751349104\n2. 15.6687900493938\n3. 17.2019709854134\n4. 23.7193582565277\n5. 8.78701719807616\n6. 29.7578230273103\n7. 38.2022957495289\n8. 9.47756167111032\n9. 24.043975426827\n10. 22.6079762894203\n11. 25.5645995737939\n12. 29.6509839502541\n13. 32.4327548134251\n14. 17.0310181785536\n15. 23.2796062796572\n16. 16.8208923926817\n17. 32.3913621060707\n18. 7.58535330579149\n19. 19.3817691774129\n20. 9.78959392662379\n21. 45.0541874717509\n22. 20.3268108263651\n23. 26.2355732573755\n24. 18.7673346314437\n25. 27.2023035044391\n26. 24.5029187793707\n27. 18.7787233424335\n28. 36.7170169138678\n29. 13.2909041693773\n30. 24.6931655490322\n31. 21.0241572086254\n32. 18.4485442746009\n33. 17.2943952124464\n34. 15.8988930681608\n35. 12.0327407830967\n36. 26.0688986479702\n37. 17.2691443579702\n38. 32.9544864075522\n39. 22.5673512335023\n40. 22.7893362929194\n41. 26.531526371679\n42. 34.3366288416673\n43. 10.4075021723455\n44. 29.7750291678076\n45. 17.7006268428458\n46. 21.2599812903103\n47. 14.648635167543\n48. 19.9584908690764\n49. 30.7540324990685\n50. 10.3570670572148\n51. 17.5994447184128\n52. 27.3906113131828\n53. 6.63273239413003\n54. 11.6998469061478\n55. 22.5866330378763\n56. 17.7539893632088\n57. 31.9856891900492\n58. 23.7366557526382\n59. 18.7085517181717\n60. 31.5847603501487\n61. 16.4088491365237\n62. 21.9273005955298\n63. 7.2818607821742\n64. 18.3298305151361\n65. 16.0785256664516\n66. 17.6346438027463\n67. 19.7365764399547\n68. 5.08481762537522\n69. 25.8539369394395\n70. 23.0290865432173\n71. 6.38791221663245\n72. 22.7913191910388\n73. 27.842831807771\n74. 7.31711447514455\n75. 27.3390996477733\n76. 9.99815979505994\n77. 24.9457283739528\n78. 17.2828408109679\n79. 16.3554451007617\n80. 27.2644695562818\n81. 25.0864004340573\n82. 30.2406943873484\n83. 6.25139479465695\n84. 15.6148028869302\n85. 31.4885967575625\n86. 4.58116865626284\n87. 33.4971588179835\n88. 22.3200024988363\n89. 27.7305557753222\n90. 16.516164970559\n91. 25.5612921077507\n92. 6.44835337556402\n93. 11.8589258239413\n94. 13.3276304078394\n95. 36.3995795532103\n96. 33.1566897824102\n97. 0.891722987032008\n98. 4.64387722398984\n99. 35.4710747606192\n100. 13.5028373753309\n\n\n",
            "text/latex": "\\begin{enumerate*}\n\\item 11.5010751349104\n\\item 15.6687900493938\n\\item 17.2019709854134\n\\item 23.7193582565277\n\\item 8.78701719807616\n\\item 29.7578230273103\n\\item 38.2022957495289\n\\item 9.47756167111032\n\\item 24.043975426827\n\\item 22.6079762894203\n\\item 25.5645995737939\n\\item 29.6509839502541\n\\item 32.4327548134251\n\\item 17.0310181785536\n\\item 23.2796062796572\n\\item 16.8208923926817\n\\item 32.3913621060707\n\\item 7.58535330579149\n\\item 19.3817691774129\n\\item 9.78959392662379\n\\item 45.0541874717509\n\\item 20.3268108263651\n\\item 26.2355732573755\n\\item 18.7673346314437\n\\item 27.2023035044391\n\\item 24.5029187793707\n\\item 18.7787233424335\n\\item 36.7170169138678\n\\item 13.2909041693773\n\\item 24.6931655490322\n\\item 21.0241572086254\n\\item 18.4485442746009\n\\item 17.2943952124464\n\\item 15.8988930681608\n\\item 12.0327407830967\n\\item 26.0688986479702\n\\item 17.2691443579702\n\\item 32.9544864075522\n\\item 22.5673512335023\n\\item 22.7893362929194\n\\item 26.531526371679\n\\item 34.3366288416673\n\\item 10.4075021723455\n\\item 29.7750291678076\n\\item 17.7006268428458\n\\item 21.2599812903103\n\\item 14.648635167543\n\\item 19.9584908690764\n\\item 30.7540324990685\n\\item 10.3570670572148\n\\item 17.5994447184128\n\\item 27.3906113131828\n\\item 6.63273239413003\n\\item 11.6998469061478\n\\item 22.5866330378763\n\\item 17.7539893632088\n\\item 31.9856891900492\n\\item 23.7366557526382\n\\item 18.7085517181717\n\\item 31.5847603501487\n\\item 16.4088491365237\n\\item 21.9273005955298\n\\item 7.2818607821742\n\\item 18.3298305151361\n\\item 16.0785256664516\n\\item 17.6346438027463\n\\item 19.7365764399547\n\\item 5.08481762537522\n\\item 25.8539369394395\n\\item 23.0290865432173\n\\item 6.38791221663245\n\\item 22.7913191910388\n\\item 27.842831807771\n\\item 7.31711447514455\n\\item 27.3390996477733\n\\item 9.99815979505994\n\\item 24.9457283739528\n\\item 17.2828408109679\n\\item 16.3554451007617\n\\item 27.2644695562818\n\\item 25.0864004340573\n\\item 30.2406943873484\n\\item 6.25139479465695\n\\item 15.6148028869302\n\\item 31.4885967575625\n\\item 4.58116865626284\n\\item 33.4971588179835\n\\item 22.3200024988363\n\\item 27.7305557753222\n\\item 16.516164970559\n\\item 25.5612921077507\n\\item 6.44835337556402\n\\item 11.8589258239413\n\\item 13.3276304078394\n\\item 36.3995795532103\n\\item 33.1566897824102\n\\item 0.891722987032008\n\\item 4.64387722398984\n\\item 35.4710747606192\n\\item 13.5028373753309\n\\end{enumerate*}\n",
            "text/plain": [
              "  [1] 11.501075 15.668790 17.201971 23.719358  8.787017 29.757823 38.202296\n",
              "  [8]  9.477562 24.043975 22.607976 25.564600 29.650984 32.432755 17.031018\n",
              " [15] 23.279606 16.820892 32.391362  7.585353 19.381769  9.789594 45.054187\n",
              " [22] 20.326811 26.235573 18.767335 27.202304 24.502919 18.778723 36.717017\n",
              " [29] 13.290904 24.693166 21.024157 18.448544 17.294395 15.898893 12.032741\n",
              " [36] 26.068899 17.269144 32.954486 22.567351 22.789336 26.531526 34.336629\n",
              " [43] 10.407502 29.775029 17.700627 21.259981 14.648635 19.958491 30.754032\n",
              " [50] 10.357067 17.599445 27.390611  6.632732 11.699847 22.586633 17.753989\n",
              " [57] 31.985689 23.736656 18.708552 31.584760 16.408849 21.927301  7.281861\n",
              " [64] 18.329831 16.078526 17.634644 19.736576  5.084818 25.853937 23.029087\n",
              " [71]  6.387912 22.791319 27.842832  7.317114 27.339100  9.998160 24.945728\n",
              " [78] 17.282841 16.355445 27.264470 25.086400 30.240694  6.251395 15.614803\n",
              " [85] 31.488597  4.581169 33.497159 22.320002 27.730556 16.516165 25.561292\n",
              " [92]  6.448353 11.858926 13.327630 36.399580 33.156690  0.891723  4.643877\n",
              " [99] 35.471075 13.502837"
            ]
          },
          "metadata": {}
        }
      ]
    },
    {
      "cell_type": "code",
      "metadata": {
        "trusted": true,
        "id": "Y6ILF-Szm5Zg"
      },
      "source": [
        "# Dejar como parámetro el largo del vector temp\n",
        "N <- length(temp)"
      ],
      "execution_count": 2,
      "outputs": []
    },
    {
      "cell_type": "markdown",
      "metadata": {
        "id": "C4MEJWjBm5Zi"
      },
      "source": [
        "**Paso 2**\n",
        "\n",
        "Genere un vector llamado _dia_ del mismo largo que que *temp*, que contenga los días consecutivos de la semana, partiendo del lunes. (utilice la función _rep()_ )"
      ]
    },
    {
      "cell_type": "code",
      "metadata": {
        "trusted": true,
        "id": "1PWK1DPXm5Zj",
        "outputId": "dfc4d19f-21f5-49db-8d08-bd913f245a7c",
        "colab": {
          "base_uri": "https://localhost:8080/",
          "height": 34
        }
      },
      "source": [
        "# Paso 2\n",
        "#dia <- rep(c(\"L\",\"M\",\"W\",\"J\",\"V\",\"S\",\"D\"), 100 ) repite el vector de largo7, 100 veces. Genera un vector resultante de largo 700\n",
        "dia <- rep(c(\"L\",\"M\",\"W\",\"J\",\"V\",\"S\",\"D\"), length.out = N)\n",
        "length(dia)"
      ],
      "execution_count": 4,
      "outputs": [
        {
          "output_type": "display_data",
          "data": {
            "text/html": [
              "100"
            ],
            "text/markdown": "100",
            "text/latex": "100",
            "text/plain": [
              "[1] 100"
            ]
          },
          "metadata": {}
        }
      ]
    },
    {
      "cell_type": "markdown",
      "metadata": {
        "id": "n1n3ptOIm5Zm"
      },
      "source": [
        "**Paso 3**\n",
        "\n",
        "Genere un vector llamado _est_, del mismo largo que _temp_, que en el primer tercio contenga el valor \"E1\", en el segundo tercio \"E2\", y en el tercer tercio \"E3\". Por ejemplo, si _temp_ tuviese 10 datos, el vector _est_ se vería como \n",
        "\n",
        "\n",
        "<center> _est_ = (E1,E1,E1,E2,E2,E2,E3,E3,E3,E3) </center>"
      ]
    },
    {
      "cell_type": "code",
      "metadata": {
        "trusted": true,
        "id": "eobMVmXxm5Zn"
      },
      "source": [
        "# Paso 3\n",
        "e1 <- rep(\"E1\",N/3)\n",
        "e2 <- rep(\"E2\", N/3)\n",
        "e3 <- rep(\"E3\", N-(length(e1)+length(e2)))\n",
        "\n",
        "est <- c(e1,e2,e3)\n",
        "est\n",
        "length(est)\n",
        "lenght(e1);length(e2);lenght(e3)"
      ],
      "execution_count": 6,
      "outputs": []
    },
    {
      "cell_type": "code",
      "source": [
        "rep(c(\"E1\",\"E2\",\"E2\"),c(33,33,34)) #OtraForma"
      ],
      "metadata": {
        "id": "JqP3WkASujZJ"
      },
      "execution_count": null,
      "outputs": []
    },
    {
      "cell_type": "markdown",
      "metadata": {
        "id": "bZZScNwUm5Zp"
      },
      "source": [
        "**Paso 4**\n",
        "\n",
        "Genere un vector llamado _lluvia_ del mismo largo que _temp_, que sea TRUE en las posiciones en que _temp_ sea menor que 20, y FALSE en caso contrario. "
      ]
    },
    {
      "cell_type": "code",
      "metadata": {
        "trusted": true,
        "id": "AbtOs123m5Zq",
        "outputId": "7aad8d04-1de3-447b-8b4b-9327f6f6949a",
        "colab": {
          "base_uri": "https://localhost:8080/",
          "height": 86
        }
      },
      "source": [
        "# Paso 4\n",
        "lluvia <- temp < 20\n",
        "lluvia"
      ],
      "execution_count": 7,
      "outputs": [
        {
          "output_type": "display_data",
          "data": {
            "text/html": [
              "<style>\n",
              ".list-inline {list-style: none; margin:0; padding: 0}\n",
              ".list-inline>li {display: inline-block}\n",
              ".list-inline>li:not(:last-child)::after {content: \"\\00b7\"; padding: 0 .5ex}\n",
              "</style>\n",
              "<ol class=list-inline><li>TRUE</li><li>TRUE</li><li>TRUE</li><li>FALSE</li><li>TRUE</li><li>FALSE</li><li>FALSE</li><li>TRUE</li><li>FALSE</li><li>FALSE</li><li>FALSE</li><li>FALSE</li><li>FALSE</li><li>TRUE</li><li>FALSE</li><li>TRUE</li><li>FALSE</li><li>TRUE</li><li>TRUE</li><li>TRUE</li><li>FALSE</li><li>FALSE</li><li>FALSE</li><li>TRUE</li><li>FALSE</li><li>FALSE</li><li>TRUE</li><li>FALSE</li><li>TRUE</li><li>FALSE</li><li>FALSE</li><li>TRUE</li><li>TRUE</li><li>TRUE</li><li>TRUE</li><li>FALSE</li><li>TRUE</li><li>FALSE</li><li>FALSE</li><li>FALSE</li><li>FALSE</li><li>FALSE</li><li>TRUE</li><li>FALSE</li><li>TRUE</li><li>FALSE</li><li>TRUE</li><li>TRUE</li><li>FALSE</li><li>TRUE</li><li>TRUE</li><li>FALSE</li><li>TRUE</li><li>TRUE</li><li>FALSE</li><li>TRUE</li><li>FALSE</li><li>FALSE</li><li>TRUE</li><li>FALSE</li><li>TRUE</li><li>FALSE</li><li>TRUE</li><li>TRUE</li><li>TRUE</li><li>TRUE</li><li>TRUE</li><li>TRUE</li><li>FALSE</li><li>FALSE</li><li>TRUE</li><li>FALSE</li><li>FALSE</li><li>TRUE</li><li>FALSE</li><li>TRUE</li><li>FALSE</li><li>TRUE</li><li>TRUE</li><li>FALSE</li><li>FALSE</li><li>FALSE</li><li>TRUE</li><li>TRUE</li><li>FALSE</li><li>TRUE</li><li>FALSE</li><li>FALSE</li><li>FALSE</li><li>TRUE</li><li>FALSE</li><li>TRUE</li><li>TRUE</li><li>TRUE</li><li>FALSE</li><li>FALSE</li><li>TRUE</li><li>TRUE</li><li>FALSE</li><li>TRUE</li></ol>\n"
            ],
            "text/markdown": "1. TRUE\n2. TRUE\n3. TRUE\n4. FALSE\n5. TRUE\n6. FALSE\n7. FALSE\n8. TRUE\n9. FALSE\n10. FALSE\n11. FALSE\n12. FALSE\n13. FALSE\n14. TRUE\n15. FALSE\n16. TRUE\n17. FALSE\n18. TRUE\n19. TRUE\n20. TRUE\n21. FALSE\n22. FALSE\n23. FALSE\n24. TRUE\n25. FALSE\n26. FALSE\n27. TRUE\n28. FALSE\n29. TRUE\n30. FALSE\n31. FALSE\n32. TRUE\n33. TRUE\n34. TRUE\n35. TRUE\n36. FALSE\n37. TRUE\n38. FALSE\n39. FALSE\n40. FALSE\n41. FALSE\n42. FALSE\n43. TRUE\n44. FALSE\n45. TRUE\n46. FALSE\n47. TRUE\n48. TRUE\n49. FALSE\n50. TRUE\n51. TRUE\n52. FALSE\n53. TRUE\n54. TRUE\n55. FALSE\n56. TRUE\n57. FALSE\n58. FALSE\n59. TRUE\n60. FALSE\n61. TRUE\n62. FALSE\n63. TRUE\n64. TRUE\n65. TRUE\n66. TRUE\n67. TRUE\n68. TRUE\n69. FALSE\n70. FALSE\n71. TRUE\n72. FALSE\n73. FALSE\n74. TRUE\n75. FALSE\n76. TRUE\n77. FALSE\n78. TRUE\n79. TRUE\n80. FALSE\n81. FALSE\n82. FALSE\n83. TRUE\n84. TRUE\n85. FALSE\n86. TRUE\n87. FALSE\n88. FALSE\n89. FALSE\n90. TRUE\n91. FALSE\n92. TRUE\n93. TRUE\n94. TRUE\n95. FALSE\n96. FALSE\n97. TRUE\n98. TRUE\n99. FALSE\n100. TRUE\n\n\n",
            "text/latex": "\\begin{enumerate*}\n\\item TRUE\n\\item TRUE\n\\item TRUE\n\\item FALSE\n\\item TRUE\n\\item FALSE\n\\item FALSE\n\\item TRUE\n\\item FALSE\n\\item FALSE\n\\item FALSE\n\\item FALSE\n\\item FALSE\n\\item TRUE\n\\item FALSE\n\\item TRUE\n\\item FALSE\n\\item TRUE\n\\item TRUE\n\\item TRUE\n\\item FALSE\n\\item FALSE\n\\item FALSE\n\\item TRUE\n\\item FALSE\n\\item FALSE\n\\item TRUE\n\\item FALSE\n\\item TRUE\n\\item FALSE\n\\item FALSE\n\\item TRUE\n\\item TRUE\n\\item TRUE\n\\item TRUE\n\\item FALSE\n\\item TRUE\n\\item FALSE\n\\item FALSE\n\\item FALSE\n\\item FALSE\n\\item FALSE\n\\item TRUE\n\\item FALSE\n\\item TRUE\n\\item FALSE\n\\item TRUE\n\\item TRUE\n\\item FALSE\n\\item TRUE\n\\item TRUE\n\\item FALSE\n\\item TRUE\n\\item TRUE\n\\item FALSE\n\\item TRUE\n\\item FALSE\n\\item FALSE\n\\item TRUE\n\\item FALSE\n\\item TRUE\n\\item FALSE\n\\item TRUE\n\\item TRUE\n\\item TRUE\n\\item TRUE\n\\item TRUE\n\\item TRUE\n\\item FALSE\n\\item FALSE\n\\item TRUE\n\\item FALSE\n\\item FALSE\n\\item TRUE\n\\item FALSE\n\\item TRUE\n\\item FALSE\n\\item TRUE\n\\item TRUE\n\\item FALSE\n\\item FALSE\n\\item FALSE\n\\item TRUE\n\\item TRUE\n\\item FALSE\n\\item TRUE\n\\item FALSE\n\\item FALSE\n\\item FALSE\n\\item TRUE\n\\item FALSE\n\\item TRUE\n\\item TRUE\n\\item TRUE\n\\item FALSE\n\\item FALSE\n\\item TRUE\n\\item TRUE\n\\item FALSE\n\\item TRUE\n\\end{enumerate*}\n",
            "text/plain": [
              "  [1]  TRUE  TRUE  TRUE FALSE  TRUE FALSE FALSE  TRUE FALSE FALSE FALSE FALSE\n",
              " [13] FALSE  TRUE FALSE  TRUE FALSE  TRUE  TRUE  TRUE FALSE FALSE FALSE  TRUE\n",
              " [25] FALSE FALSE  TRUE FALSE  TRUE FALSE FALSE  TRUE  TRUE  TRUE  TRUE FALSE\n",
              " [37]  TRUE FALSE FALSE FALSE FALSE FALSE  TRUE FALSE  TRUE FALSE  TRUE  TRUE\n",
              " [49] FALSE  TRUE  TRUE FALSE  TRUE  TRUE FALSE  TRUE FALSE FALSE  TRUE FALSE\n",
              " [61]  TRUE FALSE  TRUE  TRUE  TRUE  TRUE  TRUE  TRUE FALSE FALSE  TRUE FALSE\n",
              " [73] FALSE  TRUE FALSE  TRUE FALSE  TRUE  TRUE FALSE FALSE FALSE  TRUE  TRUE\n",
              " [85] FALSE  TRUE FALSE FALSE FALSE  TRUE FALSE  TRUE  TRUE  TRUE FALSE FALSE\n",
              " [97]  TRUE  TRUE FALSE  TRUE"
            ]
          },
          "metadata": {}
        }
      ]
    },
    {
      "cell_type": "markdown",
      "metadata": {
        "id": "i7p8FIdtm5Zs"
      },
      "source": [
        "**Paso 5**\n",
        "\n",
        "Finalmente cree un data frame llamado _precipitaciones_ con las siguientes columnas:<br>\n",
        "\n",
        "*Dia_semana* (con los valores del vector _dia_)<br>\n",
        "*Temperatura* (con los valores del vector _temp_)<br>\n",
        "*Llueve* (con los valores del vector _lluvia_)<br>\n",
        "*Estacion* (con los valores del vector _est_)<br>"
      ]
    },
    {
      "cell_type": "code",
      "metadata": {
        "trusted": true,
        "id": "o-TVm7uum5Zs",
        "outputId": "47b41baf-6f30-4723-ab38-11e1dadca29e",
        "colab": {
          "base_uri": "https://localhost:8080/",
          "height": 148
        }
      },
      "source": [
        "# Paso 5\n",
        "precipitaciones <- data.frame(Dia_semana=dia,\n",
        "                              Temperatura=temp,\n",
        "                              Llueve=lluvia\n",
        "                              estacion=est)\n",
        "\n",
        "CTRL+SHIFT+CLICK\n",
        "CTRL+SHIFT+C documentar\n",
        "CTRL+SHIFT+A identar\n",
        "CTRL+SHIFT+R colapsar secciones"
      ],
      "execution_count": 8,
      "outputs": [
        {
          "output_type": "error",
          "ename": "ERROR",
          "evalue": "ignored",
          "traceback": [
            "Error in parse(text = x, srcfile = src): <text>:5:31: unexpected symbol\n4:                               Llueve=lluvia\n5:                               estacion\n                                 ^\nTraceback:\n"
          ]
        }
      ]
    },
    {
      "cell_type": "code",
      "source": [
        "head(precipitaciones,10)"
      ],
      "metadata": {
        "id": "WWcV4jwpwImp"
      },
      "execution_count": null,
      "outputs": []
    },
    {
      "cell_type": "markdown",
      "metadata": {
        "id": "kIjelA5sm5Zx"
      },
      "source": [
        "#### Strings como factores\n",
        "Cuando en R se declara una variable como factor, internamente se codifican sus categorías con valores 0 o 1. Por ejemplo, para las variables _Dia_ y _Estacion_ podemos generar sus matriz de diseño, indicando un 1 si el día (o estación) corresponde a la nueva columna generada, 0 si  no:\n",
        "\n",
        " |Dia |Temperatura    |Llueve| Estacion| | Dia.L|Dia.M|Dia.W|Dia.J|Dia.V|Dia.S|Dia.D|Est.1|Est.2|Est.3|\n",
        " |----|------------   |------|---------| |---   |---  |---  |---  |---  |---  |---  |---  |---  |---  |\n",
        " |L\t  |16.300201      |TRUE  |\tE1     | |1     |0    |0    |0    |0    |0    |0    |1    |0    |0    |\n",
        " |M   |21.042854      |FALSE |\tE1     | |0     |1    |0    |0    |0    |0    |0    |1    |0    |0    |\n",
        " |J\t  |31.256043      |FALSE |\tE3     | |0     |0    |0    |1    |0    |0    |0    |0    |0    |1    |\n",
        " |S\t  |40.083514      |FALSE |\tE3     | |0     |0    |0    |0    |0    |1    |0    |0    |0    |1    |\n",
        " \n",
        " Cuando se quiere generar un resumen de una variable categórica, o cuando se quiere incluir una variable de este tipo en el entrenamiento de un modelo será necesario declarar dicha variable como factor."
      ]
    },
    {
      "cell_type": "code",
      "metadata": {
        "trusted": true,
        "id": "UQN71LvGm5Z-"
      },
      "source": [
        "#podemos volver a coercionar las columnas a clase factor,  con la función as.factor\n"
      ],
      "execution_count": null,
      "outputs": []
    },
    {
      "cell_type": "code",
      "metadata": {
        "trusted": true,
        "id": "5kjmwaOUm5aA"
      },
      "source": [
        "# Un poco de exploración --------------------------------\n",
        "# ¿Cuál es la temperatura promedio cuando llovió?\n",
        "\n",
        "# ¿Cuál es la temperatura promedio cuando NO llovió?\n",
        "\n",
        "\n",
        "\n",
        "#Lo mismo pero sólo de los registros de E1\n",
        "\n"
      ],
      "execution_count": null,
      "outputs": []
    },
    {
      "cell_type": "code",
      "metadata": {
        "trusted": true,
        "id": "TJuAlpPxm5aC"
      },
      "source": [
        "# ¿Qué día era cuando se alcanzó la mínima temperatura?¿y la ,máxima?\n",
        "#La función which.min #o .max . retorna la posición donde se alcanza el min/max de un vector.\n",
        "\n",
        "# opcion 1\n",
        "\n",
        "# opcion 2\n"
      ],
      "execution_count": null,
      "outputs": []
    },
    {
      "cell_type": "code",
      "metadata": {
        "trusted": true,
        "id": "WHf5YnPWm5aF"
      },
      "source": [
        "# Una forma de eliminar registros en vector\n",
        "\n",
        "\n"
      ],
      "execution_count": null,
      "outputs": []
    },
    {
      "cell_type": "code",
      "metadata": {
        "trusted": true,
        "id": "6Vx1ojnAm5aH"
      },
      "source": [
        "# POdemos eliminar los registros de posición 3 y 4\n"
      ],
      "execution_count": null,
      "outputs": []
    },
    {
      "cell_type": "code",
      "metadata": {
        "trusted": true,
        "id": "K9Qv9n_nm5aJ"
      },
      "source": [
        "# Si queremos ver esa misma fila de la tabla precipitaciones.\n",
        "\n",
        "\n",
        "# Se sabe que la Estación E3 falla todos los días domingo, por lo que se quiere eliminar tales registros de la tabla. Elimínelos!\n",
        "\n"
      ],
      "execution_count": null,
      "outputs": []
    },
    {
      "cell_type": "code",
      "metadata": {
        "trusted": true,
        "id": "nuW7ux65m5aL"
      },
      "source": [
        "dim(precipitaciones)"
      ],
      "execution_count": null,
      "outputs": []
    },
    {
      "cell_type": "markdown",
      "metadata": {
        "id": "5fmGF0Qam5aN"
      },
      "source": [
        "## 5.4 Cómo guardar ambiente de trabajo o variables definidas en el\n",
        "\n",
        "### Directorio de trabajo\n",
        "\n",
        "El directorio de trabajo corresponde a la ubicación en el sistema de archivos, desde donde la sesión de R podrá acceder directamente para guardar o cargar datos.\n"
      ]
    },
    {
      "cell_type": "code",
      "metadata": {
        "trusted": true,
        "id": "OfyO5MKOm5aO"
      },
      "source": [
        "# para saber en qué directorio se está trabajando\n"
      ],
      "execution_count": null,
      "outputs": []
    },
    {
      "cell_type": "code",
      "metadata": {
        "trusted": true,
        "id": "fHZIjYhRm5aQ"
      },
      "source": [
        "# para cambiar el directorio de trabajo\n",
        "\n"
      ],
      "execution_count": null,
      "outputs": []
    },
    {
      "cell_type": "markdown",
      "metadata": {
        "id": "_M-D6sgRm5aU"
      },
      "source": [
        "### Formato rds \n",
        "\n",
        "Una manera de guardar variables creadas en el ambiente de la sessión de R, es mediante la utilización del formato *.rds. Este formato permite guardar los objetos declarados y leerlos rápidamente en cualquier otra sesión que se inicie posteriormente. Es últil por ejemplo para guardar en disco modelos entrenados para ser utilizados para predicciones futuras.\n"
      ]
    },
    {
      "cell_type": "code",
      "metadata": {
        "trusted": true,
        "id": "11jJ5B50m5aV"
      },
      "source": [
        "# Función saveRDS() # Guardar\n",
        "# guarde en el directorio actual el dataframe _precipitaciones_\n"
      ],
      "execution_count": null,
      "outputs": []
    },
    {
      "cell_type": "code",
      "metadata": {
        "trusted": true,
        "id": "DixES_Kjm5ah"
      },
      "source": [
        "# readRDS()  Leer, pero ojo que es necesario asignar  a una variable\n"
      ],
      "execution_count": null,
      "outputs": []
    },
    {
      "cell_type": "markdown",
      "metadata": {
        "id": "_4pmC4cBm5as"
      },
      "source": [
        "### Formato RData\n",
        "\n",
        "Cuando se quiere guardar el ambiente de trabajo completo, o bien un mayor número de objetos ya creados, se puede utilizar la función _save_\n"
      ]
    },
    {
      "cell_type": "code",
      "metadata": {
        "trusted": true,
        "id": "M5yFyJ27m5at"
      },
      "source": [
        "# Función save para guardar uno o más objetos del ambiente.\n",
        "\n"
      ],
      "execution_count": null,
      "outputs": []
    },
    {
      "cell_type": "code",
      "metadata": {
        "trusted": true,
        "id": "YDmd1Npmm5ay"
      },
      "source": [
        "# Eventualmente podemos \"cargar \" a sesión, con la función load()\n"
      ],
      "execution_count": null,
      "outputs": []
    }
  ]
}