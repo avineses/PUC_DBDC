{
  "nbformat": 4,
  "nbformat_minor": 0,
  "metadata": {
    "colab": {
      "name": "Clase7_1_Distribuciones_de_probabilidad_en_r.ipynb",
      "provenance": [],
      "collapsed_sections": [],
      "include_colab_link": true
    },
    "kernelspec": {
      "name": "ir",
      "display_name": "R"
    }
  },
  "cells": [
    {
      "cell_type": "markdown",
      "metadata": {
        "id": "view-in-github",
        "colab_type": "text"
      },
      "source": [
        "<a href=\"https://colab.research.google.com/github/avineses/PUC_DBDC/blob/main/Clase7/Clase7_1_Distribuciones_de_probabilidad_en_r.ipynb\" target=\"_parent\"><img src=\"https://colab.research.google.com/assets/colab-badge.svg\" alt=\"Open In Colab\"/></a>"
      ]
    },
    {
      "cell_type": "markdown",
      "metadata": {
        "collapsed": true,
        "id": "OejoCTBMIzQV"
      },
      "source": [
        "# Parte 6: Distribuciones de probabilidad\n",
        "\n",
        "**Autor:** Miguel Jorquera Viguera.<br>\n",
        "**E-mail:** majorquev@gmail.com<br>\n",
        "**Ayudante:** Rodrigo Morales<br>\n",
        "**E-mail ayudante:** rumorale1@gmail.com\n",
        "\n",
        "En R podemos obtener valores tanto de las funciones de densidad, distribución de probabilidad, cuantiles de una distribución o bien generar valores aleatorios de diversas distribuciones paramétricas.\n",
        "Casi todas las distribuciones que se encuentran implementadas en la librería base de R se referencian de la misma manera.\n",
        "\n",
        "* Funciones de densidad (PDFs) comienzan con la letra “d.”\n",
        "* Funciones de distribución acumulada comienzan con la letra “p.”\n",
        "* Funcioenes que retornan quantiles de una distribución comienzan con la letra “q.”\n",
        "* Funciones que generan valores aleatorios comienzan con la letra“r.” \n",
        "\n",
        "Por defecto, en R contamos con una amplia variedad familias de distribuciones enre las que destacan las siguientes.\n",
        "\n",
        "\n",
        "\n",
        "**Distribution**| **R name**| **additional arguments**\n",
        "-----| -----| -----\n",
        "beta |`beta` |shape1, shape2, ncp\n",
        "binomial| `binom`| size, prob\n",
        "Cauchy|`cauchy` |location, scale\n",
        "chi-squared| `chisq`| df, ncp\n",
        "exponential| `exp` |rate\n",
        "F| `f` |df1, df2, ncp\n",
        "gamma |`gamma` |shape, scale\n",
        "geometric |`geom` |prob\n",
        "hypergeometric| `hyper`| m, n, k\n",
        "log-normal| `lnorm` |meanlog, sdlog\n",
        "logistic |`logis` |location, scale\n",
        "negative| `binomial`| nbinom size, prob\n",
        "normal |`norm` |mean, sd\n",
        "Poisson| `pois`| lambda\n",
        "signed rank |`signrank`| n\n",
        "Student’s t| `t`| df, ncp\n",
        "uniform |`unif`| min, max\n",
        "Weibull| `weibull`| shape, scale\n",
        "Wilcoxon |`wilcox`|m, n\n",
        "\n",
        "\n"
      ]
    },
    {
      "cell_type": "markdown",
      "metadata": {
        "id": "-PTP0v_EIzQV"
      },
      "source": [
        "# I) Distribución normal\n",
        "\n",
        "## Función de densidad\n",
        "$$f(x) = \\frac{1}{\\sqrt{2 π \\sigma^2}} e^{-\\frac{1}{2\\sigma^2}(x - \\mu)^2}$$\n",
        "\n",
        "## En R...\n",
        "\n",
        "* `dnorm(x, mean = 0, sd = 1, log = FALSE)`: Evalúa la función de densidad.\n",
        "* `pnorm(q, mean = 0, sd = 1, lower.tail = TRUE, log.p = FALSE)`: Calcula la probabilidad acumulada (función de distribución).\n",
        "* `qnorm(p, mean = 0, sd = 1, lower.tail = TRUE, log.p = FALSE)`: Calcula los quantiles de la distribución. (Función inversa de la función de distribución de probabilidad).\n",
        "* `rnorm(n, mean = 0, sd = 1)`: Genera muestras aleatroias.\n",
        "\n",
        "\n",
        "\n",
        "\n",
        "**P1.** Se sabe que la estatura de la población adulta de sexo masculino chilena sigue una distribución normal con media 171,8 cms y una desviación estándar de 5cms\n",
        "\n",
        "**a)** ¿Cuál es la probabilidad de encontrar de que una persona hombre  adulta tenga una estatura\n",
        "menor o igual a 160 cms?"
      ]
    },
    {
      "cell_type": "code",
      "metadata": {
        "trusted": true,
        "id": "ToHwVVRJIzQV",
        "outputId": "6b2ca1ef-46e7-4aad-9333-b787e001463b",
        "colab": {
          "base_uri": "https://localhost:8080/",
          "height": 34
        }
      },
      "source": [
        "# pnorm()\n",
        "#?pnorm\n",
        "pnorm(160, mean = 171.8, sd = 5)\n",
        "# Hay un 0.9% de probabilidad de que la persona mida menos de 1.60 mts.\n",
        "\n"
      ],
      "execution_count": null,
      "outputs": [
        {
          "output_type": "display_data",
          "data": {
            "text/html": [
              "0.00913746753057262"
            ],
            "text/markdown": "0.00913746753057262",
            "text/latex": "0.00913746753057262",
            "text/plain": [
              "[1] 0.009137468"
            ]
          },
          "metadata": {}
        }
      ]
    },
    {
      "cell_type": "code",
      "metadata": {
        "trusted": true,
        "id": "aurFMEakIzQW"
      },
      "source": [
        "?pnorm"
      ],
      "execution_count": null,
      "outputs": []
    },
    {
      "cell_type": "markdown",
      "metadata": {
        "id": "h-zASRnGIzQW"
      },
      "source": [
        "  \n",
        "**b)** ¿Cuál es la probabilidad de encontrar de que una persona adulta tenga una estatura mayor  a 160 cms?\n",
        "  "
      ]
    },
    {
      "cell_type": "code",
      "metadata": {
        "trusted": true,
        "id": "jQ8cahkIIzQW",
        "outputId": "80942040-4ad6-4861-de93-08492b515797",
        "colab": {
          "base_uri": "https://localhost:8080/",
          "height": 52
        }
      },
      "source": [
        "#P(estatura > 160) = 1- P(estatura <= 160)\n",
        "1-pnorm(160, mean = 171.8, sd = 5)\n",
        "\n",
        "#NOTA \n",
        "# lower.tail \n",
        "pnorm(160, mean = 171.8, sd = 5, lower.tail = F)"
      ],
      "execution_count": null,
      "outputs": [
        {
          "output_type": "display_data",
          "data": {
            "text/html": [
              "0.990862532469427"
            ],
            "text/markdown": "0.990862532469427",
            "text/latex": "0.990862532469427",
            "text/plain": [
              "[1] 0.9908625"
            ]
          },
          "metadata": {}
        },
        {
          "output_type": "display_data",
          "data": {
            "text/html": [
              "0.990862532469427"
            ],
            "text/markdown": "0.990862532469427",
            "text/latex": "0.990862532469427",
            "text/plain": [
              "[1] 0.9908625"
            ]
          },
          "metadata": {}
        }
      ]
    },
    {
      "cell_type": "markdown",
      "metadata": {
        "id": "RW1a4CYOIzQW"
      },
      "source": [
        "**c)** ¿Cuál es la probabilidad de encontrar una persona con estatura entre 180cms y 190 cms?"
      ]
    },
    {
      "cell_type": "code",
      "metadata": {
        "trusted": true,
        "id": "OvapQgJnIzQW",
        "outputId": "291e026c-f188-400d-9723-cdfeee6a239a",
        "colab": {
          "base_uri": "https://localhost:8080/",
          "height": 34
        }
      },
      "source": [
        "# P(est <= 190) - P(est <= 180) = P(180 <= est <= 190)\n",
        "pnorm(190, mean = 171.8, sd = 5) - pnorm(180, mean = 171.8, sd = 5)\n",
        "\n",
        "# Hay un 5% de probabilidad de encontrar una persona con estatura entre 180 y 190."
      ],
      "execution_count": null,
      "outputs": [
        {
          "output_type": "display_data",
          "data": {
            "text/html": [
              "0.0503662644536582"
            ],
            "text/markdown": "0.0503662644536582",
            "text/latex": "0.0503662644536582",
            "text/plain": [
              "[1] 0.05036626"
            ]
          },
          "metadata": {}
        }
      ]
    },
    {
      "cell_type": "markdown",
      "metadata": {
        "id": "wKeJk1S1IzQX"
      },
      "source": [
        "**d)** ¿Cuál es la estatura que corresponde al percentil 90?"
      ]
    },
    {
      "cell_type": "code",
      "metadata": {
        "trusted": true,
        "id": "uH4r-tSjIzQX",
        "outputId": "fae5a496-d7ac-49b9-a9c8-552287ee2a1c",
        "colab": {
          "base_uri": "https://localhost:8080/",
          "height": 34
        }
      },
      "source": [
        "qnorm(0.9, mean =  171.8, sd = 5)\n",
        "# Cómo interpretamos este valor\n",
        "# El 90% de las personas de género masculino,en chile, tiene una estatura menor o igual a 178.2 cms."
      ],
      "execution_count": null,
      "outputs": [
        {
          "output_type": "display_data",
          "data": {
            "text/html": [
              "178.207757827723"
            ],
            "text/markdown": "178.207757827723",
            "text/latex": "178.207757827723",
            "text/plain": [
              "[1] 178.2078"
            ]
          },
          "metadata": {}
        }
      ]
    },
    {
      "cell_type": "markdown",
      "metadata": {
        "id": "8BETYF90IzQX"
      },
      "source": [
        "**d)**  Genere una muestra aleatoria de tamaño 1000 y guárdela en un vector llamado _estaturas_, provenientes de una distribución normal con media 171,8 y desviación estandar igual a 5."
      ]
    },
    {
      "cell_type": "code",
      "metadata": {
        "trusted": true,
        "id": "_jaKERD8IzQX"
      },
      "source": [
        "# estaturas\n",
        "set.seed(666)\n",
        "estaturas <- rnorm(1000, mean = 171.8, sd = 5)"
      ],
      "execution_count": null,
      "outputs": []
    },
    {
      "cell_type": "markdown",
      "metadata": {
        "id": "xcbBK1N0IzQX"
      },
      "source": [
        "**e)** Mediante la función _hist()_ y la función _curve()_  genere un histograma de la muestra creada y añada la curva de distribución normal con la media y desviación estandar reales."
      ]
    },
    {
      "cell_type": "code",
      "metadata": {
        "trusted": true,
        "id": "2iZisxlHIzQX",
        "outputId": "62ccd43c-584c-46ac-d48a-f141107a9f34",
        "colab": {
          "base_uri": "https://localhost:8080/",
          "height": 34
        }
      },
      "source": [
        "## NOTA\n",
        "# dnorm() evalúa la función de densidad en el argumento dado\n",
        "dnorm(1.2, mean = 0, sd = 1) # evaluación de la densidad en el punto 1.2, de una distrib. normal con media 1 y sd 0."
      ],
      "execution_count": null,
      "outputs": [
        {
          "output_type": "display_data",
          "data": {
            "text/html": [
              "0.194186054983213"
            ],
            "text/markdown": "0.194186054983213",
            "text/latex": "0.194186054983213",
            "text/plain": [
              "[1] 0.1941861"
            ]
          },
          "metadata": {}
        }
      ]
    },
    {
      "cell_type": "code",
      "source": [
        "hist(estaturas,freq = F)\n",
        "curve(dnorm(x, mean = 171.8, sd = 5), add = T, col = \"red\")"
      ],
      "metadata": {
        "id": "dI-AW_fOszOd",
        "outputId": "6f3eb365-82bd-43db-ba6e-8b35759661b5",
        "colab": {
          "base_uri": "https://localhost:8080/",
          "height": 437
        }
      },
      "execution_count": null,
      "outputs": [
        {
          "output_type": "display_data",
          "data": {
            "text/plain": [
              "Plot with title “Histogram of estaturas”"
            ],
            "image/png": "[encoded data removed]"
          },
          "metadata": {
            "image/png": {
              "width": 420,
              "height": 420
            }
          }
        }
      ]
    },
    {
      "cell_type": "code",
      "metadata": {
        "trusted": true,
        "id": "EDPAiGwpIzQX",
        "outputId": "281de886-2c80-4d48-e53f-d64e1d4a906d",
        "colab": {
          "base_uri": "https://localhost:8080/",
          "height": 437
        }
      },
      "source": [
        "mu_est <- mean(estaturas)\n",
        "sd_est <- sd(estaturas)\n",
        "\n",
        "hist(estaturas,freq = F,breaks  =15)\n",
        "curve(dnorm(x, mean = 171.8, sd = 5), add = T, col = \"red\")\n",
        "curve(dnorm(x, mean = mu_est, sd = sd_est), add = T, col = \"blue\")"
      ],
      "execution_count": null,
      "outputs": [
        {
          "output_type": "display_data",
          "data": {
            "text/plain": [
              "Plot with title “Histogram of estaturas”"
            ],
            "image/png": "[encoded data removed]"
          },
          "metadata": {
            "image/png": {
              "width": 420,
              "height": 420
            }
          }
        }
      ]
    },
    {
      "cell_type": "code",
      "metadata": {
        "trusted": true,
        "id": "lAB7nivUIzQX"
      },
      "source": [
        "# Notar que en un histograma podemos visualizar los conteos o las frecuencias relativas.\n",
        "\n"
      ],
      "execution_count": null,
      "outputs": []
    },
    {
      "cell_type": "code",
      "metadata": {
        "trusted": true,
        "id": "R0pEKJLdIzQX"
      },
      "source": [
        "?hist"
      ],
      "execution_count": null,
      "outputs": []
    },
    {
      "cell_type": "code",
      "metadata": {
        "trusted": true,
        "id": "8GRr0dw3IzQX",
        "outputId": "3c1329ff-c315-40ef-93ce-c3a3dba6cc47",
        "colab": {
          "base_uri": "https://localhost:8080/",
          "height": 304
        }
      },
      "source": [
        "# Podemos realizar lo mismo con ggplot, aunque con un poco de dificultad adicional\n",
        "df <-data.frame(est = estaturas)\n",
        "head(df)"
      ],
      "execution_count": null,
      "outputs": [
        {
          "output_type": "display_data",
          "data": {
            "text/html": [
              "<table class=\"dataframe\">\n",
              "<caption>A data.frame: 6 × 1</caption>\n",
              "<thead>\n",
              "\t<tr><th></th><th scope=col>est</th></tr>\n",
              "\t<tr><th></th><th scope=col>&lt;dbl&gt;</th></tr>\n",
              "</thead>\n",
              "<tbody>\n",
              "\t<tr><th scope=row>1</th><td>175.5666</td></tr>\n",
              "\t<tr><th scope=row>2</th><td>181.8718</td></tr>\n",
              "\t<tr><th scope=row>3</th><td>170.0243</td></tr>\n",
              "\t<tr><th scope=row>4</th><td>181.9408</td></tr>\n",
              "\t<tr><th scope=row>5</th><td>160.7156</td></tr>\n",
              "\t<tr><th scope=row>6</th><td>175.5920</td></tr>\n",
              "</tbody>\n",
              "</table>\n"
            ],
            "text/markdown": "\nA data.frame: 6 × 1\n\n| <!--/--> | est &lt;dbl&gt; |\n|---|---|\n| 1 | 175.5666 |\n| 2 | 181.8718 |\n| 3 | 170.0243 |\n| 4 | 181.9408 |\n| 5 | 160.7156 |\n| 6 | 175.5920 |\n\n",
            "text/latex": "A data.frame: 6 × 1\n\\begin{tabular}{r|l}\n  & est\\\\\n  & <dbl>\\\\\n\\hline\n\t1 & 175.5666\\\\\n\t2 & 181.8718\\\\\n\t3 & 170.0243\\\\\n\t4 & 181.9408\\\\\n\t5 & 160.7156\\\\\n\t6 & 175.5920\\\\\n\\end{tabular}\n",
            "text/plain": [
              "  est     \n",
              "1 175.5666\n",
              "2 181.8718\n",
              "3 170.0243\n",
              "4 181.9408\n",
              "5 160.7156\n",
              "6 175.5920"
            ]
          },
          "metadata": {}
        }
      ]
    },
    {
      "cell_type": "markdown",
      "source": [
        "#NOTA: Funciones en R\n",
        "\n"
      ],
      "metadata": {
        "id": "k8lY1t0gxRV-"
      }
    },
    {
      "cell_type": "code",
      "source": [
        "g <- function(x,y){\n",
        "  aux = x*y\n",
        "  return(aux+10)\n",
        "}"
      ],
      "metadata": {
        "id": "lzC8LPGpxQ2Z"
      },
      "execution_count": null,
      "outputs": []
    },
    {
      "cell_type": "code",
      "source": [
        "g(1,2)"
      ],
      "metadata": {
        "id": "cpwGyMBWx4JI",
        "outputId": "0d167242-d07d-4242-8c71-f4ce891102d2",
        "colab": {
          "base_uri": "https://localhost:8080/",
          "height": 34
        }
      },
      "execution_count": null,
      "outputs": [
        {
          "output_type": "display_data",
          "data": {
            "text/html": [
              "12"
            ],
            "text/markdown": "12",
            "text/latex": "12",
            "text/plain": [
              "[1] 12"
            ]
          },
          "metadata": {}
        }
      ]
    },
    {
      "cell_type": "code",
      "source": [
        "library(dplyr)\n",
        "library(ggplot2)"
      ],
      "metadata": {
        "id": "kAinuA2vv7Xn",
        "outputId": "fc1e6ae5-c928-41bd-d929-fa7ff98c3209",
        "colab": {
          "base_uri": "https://localhost:8080/"
        }
      },
      "execution_count": null,
      "outputs": [
        {
          "output_type": "stream",
          "name": "stderr",
          "text": [
            "\n",
            "Attaching package: ‘dplyr’\n",
            "\n",
            "\n",
            "The following objects are masked from ‘package:stats’:\n",
            "\n",
            "    filter, lag\n",
            "\n",
            "\n",
            "The following objects are masked from ‘package:base’:\n",
            "\n",
            "    intersect, setdiff, setequal, union\n",
            "\n",
            "\n"
          ]
        }
      ]
    },
    {
      "cell_type": "code",
      "metadata": {
        "trusted": true,
        "id": "sVh_j3WgIzQX",
        "outputId": "8e5a7b5e-0b22-44bf-d58a-0de5cc772fe3",
        "colab": {
          "base_uri": "https://localhost:8080/",
          "height": 437
        }
      },
      "source": [
        "df %>% \n",
        "  ggplot() + \n",
        "  aes(x = est) +\n",
        "  geom_histogram(\n",
        "    bins = 16,\n",
        "    fill = \"white\",\n",
        "    color = \"black\",\n",
        "    aes(y = ..density..)) +\n",
        "  stat_function( fun = function(x){\n",
        "    dnorm(x, mean = mu_est, sd = sd_est)\n",
        "  },col = \"blue\") + \n",
        "  stat_function( fun = function(x){\n",
        "    dnorm(x, mean = 171.8, sd = 5)\n",
        "  },col = \"red\") +\n",
        "  geom_density(col = \"green\")"
      ],
      "execution_count": null,
      "outputs": [
        {
          "output_type": "display_data",
          "data": {
            "text/plain": [
              "plot without title"
            ],
            "image/png": "[encoded data removed]"
          },
          "metadata": {
            "image/png": {
              "width": 420,
              "height": 420
            }
          }
        }
      ]
    },
    {
      "cell_type": "code",
      "metadata": {
        "trusted": true,
        "id": "k3J42K9PIzQX"
      },
      "source": [
        ""
      ],
      "execution_count": null,
      "outputs": []
    },
    {
      "cell_type": "markdown",
      "metadata": {
        "id": "fMwNisC-IzQX"
      },
      "source": [
        "# II)Distribucion binomial\n",
        "## Contexto\n",
        "Cuando una variable aleatoria representa la cantidad de éxitos en $n$ ensayos independientes de tipo Bernoulli (0 o 1), se dice que dicha variable sigue una distribución binomial.\n",
        "\n",
        "## Función de probabilidad\n",
        "\n",
        "\n",
        "$$p(x) = {n\\choose x}p^x(1-p)^{n-x}$$\n",
        "Donde $n$ es el total de ensayos realizados y $x$ es la cantidad de éxitos observados y $p$ es la probabilidad de éxito del evento de interés.\n",
        "\n",
        "## En R...\n",
        "\n",
        "* `dbinom(x, size, prob, log = FALSE)`: Evalúa la función de masa. En el caso discreto corresponde a la probabilidad del evento.\n",
        "* `pbinom(q, size, prob, lower.tail = TRUE, log.p = FALSE)`: Calcula la probabilidad acumulada.\n",
        "* `qbinom(p, size, prob, lower.tail = TRUE, log.p = FALSE)`: Retorna cuantiles de la distribución.\n",
        "* `rbinom(n, size, prob)`: Genera muestras aleatorias.\n",
        "\n",
        "**P2.** Suponga que un spot publicitario de un artículo tiene una tasa de efectividad de 20% sobre una determinada población.\n",
        "\n",
        "**a)** Suponga que se logra llegar con el spot a 100 personas. ¿Cuál es la probabilidad de que \n",
        " al menos 30  personas compren el artículo ofrecido?"
      ]
    },
    {
      "cell_type": "code",
      "metadata": {
        "trusted": true,
        "id": "MOm-FppMIzQX",
        "outputId": "e72eb21d-497c-413a-9a80-7fc05ca97ea7",
        "colab": {
          "base_uri": "https://localhost:8080/",
          "height": 52
        }
      },
      "source": [
        "# Identifiquemos algunos elementos como\n",
        "# Experimento : Hacer llegar el spot a las 100 personas y registrar el número de clientes que efectivamente compraron el artículo.\n",
        "# Variable aleatoria : X: \"el número de clientes (de los 100) que compraron el artículo\"\n",
        "# Espacio muestral : {0,1,2,...,100}\n",
        "#-------parámetros de pbinom ---------\n",
        "#size (n): 100\n",
        "#prob (p): 0.2\n",
        "\n",
        "# Observaciòn sobre P(X >= 30)\n",
        "1- pbinom(29, size = 100, prob = 0.2) # 1-P(X <= 29) =  P(X >= 30)\n",
        "pbinom(29, size = 100, prob = 0.2, lower.tail = F) # o equivalentemente\n",
        "\n",
        "\n"
      ],
      "execution_count": null,
      "outputs": [
        {
          "output_type": "display_data",
          "data": {
            "text/html": [
              "0.0112489787209917"
            ],
            "text/markdown": "0.0112489787209917",
            "text/latex": "0.0112489787209917",
            "text/plain": [
              "[1] 0.01124898"
            ]
          },
          "metadata": {}
        },
        {
          "output_type": "display_data",
          "data": {
            "text/html": [
              "0.0112489787209917"
            ],
            "text/markdown": "0.0112489787209917",
            "text/latex": "0.0112489787209917",
            "text/plain": [
              "[1] 0.01124898"
            ]
          },
          "metadata": {}
        }
      ]
    },
    {
      "cell_type": "code",
      "source": [
        " pbinom(3, size = 100, prob = 0.2)\n",
        " dbinom(0, size = 100, prob = 0.2) + dbinom(1, size = 100, prob = 0.2)+dbinom(2, size = 100, prob = 0.2)+dbinom(3, size = 100, prob = 0.2)"
      ],
      "metadata": {
        "id": "SALkL_Ea39x7",
        "outputId": "746cdc97-ebcd-4818-d8d6-5d4f9456004d",
        "colab": {
          "base_uri": "https://localhost:8080/",
          "height": 52
        }
      },
      "execution_count": null,
      "outputs": [
        {
          "output_type": "display_data",
          "data": {
            "text/html": [
              "5.82986964952077e-07"
            ],
            "text/markdown": "5.82986964952077e-07",
            "text/latex": "5.82986964952077e-07",
            "text/plain": [
              "[1] 5.82987e-07"
            ]
          },
          "metadata": {}
        },
        {
          "output_type": "display_data",
          "data": {
            "text/html": [
              "5.82986964952077e-07"
            ],
            "text/markdown": "5.82986964952077e-07",
            "text/latex": "5.82986964952077e-07",
            "text/plain": [
              "[1] 5.82987e-07"
            ]
          },
          "metadata": {}
        }
      ]
    },
    {
      "cell_type": "code",
      "metadata": {
        "trusted": true,
        "id": "hNMwMfgAIzQX",
        "outputId": "97fc81c3-65c5-4c52-e04d-79bd0c08d1c0",
        "colab": {
          "base_uri": "https://localhost:8080/",
          "height": 52
        }
      },
      "source": [
        "# ¿Cuál es la probabilidad de que exactamente 30 personas compren el artículo ofrecido?\n",
        "dbinom(30, size = 100, prob = 0.2) \n",
        "# otra alternativa\n",
        "(pbinom(30, size = 100, prob = 0.2) - pbinom(29, size = 100, prob = 0.2) )\n",
        "\n",
        "\n",
        "\n",
        "\n"
      ],
      "execution_count": null,
      "outputs": [
        {
          "output_type": "display_data",
          "data": {
            "text/html": [
              "0.00518964323994865"
            ],
            "text/markdown": "0.00518964323994865",
            "text/latex": "0.00518964323994865",
            "text/plain": [
              "[1] 0.005189643"
            ]
          },
          "metadata": {}
        },
        {
          "output_type": "display_data",
          "data": {
            "text/html": [
              "'0.519 %'"
            ],
            "text/markdown": "'0.519 %'",
            "text/latex": "'0.519 \\%'",
            "text/plain": [
              "[1] \"0.519 %\""
            ]
          },
          "metadata": {}
        }
      ]
    },
    {
      "cell_type": "markdown",
      "metadata": {
        "id": "cNebkKaeIzQX"
      },
      "source": [
        "**P3.** En una localidad se sabe que el 70% de las casas tienen un televisor.  Se quiere realizar una encuesta a 8 casas ¿cuál es la probabilidad de que 6 o más de ellas tengan televisor?"
      ]
    },
    {
      "cell_type": "code",
      "metadata": {
        "trusted": true,
        "id": "nb9XiMpSIzQX",
        "outputId": "b18e98d9-25e0-428e-b605-6059cba55301",
        "colab": {
          "base_uri": "https://localhost:8080/",
          "height": 34
        }
      },
      "source": [
        "\n",
        "# size = 8 \n",
        "# prob = 0.7\n",
        "\n",
        "1-pbinom(5, size = 8, prob = 0.7)\n",
        "\n",
        "#Un 55% de prob de que 6 o más casas tengan tv."
      ],
      "execution_count": null,
      "outputs": [
        {
          "output_type": "display_data",
          "data": {
            "text/html": [
              "0.55177381"
            ],
            "text/markdown": "0.55177381",
            "text/latex": "0.55177381",
            "text/plain": [
              "[1] 0.5517738"
            ]
          },
          "metadata": {}
        }
      ]
    },
    {
      "cell_type": "markdown",
      "metadata": {
        "id": "9SSV-KEkIzQX"
      },
      "source": [
        "## Lanzando una moneda \n",
        "**P4** Supongamos que una **honesta** se lanza 14 veces y se anota el número veces que se obtuvo cara.\n",
        "\n",
        "**a)** ¿Cuál es la probabilidad de obtener exactamente 4 caras? ¿y al menos 10?"
      ]
    },
    {
      "cell_type": "code",
      "metadata": {
        "trusted": true,
        "id": "MyXXdYQ8IzQX",
        "outputId": "3c739602-d07c-426d-c1fe-24ac709446ff",
        "colab": {
          "base_uri": "https://localhost:8080/",
          "height": 52
        }
      },
      "source": [
        "#size = n = 14, y prob = p = 0.5 ?\n",
        "\n",
        "dbinom(4,size = 14, prob = 0.5) #6% de prob de obtener 4 caras\n",
        "\n",
        "pbinom(9,size = 14, prob = 0.5,lower.tail = F)# 9% de obtener al menos 10 caras"
      ],
      "execution_count": null,
      "outputs": [
        {
          "output_type": "display_data",
          "data": {
            "text/html": [
              "0.0610961914062499"
            ],
            "text/markdown": "0.0610961914062499",
            "text/latex": "0.0610961914062499",
            "text/plain": [
              "[1] 0.06109619"
            ]
          },
          "metadata": {}
        },
        {
          "output_type": "display_data",
          "data": {
            "text/html": [
              "0.08978271484375"
            ],
            "text/markdown": "0.08978271484375",
            "text/latex": "0.08978271484375",
            "text/plain": [
              "[1] 0.08978271"
            ]
          },
          "metadata": {}
        }
      ]
    },
    {
      "cell_type": "markdown",
      "metadata": {
        "id": "AlXH-gaYIzQY"
      },
      "source": [
        "  \n",
        "**b)** Si se repite el experimento 5 veces. ¿Qué proporción de caras se debería esperar?¿y si se repite más veces?  Utillice la función rbinom para simular el experimento 1000 veces."
      ]
    },
    {
      "cell_type": "code",
      "metadata": {
        "trusted": true,
        "id": "bVAWrKGZIzQY"
      },
      "source": [
        "# simulamos un experimento binomial\n",
        "set.seed(666)\n",
        "N <- 1000\n",
        "lanzamientos <- rbinom(N, size = 14, prob = 0.5)"
      ],
      "execution_count": null,
      "outputs": []
    },
    {
      "cell_type": "code",
      "source": [
        "lanzamientos"
      ],
      "metadata": {
        "id": "-XN-XsXP8SRM",
        "outputId": "0494f436-4395-46ed-cc14-84aa2540188a",
        "colab": {
          "base_uri": "https://localhost:8080/",
          "height": 191
        }
      },
      "execution_count": null,
      "outputs": [
        {
          "output_type": "display_data",
          "data": {
            "text/html": [
              "<style>\n",
              ".list-inline {list-style: none; margin:0; padding: 0}\n",
              ".list-inline>li {display: inline-block}\n",
              ".list-inline>li:not(:last-child)::after {content: \"\\00b7\"; padding: 0 .5ex}\n",
              "</style>\n",
              "<ol class=list-inline><li>8</li><li>5</li><li>11</li><li>5</li><li>6</li><li>8</li><li>11</li><li>7</li><li>3</li><li>6</li><li>8</li><li>3</li><li>5</li><li>5</li><li>5</li><li>9</li><li>4</li><li>9</li><li>7</li><li>7</li><li>11</li><li>7</li><li>4</li><li>5</li><li>9</li><li>6</li><li>4</li><li>8</li><li>7</li><li>9</li><li>7</li><li>7</li><li>9</li><li>7</li><li>8</li><li>7</li><li>6</li><li>9</li><li>8</li><li>7</li><li>6</li><li>7</li><li>5</li><li>11</li><li>9</li><li>8</li><li>6</li><li>8</li><li>7</li><li>11</li><li>4</li><li>4</li><li>5</li><li>8</li><li>4</li><li>8</li><li>5</li><li>9</li><li>4</li><li>4</li><li>8</li><li>9</li><li>6</li><li>8</li><li>10</li><li>6</li><li>6</li><li>10</li><li>7</li><li>10</li><li>7</li><li>6</li><li>8</li><li>9</li><li>4</li><li>9</li><li>7</li><li>4</li><li>11</li><li>10</li><li>8</li><li>8</li><li>6</li><li>9</li><li>6</li><li>8</li><li>10</li><li>5</li><li>8</li><li>9</li><li>5</li><li>4</li><li>6</li><li>7</li><li>7</li><li>5</li><li>8</li><li>7</li><li>8</li><li>8</li><li>7</li><li>6</li><li>9</li><li>7</li><li>6</li><li>11</li><li>6</li><li>6</li><li>6</li><li>8</li><li>5</li><li>6</li><li>7</li><li>7</li><li>6</li><li>9</li><li>8</li><li>6</li><li>9</li><li>9</li><li>5</li><li>7</li><li>5</li><li>9</li><li>5</li><li>8</li><li>11</li><li>3</li><li>8</li><li>5</li><li>6</li><li>7</li><li>7</li><li>10</li><li>8</li><li>6</li><li>10</li><li>7</li><li>7</li><li>6</li><li>6</li><li>4</li><li>7</li><li>8</li><li>8</li><li>5</li><li>7</li><li>5</li><li>5</li><li>4</li><li>7</li><li>6</li><li>6</li><li>7</li><li>2</li><li>8</li><li>6</li><li>5</li><li>6</li><li>4</li><li>10</li><li>5</li><li>9</li><li>8</li><li>6</li><li>10</li><li>5</li><li>6</li><li>7</li><li>9</li><li>9</li><li>8</li><li>8</li><li>6</li><li>10</li><li>7</li><li>7</li><li>9</li><li>5</li><li>8</li><li>6</li><li>5</li><li>5</li><li>6</li><li>8</li><li>7</li><li>8</li><li>7</li><li>5</li><li>7</li><li>8</li><li>8</li><li>8</li><li>4</li><li>6</li><li>6</li><li>7</li><li>6</li><li>7</li><li>8</li><li>⋯</li><li>6</li><li>9</li><li>9</li><li>6</li><li>8</li><li>9</li><li>4</li><li>6</li><li>6</li><li>7</li><li>9</li><li>7</li><li>8</li><li>9</li><li>5</li><li>7</li><li>9</li><li>8</li><li>7</li><li>8</li><li>6</li><li>9</li><li>8</li><li>5</li><li>6</li><li>6</li><li>9</li><li>5</li><li>8</li><li>8</li><li>9</li><li>7</li><li>9</li><li>4</li><li>11</li><li>9</li><li>4</li><li>8</li><li>7</li><li>9</li><li>7</li><li>9</li><li>6</li><li>10</li><li>8</li><li>9</li><li>5</li><li>6</li><li>9</li><li>3</li><li>9</li><li>5</li><li>6</li><li>5</li><li>7</li><li>7</li><li>7</li><li>3</li><li>9</li><li>6</li><li>8</li><li>8</li><li>7</li><li>6</li><li>7</li><li>7</li><li>7</li><li>5</li><li>6</li><li>7</li><li>6</li><li>4</li><li>8</li><li>9</li><li>4</li><li>6</li><li>8</li><li>10</li><li>7</li><li>7</li><li>8</li><li>6</li><li>8</li><li>7</li><li>5</li><li>9</li><li>6</li><li>6</li><li>7</li><li>8</li><li>7</li><li>11</li><li>7</li><li>8</li><li>9</li><li>6</li><li>9</li><li>9</li><li>5</li><li>6</li><li>5</li><li>7</li><li>5</li><li>5</li><li>9</li><li>8</li><li>7</li><li>4</li><li>6</li><li>5</li><li>6</li><li>10</li><li>10</li><li>7</li><li>11</li><li>8</li><li>6</li><li>9</li><li>6</li><li>4</li><li>6</li><li>8</li><li>10</li><li>3</li><li>8</li><li>8</li><li>8</li><li>6</li><li>7</li><li>7</li><li>5</li><li>5</li><li>9</li><li>7</li><li>5</li><li>7</li><li>5</li><li>4</li><li>6</li><li>4</li><li>10</li><li>10</li><li>5</li><li>8</li><li>7</li><li>6</li><li>4</li><li>5</li><li>6</li><li>8</li><li>5</li><li>9</li><li>5</li><li>7</li><li>8</li><li>4</li><li>7</li><li>5</li><li>6</li><li>7</li><li>8</li><li>5</li><li>8</li><li>7</li><li>8</li><li>8</li><li>8</li><li>4</li><li>4</li><li>4</li><li>9</li><li>5</li><li>6</li><li>5</li><li>5</li><li>3</li><li>7</li><li>5</li><li>9</li><li>7</li><li>10</li><li>8</li><li>8</li><li>5</li><li>7</li><li>9</li><li>7</li><li>7</li><li>7</li><li>5</li><li>5</li><li>9</li><li>9</li><li>7</li><li>7</li><li>6</li><li>11</li><li>10</li><li>10</li><li>6</li></ol>\n"
            ],
            "text/markdown": "1. 8\n2. 5\n3. 11\n4. 5\n5. 6\n6. 8\n7. 11\n8. 7\n9. 3\n10. 6\n11. 8\n12. 3\n13. 5\n14. 5\n15. 5\n16. 9\n17. 4\n18. 9\n19. 7\n20. 7\n21. 11\n22. 7\n23. 4\n24. 5\n25. 9\n26. 6\n27. 4\n28. 8\n29. 7\n30. 9\n31. 7\n32. 7\n33. 9\n34. 7\n35. 8\n36. 7\n37. 6\n38. 9\n39. 8\n40. 7\n41. 6\n42. 7\n43. 5\n44. 11\n45. 9\n46. 8\n47. 6\n48. 8\n49. 7\n50. 11\n51. 4\n52. 4\n53. 5\n54. 8\n55. 4\n56. 8\n57. 5\n58. 9\n59. 4\n60. 4\n61. 8\n62. 9\n63. 6\n64. 8\n65. 10\n66. 6\n67. 6\n68. 10\n69. 7\n70. 10\n71. 7\n72. 6\n73. 8\n74. 9\n75. 4\n76. 9\n77. 7\n78. 4\n79. 11\n80. 10\n81. 8\n82. 8\n83. 6\n84. 9\n85. 6\n86. 8\n87. 10\n88. 5\n89. 8\n90. 9\n91. 5\n92. 4\n93. 6\n94. 7\n95. 7\n96. 5\n97. 8\n98. 7\n99. 8\n100. 8\n101. 7\n102. 6\n103. 9\n104. 7\n105. 6\n106. 11\n107. 6\n108. 6\n109. 6\n110. 8\n111. 5\n112. 6\n113. 7\n114. 7\n115. 6\n116. 9\n117. 8\n118. 6\n119. 9\n120. 9\n121. 5\n122. 7\n123. 5\n124. 9\n125. 5\n126. 8\n127. 11\n128. 3\n129. 8\n130. 5\n131. 6\n132. 7\n133. 7\n134. 10\n135. 8\n136. 6\n137. 10\n138. 7\n139. 7\n140. 6\n141. 6\n142. 4\n143. 7\n144. 8\n145. 8\n146. 5\n147. 7\n148. 5\n149. 5\n150. 4\n151. 7\n152. 6\n153. 6\n154. 7\n155. 2\n156. 8\n157. 6\n158. 5\n159. 6\n160. 4\n161. 10\n162. 5\n163. 9\n164. 8\n165. 6\n166. 10\n167. 5\n168. 6\n169. 7\n170. 9\n171. 9\n172. 8\n173. 8\n174. 6\n175. 10\n176. 7\n177. 7\n178. 9\n179. 5\n180. 8\n181. 6\n182. 5\n183. 5\n184. 6\n185. 8\n186. 7\n187. 8\n188. 7\n189. 5\n190. 7\n191. 8\n192. 8\n193. 8\n194. 4\n195. 6\n196. 6\n197. 7\n198. 6\n199. 7\n200. 8\n201. ⋯\n202. 6\n203. 9\n204. 9\n205. 6\n206. 8\n207. 9\n208. 4\n209. 6\n210. 6\n211. 7\n212. 9\n213. 7\n214. 8\n215. 9\n216. 5\n217. 7\n218. 9\n219. 8\n220. 7\n221. 8\n222. 6\n223. 9\n224. 8\n225. 5\n226. 6\n227. 6\n228. 9\n229. 5\n230. 8\n231. 8\n232. 9\n233. 7\n234. 9\n235. 4\n236. 11\n237. 9\n238. 4\n239. 8\n240. 7\n241. 9\n242. 7\n243. 9\n244. 6\n245. 10\n246. 8\n247. 9\n248. 5\n249. 6\n250. 9\n251. 3\n252. 9\n253. 5\n254. 6\n255. 5\n256. 7\n257. 7\n258. 7\n259. 3\n260. 9\n261. 6\n262. 8\n263. 8\n264. 7\n265. 6\n266. 7\n267. 7\n268. 7\n269. 5\n270. 6\n271. 7\n272. 6\n273. 4\n274. 8\n275. 9\n276. 4\n277. 6\n278. 8\n279. 10\n280. 7\n281. 7\n282. 8\n283. 6\n284. 8\n285. 7\n286. 5\n287. 9\n288. 6\n289. 6\n290. 7\n291. 8\n292. 7\n293. 11\n294. 7\n295. 8\n296. 9\n297. 6\n298. 9\n299. 9\n300. 5\n301. 6\n302. 5\n303. 7\n304. 5\n305. 5\n306. 9\n307. 8\n308. 7\n309. 4\n310. 6\n311. 5\n312. 6\n313. 10\n314. 10\n315. 7\n316. 11\n317. 8\n318. 6\n319. 9\n320. 6\n321. 4\n322. 6\n323. 8\n324. 10\n325. 3\n326. 8\n327. 8\n328. 8\n329. 6\n330. 7\n331. 7\n332. 5\n333. 5\n334. 9\n335. 7\n336. 5\n337. 7\n338. 5\n339. 4\n340. 6\n341. 4\n342. 10\n343. 10\n344. 5\n345. 8\n346. 7\n347. 6\n348. 4\n349. 5\n350. 6\n351. 8\n352. 5\n353. 9\n354. 5\n355. 7\n356. 8\n357. 4\n358. 7\n359. 5\n360. 6\n361. 7\n362. 8\n363. 5\n364. 8\n365. 7\n366. 8\n367. 8\n368. 8\n369. 4\n370. 4\n371. 4\n372. 9\n373. 5\n374. 6\n375. 5\n376. 5\n377. 3\n378. 7\n379. 5\n380. 9\n381. 7\n382. 10\n383. 8\n384. 8\n385. 5\n386. 7\n387. 9\n388. 7\n389. 7\n390. 7\n391. 5\n392. 5\n393. 9\n394. 9\n395. 7\n396. 7\n397. 6\n398. 11\n399. 10\n400. 10\n401. 6\n\n\n",
            "text/latex": "\\begin{enumerate*}\n\\item 8\n\\item 5\n\\item 11\n\\item 5\n\\item 6\n\\item 8\n\\item 11\n\\item 7\n\\item 3\n\\item 6\n\\item 8\n\\item 3\n\\item 5\n\\item 5\n\\item 5\n\\item 9\n\\item 4\n\\item 9\n\\item 7\n\\item 7\n\\item 11\n\\item 7\n\\item 4\n\\item 5\n\\item 9\n\\item 6\n\\item 4\n\\item 8\n\\item 7\n\\item 9\n\\item 7\n\\item 7\n\\item 9\n\\item 7\n\\item 8\n\\item 7\n\\item 6\n\\item 9\n\\item 8\n\\item 7\n\\item 6\n\\item 7\n\\item 5\n\\item 11\n\\item 9\n\\item 8\n\\item 6\n\\item 8\n\\item 7\n\\item 11\n\\item 4\n\\item 4\n\\item 5\n\\item 8\n\\item 4\n\\item 8\n\\item 5\n\\item 9\n\\item 4\n\\item 4\n\\item 8\n\\item 9\n\\item 6\n\\item 8\n\\item 10\n\\item 6\n\\item 6\n\\item 10\n\\item 7\n\\item 10\n\\item 7\n\\item 6\n\\item 8\n\\item 9\n\\item 4\n\\item 9\n\\item 7\n\\item 4\n\\item 11\n\\item 10\n\\item 8\n\\item 8\n\\item 6\n\\item 9\n\\item 6\n\\item 8\n\\item 10\n\\item 5\n\\item 8\n\\item 9\n\\item 5\n\\item 4\n\\item 6\n\\item 7\n\\item 7\n\\item 5\n\\item 8\n\\item 7\n\\item 8\n\\item 8\n\\item 7\n\\item 6\n\\item 9\n\\item 7\n\\item 6\n\\item 11\n\\item 6\n\\item 6\n\\item 6\n\\item 8\n\\item 5\n\\item 6\n\\item 7\n\\item 7\n\\item 6\n\\item 9\n\\item 8\n\\item 6\n\\item 9\n\\item 9\n\\item 5\n\\item 7\n\\item 5\n\\item 9\n\\item 5\n\\item 8\n\\item 11\n\\item 3\n\\item 8\n\\item 5\n\\item 6\n\\item 7\n\\item 7\n\\item 10\n\\item 8\n\\item 6\n\\item 10\n\\item 7\n\\item 7\n\\item 6\n\\item 6\n\\item 4\n\\item 7\n\\item 8\n\\item 8\n\\item 5\n\\item 7\n\\item 5\n\\item 5\n\\item 4\n\\item 7\n\\item 6\n\\item 6\n\\item 7\n\\item 2\n\\item 8\n\\item 6\n\\item 5\n\\item 6\n\\item 4\n\\item 10\n\\item 5\n\\item 9\n\\item 8\n\\item 6\n\\item 10\n\\item 5\n\\item 6\n\\item 7\n\\item 9\n\\item 9\n\\item 8\n\\item 8\n\\item 6\n\\item 10\n\\item 7\n\\item 7\n\\item 9\n\\item 5\n\\item 8\n\\item 6\n\\item 5\n\\item 5\n\\item 6\n\\item 8\n\\item 7\n\\item 8\n\\item 7\n\\item 5\n\\item 7\n\\item 8\n\\item 8\n\\item 8\n\\item 4\n\\item 6\n\\item 6\n\\item 7\n\\item 6\n\\item 7\n\\item 8\n\\item ⋯\n\\item 6\n\\item 9\n\\item 9\n\\item 6\n\\item 8\n\\item 9\n\\item 4\n\\item 6\n\\item 6\n\\item 7\n\\item 9\n\\item 7\n\\item 8\n\\item 9\n\\item 5\n\\item 7\n\\item 9\n\\item 8\n\\item 7\n\\item 8\n\\item 6\n\\item 9\n\\item 8\n\\item 5\n\\item 6\n\\item 6\n\\item 9\n\\item 5\n\\item 8\n\\item 8\n\\item 9\n\\item 7\n\\item 9\n\\item 4\n\\item 11\n\\item 9\n\\item 4\n\\item 8\n\\item 7\n\\item 9\n\\item 7\n\\item 9\n\\item 6\n\\item 10\n\\item 8\n\\item 9\n\\item 5\n\\item 6\n\\item 9\n\\item 3\n\\item 9\n\\item 5\n\\item 6\n\\item 5\n\\item 7\n\\item 7\n\\item 7\n\\item 3\n\\item 9\n\\item 6\n\\item 8\n\\item 8\n\\item 7\n\\item 6\n\\item 7\n\\item 7\n\\item 7\n\\item 5\n\\item 6\n\\item 7\n\\item 6\n\\item 4\n\\item 8\n\\item 9\n\\item 4\n\\item 6\n\\item 8\n\\item 10\n\\item 7\n\\item 7\n\\item 8\n\\item 6\n\\item 8\n\\item 7\n\\item 5\n\\item 9\n\\item 6\n\\item 6\n\\item 7\n\\item 8\n\\item 7\n\\item 11\n\\item 7\n\\item 8\n\\item 9\n\\item 6\n\\item 9\n\\item 9\n\\item 5\n\\item 6\n\\item 5\n\\item 7\n\\item 5\n\\item 5\n\\item 9\n\\item 8\n\\item 7\n\\item 4\n\\item 6\n\\item 5\n\\item 6\n\\item 10\n\\item 10\n\\item 7\n\\item 11\n\\item 8\n\\item 6\n\\item 9\n\\item 6\n\\item 4\n\\item 6\n\\item 8\n\\item 10\n\\item 3\n\\item 8\n\\item 8\n\\item 8\n\\item 6\n\\item 7\n\\item 7\n\\item 5\n\\item 5\n\\item 9\n\\item 7\n\\item 5\n\\item 7\n\\item 5\n\\item 4\n\\item 6\n\\item 4\n\\item 10\n\\item 10\n\\item 5\n\\item 8\n\\item 7\n\\item 6\n\\item 4\n\\item 5\n\\item 6\n\\item 8\n\\item 5\n\\item 9\n\\item 5\n\\item 7\n\\item 8\n\\item 4\n\\item 7\n\\item 5\n\\item 6\n\\item 7\n\\item 8\n\\item 5\n\\item 8\n\\item 7\n\\item 8\n\\item 8\n\\item 8\n\\item 4\n\\item 4\n\\item 4\n\\item 9\n\\item 5\n\\item 6\n\\item 5\n\\item 5\n\\item 3\n\\item 7\n\\item 5\n\\item 9\n\\item 7\n\\item 10\n\\item 8\n\\item 8\n\\item 5\n\\item 7\n\\item 9\n\\item 7\n\\item 7\n\\item 7\n\\item 5\n\\item 5\n\\item 9\n\\item 9\n\\item 7\n\\item 7\n\\item 6\n\\item 11\n\\item 10\n\\item 10\n\\item 6\n\\end{enumerate*}\n",
            "text/plain": [
              "   [1]  8  5 11  5  6  8 11  7  3  6  8  3  5  5  5  9  4  9  7  7 11  7  4  5\n",
              "  [25]  9  6  4  8  7  9  7  7  9  7  8  7  6  9  8  7  6  7  5 11  9  8  6  8\n",
              "  [49]  7 11  4  4  5  8  4  8  5  9  4  4  8  9  6  8 10  6  6 10  7 10  7  6\n",
              "  [73]  8  9  4  9  7  4 11 10  8  8  6  9  6  8 10  5  8  9  5  4  6  7  7  5\n",
              "  [97]  8  7  8  8  7  6  9  7  6 11  6  6  6  8  5  6  7  7  6  9  8  6  9  9\n",
              " [121]  5  7  5  9  5  8 11  3  8  5  6  7  7 10  8  6 10  7  7  6  6  4  7  8\n",
              " [145]  8  5  7  5  5  4  7  6  6  7  2  8  6  5  6  4 10  5  9  8  6 10  5  6\n",
              " [169]  7  9  9  8  8  6 10  7  7  9  5  8  6  5  5  6  8  7  8  7  5  7  8  8\n",
              " [193]  8  4  6  6  7  6  7  8  5  6  4  6 11  8  9  7  5  6  8  8  6  9  8  5\n",
              " [217]  5  6  6  7  5  7  7  8  9  5  4  6  6  6  9  5  4  9  6  8  7  8  3  7\n",
              " [241]  6  8  9  8  8  8  9  8  7  8  9 10  7 10  6  8  8 10  5  5  8  7  8  4\n",
              " [265]  6  8  5  8  6  9  8  6  7  9  1  9  4  6  9  9 12  7  5 10  8  8 10  7\n",
              " [289]  8  6  5  6  8  7 10 10  7  9  7  8  4  5  4  7  7  9  7  9  4  8  8  7\n",
              " [313]  9  9 10  7  8  8  5 11  7  7  9  9  6  6 11  7  5  9  8  8  4  7 10 11\n",
              " [337]  8  4  6  7  6  7  7  7  9  5  7  6  6  5  6  8  6  8  2  9 10  4  7  6\n",
              " [361]  7  9  2  6  4  7  9  8  7  8  9  8  7  8  8  6  8  2  6  8  9 11  3  7\n",
              " [385]  3  7  9  7  9  6  9  9  6 10  5  6  7  6  8  6 11  9  9  6  7  6  9  9\n",
              " [409]  8  8  7  6 11 11 10  9  9  6  7  6  8  7  8  6  8  7  6  5  6  5  8  5\n",
              " [433]  7  9  8  6  6  7  6  6  5  7  7  5  9  9  4  8  9 10  7  9 10  7  7  8\n",
              " [457]  7  6  7 10  7  8  6  6  8  7  9  4  8  5  7  7  4  9  7  5  5  7  6  9\n",
              " [481]  8  6  4  8  5  7  6  6  6  7  7 10  8  6  8  6  4  5  9  6  6  5  8  7\n",
              " [505]  7  8  6  8  9  6  5  8 10  6  4  8  6  8  8  9  4  8 10  6  6  7  8  6\n",
              " [529]  6  7  4  8  8  7  9  7  6  9  6  4  7  6  3  5  5  6  7  8  4  6  6  8\n",
              " [553]  7  8  8  7 10 10  7  6 10  5  5  8  7  6  8 10  2  8  7  9  5  9  5  9\n",
              " [577]  9  7  6  8  6 12  6  7  5  7  4  5  6  8  5 10  7  7  9  8  4  6  6  6\n",
              " [601]  8  8  7  6  6  8  6  6  4  5  7  7  8 12 10  4  7  6 10  6  6  8  4  5\n",
              " [625]  6  8  5  8  6  4  9  7 10  6  6  9  4  6  5  4  4  8  7  8  6  7  5  6\n",
              " [649] 10  4  7  7  9  6  8  9  6  6  8  5  9  8 10  8  7  8  9  6  6  9  7  7\n",
              " [673]  9  6  2  5  9  9  7  6  6  8  5  7 10  8  8  5  8  9  8  5  8 10  9  8\n",
              " [697]  6 11  7  6  7  5  7  9  7  8  5  7  7  7  5  6  7  7 11  8  6  7  5  7\n",
              " [721]  6 10  8  6  9 11  7  7  6 12  7  9  4  5 11  7  5  5  8 10  7 11  8  6\n",
              " [745]  8  9  8  7  8  9  6  8  6  5  4  6  8  8  4  6  6  8  5  6  7  6  5  7\n",
              " [769]  3  8  6 11  8  8  6  6  6  7 11  6  7  8  7  4  3  5  8  8  9  4  9  7\n",
              " [793]  9 10  4  9  6  7 10  3  6  9  9  6  8  9  4  6  6  7  9  7  8  9  5  7\n",
              " [817]  9  8  7  8  6  9  8  5  6  6  9  5  8  8  9  7  9  4 11  9  4  8  7  9\n",
              " [841]  7  9  6 10  8  9  5  6  9  3  9  5  6  5  7  7  7  3  9  6  8  8  7  6\n",
              " [865]  7  7  7  5  6  7  6  4  8  9  4  6  8 10  7  7  8  6  8  7  5  9  6  6\n",
              " [889]  7  8  7 11  7  8  9  6  9  9  5  6  5  7  5  5  9  8  7  4  6  5  6 10\n",
              " [913] 10  7 11  8  6  9  6  4  6  8 10  3  8  8  8  6  7  7  5  5  9  7  5  7\n",
              " [937]  5  4  6  4 10 10  5  8  7  6  4  5  6  8  5  9  5  7  8  4  7  5  6  7\n",
              " [961]  8  5  8  7  8  8  8  4  4  4  9  5  6  5  5  3  7  5  9  7 10  8  8  5\n",
              " [985]  7  9  7  7  7  5  5  9  9  7  7  6 11 10 10  6"
            ]
          },
          "metadata": {}
        }
      ]
    },
    {
      "cell_type": "code",
      "source": [
        "mean(lanzamientos)"
      ],
      "metadata": {
        "id": "2tryiTXf8Uq0",
        "outputId": "03677bfa-2e68-4a8c-993a-34ffb9f5864e",
        "colab": {
          "base_uri": "https://localhost:8080/",
          "height": 34
        }
      },
      "execution_count": null,
      "outputs": [
        {
          "output_type": "display_data",
          "data": {
            "text/html": [
              "7.015"
            ],
            "text/markdown": "7.015",
            "text/latex": "7.015",
            "text/plain": [
              "[1] 7.015"
            ]
          },
          "metadata": {}
        }
      ]
    },
    {
      "cell_type": "code",
      "metadata": {
        "trusted": true,
        "id": "Xz05Mz7kIzQY",
        "outputId": "cf900a66-2bae-4ef6-b6f5-cce75d6c7c06",
        "colab": {
          "base_uri": "https://localhost:8080/",
          "height": 321
        }
      },
      "source": [
        "# podemos construir un gráfico de barras con los conteos\n",
        "df <- data.frame(caras   = lanzamientos)\n",
        "head(df)\n"
      ],
      "execution_count": null,
      "outputs": [
        {
          "output_type": "display_data",
          "data": {
            "text/html": [
              "<table class=\"dataframe\">\n",
              "<caption>A data.frame: 6 × 1</caption>\n",
              "<thead>\n",
              "\t<tr><th></th><th scope=col>caras</th></tr>\n",
              "\t<tr><th></th><th scope=col>&lt;int&gt;</th></tr>\n",
              "</thead>\n",
              "<tbody>\n",
              "\t<tr><th scope=row>1</th><td> 8</td></tr>\n",
              "\t<tr><th scope=row>2</th><td> 5</td></tr>\n",
              "\t<tr><th scope=row>3</th><td>11</td></tr>\n",
              "\t<tr><th scope=row>4</th><td> 5</td></tr>\n",
              "\t<tr><th scope=row>5</th><td> 6</td></tr>\n",
              "\t<tr><th scope=row>6</th><td> 8</td></tr>\n",
              "</tbody>\n",
              "</table>\n"
            ],
            "text/markdown": "\nA data.frame: 6 × 1\n\n| <!--/--> | caras &lt;int&gt; |\n|---|---|\n| 1 |  8 |\n| 2 |  5 |\n| 3 | 11 |\n| 4 |  5 |\n| 5 |  6 |\n| 6 |  8 |\n\n",
            "text/latex": "A data.frame: 6 × 1\n\\begin{tabular}{r|l}\n  & caras\\\\\n  & <int>\\\\\n\\hline\n\t1 &  8\\\\\n\t2 &  5\\\\\n\t3 & 11\\\\\n\t4 &  5\\\\\n\t5 &  6\\\\\n\t6 &  8\\\\\n\\end{tabular}\n",
            "text/plain": [
              "  caras\n",
              "1  8   \n",
              "2  5   \n",
              "3 11   \n",
              "4  5   \n",
              "5  6   \n",
              "6  8   "
            ]
          },
          "metadata": {}
        }
      ]
    },
    {
      "cell_type": "code",
      "source": [
        "experimentos <- df %>%\n",
        "          group_by(caras) %>%\n",
        "          summarise(count = n(),\n",
        "                    freq_obs = n()/N) %>%\n",
        "          mutate(freq_teorica = dbinom(caras,size = 14,prob = 0.5))\n",
        "experimentos"
      ],
      "metadata": {
        "id": "bbWh-xfA9qXa",
        "outputId": "43aa7da6-6cef-48b2-f03b-3b08dc870a0d",
        "colab": {
          "base_uri": "https://localhost:8080/",
          "height": 474
        }
      },
      "execution_count": null,
      "outputs": [
        {
          "output_type": "display_data",
          "data": {
            "text/html": [
              "<table class=\"dataframe\">\n",
              "<caption>A tibble: 12 × 4</caption>\n",
              "<thead>\n",
              "\t<tr><th scope=col>caras</th><th scope=col>count</th><th scope=col>freq_obs</th><th scope=col>freq_teorica</th></tr>\n",
              "\t<tr><th scope=col>&lt;int&gt;</th><th scope=col>&lt;int&gt;</th><th scope=col>&lt;dbl&gt;</th><th scope=col>&lt;dbl&gt;</th></tr>\n",
              "</thead>\n",
              "<tbody>\n",
              "\t<tr><td> 1</td><td>  1</td><td>0.001</td><td>0.0008544922</td></tr>\n",
              "\t<tr><td> 2</td><td>  6</td><td>0.006</td><td>0.0055541992</td></tr>\n",
              "\t<tr><td> 3</td><td> 14</td><td>0.014</td><td>0.0222167969</td></tr>\n",
              "\t<tr><td> 4</td><td> 67</td><td>0.067</td><td>0.0610961914</td></tr>\n",
              "\t<tr><td> 5</td><td>117</td><td>0.117</td><td>0.1221923828</td></tr>\n",
              "\t<tr><td> 6</td><td>195</td><td>0.195</td><td>0.1832885742</td></tr>\n",
              "\t<tr><td> 7</td><td>197</td><td>0.197</td><td>0.2094726563</td></tr>\n",
              "\t<tr><td> 8</td><td>189</td><td>0.189</td><td>0.1832885742</td></tr>\n",
              "\t<tr><td> 9</td><td>129</td><td>0.129</td><td>0.1221923828</td></tr>\n",
              "\t<tr><td>10</td><td> 54</td><td>0.054</td><td>0.0610961914</td></tr>\n",
              "\t<tr><td>11</td><td> 27</td><td>0.027</td><td>0.0222167969</td></tr>\n",
              "\t<tr><td>12</td><td>  4</td><td>0.004</td><td>0.0055541992</td></tr>\n",
              "</tbody>\n",
              "</table>\n"
            ],
            "text/markdown": "\nA tibble: 12 × 4\n\n| caras &lt;int&gt; | count &lt;int&gt; | freq_obs &lt;dbl&gt; | freq_teorica &lt;dbl&gt; |\n|---|---|---|---|\n|  1 |   1 | 0.001 | 0.0008544922 |\n|  2 |   6 | 0.006 | 0.0055541992 |\n|  3 |  14 | 0.014 | 0.0222167969 |\n|  4 |  67 | 0.067 | 0.0610961914 |\n|  5 | 117 | 0.117 | 0.1221923828 |\n|  6 | 195 | 0.195 | 0.1832885742 |\n|  7 | 197 | 0.197 | 0.2094726563 |\n|  8 | 189 | 0.189 | 0.1832885742 |\n|  9 | 129 | 0.129 | 0.1221923828 |\n| 10 |  54 | 0.054 | 0.0610961914 |\n| 11 |  27 | 0.027 | 0.0222167969 |\n| 12 |   4 | 0.004 | 0.0055541992 |\n\n",
            "text/latex": "A tibble: 12 × 4\n\\begin{tabular}{llll}\n caras & count & freq\\_obs & freq\\_teorica\\\\\n <int> & <int> & <dbl> & <dbl>\\\\\n\\hline\n\t  1 &   1 & 0.001 & 0.0008544922\\\\\n\t  2 &   6 & 0.006 & 0.0055541992\\\\\n\t  3 &  14 & 0.014 & 0.0222167969\\\\\n\t  4 &  67 & 0.067 & 0.0610961914\\\\\n\t  5 & 117 & 0.117 & 0.1221923828\\\\\n\t  6 & 195 & 0.195 & 0.1832885742\\\\\n\t  7 & 197 & 0.197 & 0.2094726563\\\\\n\t  8 & 189 & 0.189 & 0.1832885742\\\\\n\t  9 & 129 & 0.129 & 0.1221923828\\\\\n\t 10 &  54 & 0.054 & 0.0610961914\\\\\n\t 11 &  27 & 0.027 & 0.0222167969\\\\\n\t 12 &   4 & 0.004 & 0.0055541992\\\\\n\\end{tabular}\n",
            "text/plain": [
              "   caras count freq_obs freq_teorica\n",
              "1   1      1   0.001    0.0008544922\n",
              "2   2      6   0.006    0.0055541992\n",
              "3   3     14   0.014    0.0222167969\n",
              "4   4     67   0.067    0.0610961914\n",
              "5   5    117   0.117    0.1221923828\n",
              "6   6    195   0.195    0.1832885742\n",
              "7   7    197   0.197    0.2094726563\n",
              "8   8    189   0.189    0.1832885742\n",
              "9   9    129   0.129    0.1221923828\n",
              "10 10     54   0.054    0.0610961914\n",
              "11 11     27   0.027    0.0222167969\n",
              "12 12      4   0.004    0.0055541992"
            ]
          },
          "metadata": {}
        }
      ]
    },
    {
      "cell_type": "code",
      "source": [
        "# En este ejemplo no aparecen el 0, 13 y 14. Así que los añadiremos manualmente\n",
        "\n",
        "df_aux <- data.frame(caras = c(0,13,14),\n",
        "           count = 0,\n",
        "           freq_obs = 0,\n",
        "           freq_teorica = dbinom(c(0,13,14),size = 14, prob = .5))\n",
        "df_aux"
      ],
      "metadata": {
        "id": "zBJZPyQh_hoN",
        "outputId": "d35e1d18-dd76-4d39-e874-01520c539a91",
        "colab": {
          "base_uri": "https://localhost:8080/",
          "height": 192
        }
      },
      "execution_count": null,
      "outputs": [
        {
          "output_type": "display_data",
          "data": {
            "text/html": [
              "<table class=\"dataframe\">\n",
              "<caption>A data.frame: 3 × 4</caption>\n",
              "<thead>\n",
              "\t<tr><th scope=col>caras</th><th scope=col>count</th><th scope=col>freq_obs</th><th scope=col>freq_teorica</th></tr>\n",
              "\t<tr><th scope=col>&lt;dbl&gt;</th><th scope=col>&lt;dbl&gt;</th><th scope=col>&lt;dbl&gt;</th><th scope=col>&lt;dbl&gt;</th></tr>\n",
              "</thead>\n",
              "<tbody>\n",
              "\t<tr><td> 0</td><td>0</td><td>0</td><td>6.103516e-05</td></tr>\n",
              "\t<tr><td>13</td><td>0</td><td>0</td><td>8.544922e-04</td></tr>\n",
              "\t<tr><td>14</td><td>0</td><td>0</td><td>6.103516e-05</td></tr>\n",
              "</tbody>\n",
              "</table>\n"
            ],
            "text/markdown": "\nA data.frame: 3 × 4\n\n| caras &lt;dbl&gt; | count &lt;dbl&gt; | freq_obs &lt;dbl&gt; | freq_teorica &lt;dbl&gt; |\n|---|---|---|---|\n|  0 | 0 | 0 | 6.103516e-05 |\n| 13 | 0 | 0 | 8.544922e-04 |\n| 14 | 0 | 0 | 6.103516e-05 |\n\n",
            "text/latex": "A data.frame: 3 × 4\n\\begin{tabular}{llll}\n caras & count & freq\\_obs & freq\\_teorica\\\\\n <dbl> & <dbl> & <dbl> & <dbl>\\\\\n\\hline\n\t  0 & 0 & 0 & 6.103516e-05\\\\\n\t 13 & 0 & 0 & 8.544922e-04\\\\\n\t 14 & 0 & 0 & 6.103516e-05\\\\\n\\end{tabular}\n",
            "text/plain": [
              "  caras count freq_obs freq_teorica\n",
              "1  0    0     0        6.103516e-05\n",
              "2 13    0     0        8.544922e-04\n",
              "3 14    0     0        6.103516e-05"
            ]
          },
          "metadata": {}
        }
      ]
    },
    {
      "cell_type": "code",
      "source": [
        "experimentos <- bind_rows(experimentos,df_aux)"
      ],
      "metadata": {
        "id": "C9BVOaXxAZsd"
      },
      "execution_count": null,
      "outputs": []
    },
    {
      "cell_type": "code",
      "source": [
        "dbinom(c(0,13,14),size = 14, prob = .5)"
      ],
      "metadata": {
        "id": "N4KAi3Eh_8-N",
        "outputId": "0069a1ed-5d19-4b49-cadc-2bbdf9c3a0cd",
        "colab": {
          "base_uri": "https://localhost:8080/",
          "height": 34
        }
      },
      "execution_count": null,
      "outputs": [
        {
          "output_type": "display_data",
          "data": {
            "text/html": [
              "<style>\n",
              ".list-inline {list-style: none; margin:0; padding: 0}\n",
              ".list-inline>li {display: inline-block}\n",
              ".list-inline>li:not(:last-child)::after {content: \"\\00b7\"; padding: 0 .5ex}\n",
              "</style>\n",
              "<ol class=list-inline><li>6.103515625e-05</li><li>0.000854492187499999</li><li>6.103515625e-05</li></ol>\n"
            ],
            "text/markdown": "1. 6.103515625e-05\n2. 0.000854492187499999\n3. 6.103515625e-05\n\n\n",
            "text/latex": "\\begin{enumerate*}\n\\item 6.103515625e-05\n\\item 0.000854492187499999\n\\item 6.103515625e-05\n\\end{enumerate*}\n",
            "text/plain": [
              "[1] 6.103516e-05 8.544922e-04 6.103516e-05"
            ]
          },
          "metadata": {}
        }
      ]
    },
    {
      "cell_type": "code",
      "metadata": {
        "trusted": true,
        "id": "hMv43FOOIzQY",
        "outputId": "30fd5b91-7b8c-4eb0-fe94-97b189e82465",
        "colab": {
          "base_uri": "https://localhost:8080/",
          "height": 437
        }
      },
      "source": [
        "# gráfio ggplot \n",
        "\n",
        "experimentos %>% \n",
        "          ggplot() +\n",
        "          aes(x = caras,y = freq_obs) +\n",
        "          geom_bar(stat = \"identity\") +\n",
        "          geom_point(aes(y = freq_teorica)) +\n",
        "          geom_line(aes(y = freq_teorica))\n",
        "\n"
      ],
      "execution_count": null,
      "outputs": [
        {
          "output_type": "display_data",
          "data": {
            "text/plain": [
              "plot without title"
            ],
            "image/png": "[encoded data removed]"
          },
          "metadata": {
            "image/png": {
              "width": 420,
              "height": 420
            }
          }
        }
      ]
    },
    {
      "cell_type": "code",
      "metadata": {
        "trusted": true,
        "id": "Y85JLZ7NIzQY"
      },
      "source": [
        "# Pero si queremos visualizar las frecuencias relativas observadas?\n",
        "# Adicionalmente nos interesaría poder visualizar la función de masa de probabilidad.\n"
      ],
      "execution_count": null,
      "outputs": []
    },
    {
      "cell_type": "code",
      "metadata": {
        "trusted": true,
        "id": "Rmq-HnPAIzQY"
      },
      "source": [
        ""
      ],
      "execution_count": null,
      "outputs": []
    },
    {
      "cell_type": "code",
      "metadata": {
        "trusted": true,
        "id": "mFBsXgatIzQY"
      },
      "source": [
        ""
      ],
      "execution_count": null,
      "outputs": []
    },
    {
      "cell_type": "markdown",
      "metadata": {
        "id": "4LDcECLUIzQY"
      },
      "source": [
        "# III) Distribución poisson\n",
        "## Contexto\n",
        "Usualmente una variable aleatoria poisson, representa la cantidad de eventos registrados en un interval fijo de tiempo con una cierta tasa de ocurrencia.\n",
        "## Función de probabilidad\n",
        "\n",
        "$$p(x) = \\lambda^x \\dfrac{e^{-\\lambda}}{x!}$$\n",
        "\n",
        "Donde $\\lambda$ corresponde a la tasa de ocurrencia y $x$ la cantida de eventos observados.\n",
        "\n",
        "## Funciones en R\n",
        " * `dpois(x, lambda, log = FALSE)`\n",
        " * `ppois(q, lambda, lower.tail = TRUE, log.p = FALSE)`\n",
        " * `qpois(p, lambda, lower.tail = TRUE, log.p = FALSE)`\n",
        " * `rpois(n, lambda)`"
      ]
    },
    {
      "cell_type": "code",
      "metadata": {
        "trusted": true,
        "id": "RbyWC9WRIzQY"
      },
      "source": [
        ""
      ],
      "execution_count": null,
      "outputs": []
    },
    {
      "cell_type": "markdown",
      "metadata": {
        "id": "9gR972O-IzQY"
      },
      "source": [
        "** P5. ** Suponga que en un restaurant de comida se tiene una tasa de llegada de clientes de 2 clientes por cada 3 minutos en promedio. \n",
        "¿Cuál es la probabilidad de que 5 o más clientes lleguen en un período de 9 minutos?.\n"
      ]
    },
    {
      "cell_type": "code",
      "metadata": {
        "trusted": true,
        "id": "O57Ov87FIzQY"
      },
      "source": [
        "# La tasa de éxito en una dist. poisson es el parámetro lambda \n",
        "# Dada la info, se tiene una tasa de 6 clientes cada 9 minutos\n",
        "\n",
        "\n",
        "\n",
        "\n"
      ],
      "execution_count": null,
      "outputs": []
    },
    {
      "cell_type": "markdown",
      "metadata": {
        "trusted": true,
        "id": "N3dXrqZSIzQY"
      },
      "source": [
        "**P6.** Se sabe que la tasa de falla en la elaboración de ampolletas sigue una distribución poisson, con una tasa de falla de 3 ampolletas defectuosas por semana.\n",
        "¿Cuál es la probabilidad de que al cabo de un mes se genere un total de 20 ampolletas defectuosas o más?\n",
        "\n"
      ]
    },
    {
      "cell_type": "code",
      "metadata": {
        "trusted": true,
        "id": "d8fs6wynIzQY"
      },
      "source": [
        "# lambda = 3*4 = 12 ampolletas defectuosas por mes\n",
        "\n"
      ],
      "execution_count": null,
      "outputs": []
    },
    {
      "cell_type": "code",
      "metadata": {
        "trusted": true,
        "id": "D5uVa3ICIzQY"
      },
      "source": [
        ""
      ],
      "execution_count": null,
      "outputs": []
    }
  ]
}